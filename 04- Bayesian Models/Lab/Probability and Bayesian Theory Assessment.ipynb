{
 "cells": [
  {
   "cell_type": "markdown",
   "id": "790ce472",
   "metadata": {},
   "source": [
    "## Machine Learning for Neuroscience, <br>Department of Brain Sciences, Faculty of Medicine, <br> Imperial College London\n",
    "### Contributors: Francesca Palermo, Nan Fletcher-Lloyd, Alex Capstick, Yu Chen\n",
    "**Winter 2022**\n",
    "\n"
   ]
  },
  {
   "cell_type": "markdown",
   "id": "9246f7fe",
   "metadata": {},
   "source": [
    "# Probability and Bayesian Theory"
   ]
  },
  {
   "attachments": {},
   "cell_type": "markdown",
   "id": "4b161ecd",
   "metadata": {},
   "source": [
    "This assessment will test your knowledge of hypothesis testing and Bayesian theory."
   ]
  },
  {
   "cell_type": "markdown",
   "id": "a2c9c13e",
   "metadata": {},
   "source": [
    "## Instructions for Assessment"
   ]
  },
  {
   "attachments": {},
   "cell_type": "markdown",
   "id": "891d7010",
   "metadata": {},
   "source": [
    "Please open a new notebook and complete all tasks/questions as given in the instructions below. At the end of this lab, you will submit your notebook for review. You will receive feedback on each lab, as well as a mark if the lab is summative.\n",
    "\n",
    "Your work will be evaluated based on the following criteria:\n",
    "\n",
    "- code\n",
    "\n",
    "- understanding of methodology\n",
    "\n",
    "- visual presentation of results\n",
    "\n",
    "- accuracy of results\n",
    "\n",
    "Total marks available will be given as a guidance in closed brackets after each question/task."
   ]
  },
  {
   "cell_type": "markdown",
   "id": "1df52f71",
   "metadata": {},
   "source": [
    "### Let's get started!"
   ]
  },
  {
   "cell_type": "markdown",
   "id": "17a0f8c4",
   "metadata": {},
   "source": [
    "*N.B. Remember to import all your dependencies.*"
   ]
  },
  {
   "attachments": {},
   "cell_type": "markdown",
   "id": "ab18ccae",
   "metadata": {},
   "source": [
    "<span style=\"color: red;\"><b>Assessment Part 1) - Hypothesis Testing </b> </span>"
   ]
  },
  {
   "attachments": {},
   "cell_type": "markdown",
   "id": "a95ab9fb",
   "metadata": {},
   "source": [
    "This first section will use the iris dataset."
   ]
  },
  {
   "attachments": {},
   "cell_type": "markdown",
   "id": "ef7f4aeb",
   "metadata": {},
   "source": [
    "\n",
    "1. [1 Mark] What data type are the feature variables in this dataset? Choose from the following:\n",
    "\n",
    "    a)  categorical\n",
    "\n",
    "    b)  continuous\n",
    "\n",
    "    c)  discrete \n",
    "\n",
    "2. [4 Marks] Explain when you would use the following four statistical tests:\n",
    "\n",
    "    a) T Test\n",
    "\n",
    "    b) Z Test\n",
    "\n",
    "    c) ANOVA \n",
    "    \n",
    "    d) Chi-square Test\n",
    "\n",
    "3. [3 Marks] Using just the sepal length feature variable, approximate the distribution.  \n",
    "\n",
    "4. [2 Marks] Rephrase the following question as null and alternative hypotheses: are the sepal lengths different between classes 0, 1 and 2?\n",
    "\n",
    "5. [5 Marks] With reasoning, choose and run a statistical analysis to answer the question above. Report all test statistics and discuss your result. \n",
    "\n"
   ]
  },
  {
   "attachments": {},
   "cell_type": "markdown",
   "id": "ab18ccae",
   "metadata": {},
   "source": [
    "<span style=\"color: red;\"><b>Assessment Part 2) - Bayesian Theory </b> </span>"
   ]
  },
  {
   "attachments": {},
   "cell_type": "markdown",
   "id": "66a5d1a4",
   "metadata": {},
   "source": [
    "1. [2 Marks] State the two assumptions made when using Naive Bayes classifiers.\n",
    "\n",
    "2. [3 Marks] Create a reproducible dataset of 12 feature variables (half of which are informative) across 600 instances, categorised into two classes, and in which the class of interest only makes up around 30% of the dataset. Add noise to your dataset of the value 0.1.\n",
    "\n",
    "3. [10 Marks] Using this data, train and tune your model (with var_smoothing set set to 0.25), evaluating it's performance, explaining your choice of metrics. Compare the difference in performance. "
   ]
  }
 ],
 "metadata": {
  "kernelspec": {
   "display_name": "Python 3.8.8 ('base')",
   "language": "python",
   "name": "python3"
  },
  "language_info": {
   "codemirror_mode": {
    "name": "ipython",
    "version": 3
   },
   "file_extension": ".py",
   "mimetype": "text/x-python",
   "name": "python",
   "nbconvert_exporter": "python",
   "pygments_lexer": "ipython3",
   "version": "3.8.8 (default, Apr 13 2021, 12:59:45) \n[Clang 10.0.0 ]"
  },
  "vscode": {
   "interpreter": {
    "hash": "730e964555fb2542a911b5002c3c4a5ea6b8ea7e74d00811d465953d33b870ef"
   }
  }
 },
 "nbformat": 4,
 "nbformat_minor": 5
}
