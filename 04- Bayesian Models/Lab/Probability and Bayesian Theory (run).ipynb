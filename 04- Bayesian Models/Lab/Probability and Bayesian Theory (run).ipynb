{
 "cells": [
  {
   "cell_type": "markdown",
   "id": "790ce472",
   "metadata": {},
   "source": [
    "## Machine Learning for Neuroscience, <br>Department of Brain Sciences, Faculty of Medicine, <br> Imperial College London\n",
    "### Contributors: Francesca Palermo, Nan Fletcher-Lloyd, Alex Capstick, Yu Chen\n",
    "**Winter 2022**\n",
    "\n"
   ]
  },
  {
   "cell_type": "markdown",
   "id": "9246f7fe",
   "metadata": {},
   "source": [
    "# Probability and Bayesian Theory"
   ]
  },
  {
   "cell_type": "markdown",
   "id": "4b161ecd",
   "metadata": {},
   "source": [
    "This tutorial will focus on probability and Bayesian theory using the machine learning library for Python scikit-learn (https://scikit-learn.org/stable)."
   ]
  },
  {
   "cell_type": "markdown",
   "id": "9bb7b588",
   "metadata": {},
   "source": [
    "## Import Dependencies"
   ]
  },
  {
   "cell_type": "code",
   "execution_count": 1,
   "id": "fa77cbf7",
   "metadata": {},
   "outputs": [],
   "source": [
    "import sklearn as sk\n",
    "from sklearn import datasets\n",
    "import pandas as pd\n",
    "import numpy as np\n",
    "import matplotlib.pyplot as plt\n",
    "import seaborn as sns"
   ]
  },
  {
   "attachments": {},
   "cell_type": "markdown",
   "id": "5b10c736",
   "metadata": {},
   "source": [
    "## Probability Theory"
   ]
  },
  {
   "attachments": {},
   "cell_type": "markdown",
   "id": "0cebf2f0",
   "metadata": {},
   "source": [
    "In this section, we will introduce you to hypothesis testing. \n",
    "\n",
    "Hypothesis testing is a statistical method that is used to make decisions using experimental data. \n",
    "\n",
    "A hypothesis is basically an assumption made about a population parameter and a test evaluates two mutually exclusive statements about a population to determine which statement is best supported by the data. \n",
    "\n",
    "These statements are the null and alternative hypothesis.\n",
    "\n",
    "The null hypothesis suggests that no statistical significance exists in a set of given observations.\n",
    "\n",
    "The alternative hypothesis is contrary to the null hypothesis. It is usually taken to be that the observations are the result of a real effect.\n",
    "\n",
    "Read more about the key terms of hypothesis testing and the different types and when to use them here: https://towardsdatascience.com/hypothesis-testing-in-machine-learning-using-python-a0dc89e169ce"
   ]
  },
  {
   "attachments": {},
   "cell_type": "markdown",
   "id": "b4123af7",
   "metadata": {},
   "source": [
    "Here, we will demonstrate how, with enough data, statistics can enable us to calculate probabilities using real-world observations. \n",
    "\n",
    "Here, probability provides the theory while statistics provides the tools to test that theory using data.\n",
    "\n",
    "In the end, descriptive statistics such as the mean and standard deviation of the data become proxies for theoretical. This is because real-world probabilities are often quite difficult to calculate. As such, we rely on statistics and data.\n",
    "\n",
    "With more and more data, we can become more confident that what we calculate represents the true probability of these events occurring."
   ]
  },
  {
   "attachments": {},
   "cell_type": "markdown",
   "id": "36eb0b85",
   "metadata": {},
   "source": [
    "So let's start with a question. For this, we are going to download the wine dataset."
   ]
  },
  {
   "cell_type": "code",
   "execution_count": 2,
   "id": "fed4d1e3",
   "metadata": {},
   "outputs": [],
   "source": [
    "data = datasets.load_wine(as_frame=True)\n",
    "features = data.data # this derives features as a dataframe (13 features by 178 instances)\n",
    "features.columns = ['Alcohol','Malic Acid','Ash','Alcalinity of Ash','Magnesium','Total Phenols','Flavanoids', 'Nonflavanoid Phenols','Proanthocyanins','Color Intensity','Hue','OD280/OD315 of Diluted Wines','Proline']\n",
    "labels = data.target # this derives labels as a dataframe (178 instances)"
   ]
  },
  {
   "cell_type": "code",
   "execution_count": 3,
   "id": "74b238c7",
   "metadata": {},
   "outputs": [
    {
     "data": {
      "text/html": [
       "<div>\n",
       "<style scoped>\n",
       "    .dataframe tbody tr th:only-of-type {\n",
       "        vertical-align: middle;\n",
       "    }\n",
       "\n",
       "    .dataframe tbody tr th {\n",
       "        vertical-align: top;\n",
       "    }\n",
       "\n",
       "    .dataframe thead th {\n",
       "        text-align: right;\n",
       "    }\n",
       "</style>\n",
       "<table border=\"1\" class=\"dataframe\">\n",
       "  <thead>\n",
       "    <tr style=\"text-align: right;\">\n",
       "      <th></th>\n",
       "      <th>Alcohol</th>\n",
       "      <th>Malic Acid</th>\n",
       "      <th>Ash</th>\n",
       "      <th>Alcalinity of Ash</th>\n",
       "      <th>Magnesium</th>\n",
       "      <th>Total Phenols</th>\n",
       "      <th>Flavanoids</th>\n",
       "      <th>Nonflavanoid Phenols</th>\n",
       "      <th>Proanthocyanins</th>\n",
       "      <th>Color Intensity</th>\n",
       "      <th>Hue</th>\n",
       "      <th>OD280/OD315 of Diluted Wines</th>\n",
       "      <th>Proline</th>\n",
       "      <th>target</th>\n",
       "    </tr>\n",
       "  </thead>\n",
       "  <tbody>\n",
       "    <tr>\n",
       "      <th>0</th>\n",
       "      <td>14.23</td>\n",
       "      <td>1.71</td>\n",
       "      <td>2.43</td>\n",
       "      <td>15.6</td>\n",
       "      <td>127.0</td>\n",
       "      <td>2.80</td>\n",
       "      <td>3.06</td>\n",
       "      <td>0.28</td>\n",
       "      <td>2.29</td>\n",
       "      <td>5.64</td>\n",
       "      <td>1.04</td>\n",
       "      <td>3.92</td>\n",
       "      <td>1065.0</td>\n",
       "      <td>0</td>\n",
       "    </tr>\n",
       "    <tr>\n",
       "      <th>1</th>\n",
       "      <td>13.20</td>\n",
       "      <td>1.78</td>\n",
       "      <td>2.14</td>\n",
       "      <td>11.2</td>\n",
       "      <td>100.0</td>\n",
       "      <td>2.65</td>\n",
       "      <td>2.76</td>\n",
       "      <td>0.26</td>\n",
       "      <td>1.28</td>\n",
       "      <td>4.38</td>\n",
       "      <td>1.05</td>\n",
       "      <td>3.40</td>\n",
       "      <td>1050.0</td>\n",
       "      <td>0</td>\n",
       "    </tr>\n",
       "    <tr>\n",
       "      <th>2</th>\n",
       "      <td>13.16</td>\n",
       "      <td>2.36</td>\n",
       "      <td>2.67</td>\n",
       "      <td>18.6</td>\n",
       "      <td>101.0</td>\n",
       "      <td>2.80</td>\n",
       "      <td>3.24</td>\n",
       "      <td>0.30</td>\n",
       "      <td>2.81</td>\n",
       "      <td>5.68</td>\n",
       "      <td>1.03</td>\n",
       "      <td>3.17</td>\n",
       "      <td>1185.0</td>\n",
       "      <td>0</td>\n",
       "    </tr>\n",
       "    <tr>\n",
       "      <th>3</th>\n",
       "      <td>14.37</td>\n",
       "      <td>1.95</td>\n",
       "      <td>2.50</td>\n",
       "      <td>16.8</td>\n",
       "      <td>113.0</td>\n",
       "      <td>3.85</td>\n",
       "      <td>3.49</td>\n",
       "      <td>0.24</td>\n",
       "      <td>2.18</td>\n",
       "      <td>7.80</td>\n",
       "      <td>0.86</td>\n",
       "      <td>3.45</td>\n",
       "      <td>1480.0</td>\n",
       "      <td>0</td>\n",
       "    </tr>\n",
       "    <tr>\n",
       "      <th>4</th>\n",
       "      <td>13.24</td>\n",
       "      <td>2.59</td>\n",
       "      <td>2.87</td>\n",
       "      <td>21.0</td>\n",
       "      <td>118.0</td>\n",
       "      <td>2.80</td>\n",
       "      <td>2.69</td>\n",
       "      <td>0.39</td>\n",
       "      <td>1.82</td>\n",
       "      <td>4.32</td>\n",
       "      <td>1.04</td>\n",
       "      <td>2.93</td>\n",
       "      <td>735.0</td>\n",
       "      <td>0</td>\n",
       "    </tr>\n",
       "    <tr>\n",
       "      <th>...</th>\n",
       "      <td>...</td>\n",
       "      <td>...</td>\n",
       "      <td>...</td>\n",
       "      <td>...</td>\n",
       "      <td>...</td>\n",
       "      <td>...</td>\n",
       "      <td>...</td>\n",
       "      <td>...</td>\n",
       "      <td>...</td>\n",
       "      <td>...</td>\n",
       "      <td>...</td>\n",
       "      <td>...</td>\n",
       "      <td>...</td>\n",
       "      <td>...</td>\n",
       "    </tr>\n",
       "    <tr>\n",
       "      <th>173</th>\n",
       "      <td>13.71</td>\n",
       "      <td>5.65</td>\n",
       "      <td>2.45</td>\n",
       "      <td>20.5</td>\n",
       "      <td>95.0</td>\n",
       "      <td>1.68</td>\n",
       "      <td>0.61</td>\n",
       "      <td>0.52</td>\n",
       "      <td>1.06</td>\n",
       "      <td>7.70</td>\n",
       "      <td>0.64</td>\n",
       "      <td>1.74</td>\n",
       "      <td>740.0</td>\n",
       "      <td>2</td>\n",
       "    </tr>\n",
       "    <tr>\n",
       "      <th>174</th>\n",
       "      <td>13.40</td>\n",
       "      <td>3.91</td>\n",
       "      <td>2.48</td>\n",
       "      <td>23.0</td>\n",
       "      <td>102.0</td>\n",
       "      <td>1.80</td>\n",
       "      <td>0.75</td>\n",
       "      <td>0.43</td>\n",
       "      <td>1.41</td>\n",
       "      <td>7.30</td>\n",
       "      <td>0.70</td>\n",
       "      <td>1.56</td>\n",
       "      <td>750.0</td>\n",
       "      <td>2</td>\n",
       "    </tr>\n",
       "    <tr>\n",
       "      <th>175</th>\n",
       "      <td>13.27</td>\n",
       "      <td>4.28</td>\n",
       "      <td>2.26</td>\n",
       "      <td>20.0</td>\n",
       "      <td>120.0</td>\n",
       "      <td>1.59</td>\n",
       "      <td>0.69</td>\n",
       "      <td>0.43</td>\n",
       "      <td>1.35</td>\n",
       "      <td>10.20</td>\n",
       "      <td>0.59</td>\n",
       "      <td>1.56</td>\n",
       "      <td>835.0</td>\n",
       "      <td>2</td>\n",
       "    </tr>\n",
       "    <tr>\n",
       "      <th>176</th>\n",
       "      <td>13.17</td>\n",
       "      <td>2.59</td>\n",
       "      <td>2.37</td>\n",
       "      <td>20.0</td>\n",
       "      <td>120.0</td>\n",
       "      <td>1.65</td>\n",
       "      <td>0.68</td>\n",
       "      <td>0.53</td>\n",
       "      <td>1.46</td>\n",
       "      <td>9.30</td>\n",
       "      <td>0.60</td>\n",
       "      <td>1.62</td>\n",
       "      <td>840.0</td>\n",
       "      <td>2</td>\n",
       "    </tr>\n",
       "    <tr>\n",
       "      <th>177</th>\n",
       "      <td>14.13</td>\n",
       "      <td>4.10</td>\n",
       "      <td>2.74</td>\n",
       "      <td>24.5</td>\n",
       "      <td>96.0</td>\n",
       "      <td>2.05</td>\n",
       "      <td>0.76</td>\n",
       "      <td>0.56</td>\n",
       "      <td>1.35</td>\n",
       "      <td>9.20</td>\n",
       "      <td>0.61</td>\n",
       "      <td>1.60</td>\n",
       "      <td>560.0</td>\n",
       "      <td>2</td>\n",
       "    </tr>\n",
       "  </tbody>\n",
       "</table>\n",
       "<p>178 rows × 14 columns</p>\n",
       "</div>"
      ],
      "text/plain": [
       "     Alcohol  Malic Acid   Ash  Alcalinity of Ash  Magnesium  Total Phenols  \\\n",
       "0      14.23        1.71  2.43               15.6      127.0           2.80   \n",
       "1      13.20        1.78  2.14               11.2      100.0           2.65   \n",
       "2      13.16        2.36  2.67               18.6      101.0           2.80   \n",
       "3      14.37        1.95  2.50               16.8      113.0           3.85   \n",
       "4      13.24        2.59  2.87               21.0      118.0           2.80   \n",
       "..       ...         ...   ...                ...        ...            ...   \n",
       "173    13.71        5.65  2.45               20.5       95.0           1.68   \n",
       "174    13.40        3.91  2.48               23.0      102.0           1.80   \n",
       "175    13.27        4.28  2.26               20.0      120.0           1.59   \n",
       "176    13.17        2.59  2.37               20.0      120.0           1.65   \n",
       "177    14.13        4.10  2.74               24.5       96.0           2.05   \n",
       "\n",
       "     Flavanoids  Nonflavanoid Phenols  Proanthocyanins  Color Intensity   Hue  \\\n",
       "0          3.06                  0.28             2.29             5.64  1.04   \n",
       "1          2.76                  0.26             1.28             4.38  1.05   \n",
       "2          3.24                  0.30             2.81             5.68  1.03   \n",
       "3          3.49                  0.24             2.18             7.80  0.86   \n",
       "4          2.69                  0.39             1.82             4.32  1.04   \n",
       "..          ...                   ...              ...              ...   ...   \n",
       "173        0.61                  0.52             1.06             7.70  0.64   \n",
       "174        0.75                  0.43             1.41             7.30  0.70   \n",
       "175        0.69                  0.43             1.35            10.20  0.59   \n",
       "176        0.68                  0.53             1.46             9.30  0.60   \n",
       "177        0.76                  0.56             1.35             9.20  0.61   \n",
       "\n",
       "     OD280/OD315 of Diluted Wines  Proline  target  \n",
       "0                            3.92   1065.0       0  \n",
       "1                            3.40   1050.0       0  \n",
       "2                            3.17   1185.0       0  \n",
       "3                            3.45   1480.0       0  \n",
       "4                            2.93    735.0       0  \n",
       "..                            ...      ...     ...  \n",
       "173                          1.74    740.0       2  \n",
       "174                          1.56    750.0       2  \n",
       "175                          1.56    835.0       2  \n",
       "176                          1.62    840.0       2  \n",
       "177                          1.60    560.0       2  \n",
       "\n",
       "[178 rows x 14 columns]"
      ]
     },
     "execution_count": 3,
     "metadata": {},
     "output_type": "execute_result"
    }
   ],
   "source": [
    "wine = pd.concat([features, labels], axis=1,)\n",
    "wine"
   ]
  },
  {
   "attachments": {},
   "cell_type": "markdown",
   "id": "e481dc32",
   "metadata": {},
   "source": [
    "Now, a quick check will remind us that there are three classes of wine in this dataset."
   ]
  },
  {
   "cell_type": "code",
   "execution_count": 4,
   "id": "a423cd36",
   "metadata": {},
   "outputs": [
    {
     "data": {
      "text/plain": [
       "array([0, 1, 2])"
      ]
     },
     "execution_count": 4,
     "metadata": {},
     "output_type": "execute_result"
    }
   ],
   "source": [
    "labels.unique()"
   ]
  },
  {
   "attachments": {},
   "cell_type": "markdown",
   "id": "84794a5f",
   "metadata": {},
   "source": [
    "For this question, we will compare two of the three different types of wine across one feature variable, removing the need for scaling. "
   ]
  },
  {
   "attachments": {},
   "cell_type": "markdown",
   "id": "af946bab",
   "metadata": {},
   "source": [
    "So, let's pose our question. Is the level of alcohol different between classes 0 and 1?"
   ]
  },
  {
   "attachments": {},
   "cell_type": "markdown",
   "id": "7a35af0a",
   "metadata": {},
   "source": [
    "First, we select for these classes and the column of interest."
   ]
  },
  {
   "cell_type": "code",
   "execution_count": 5,
   "id": "2e084cc5",
   "metadata": {},
   "outputs": [
    {
     "data": {
      "text/html": [
       "<div>\n",
       "<style scoped>\n",
       "    .dataframe tbody tr th:only-of-type {\n",
       "        vertical-align: middle;\n",
       "    }\n",
       "\n",
       "    .dataframe tbody tr th {\n",
       "        vertical-align: top;\n",
       "    }\n",
       "\n",
       "    .dataframe thead th {\n",
       "        text-align: right;\n",
       "    }\n",
       "</style>\n",
       "<table border=\"1\" class=\"dataframe\">\n",
       "  <thead>\n",
       "    <tr style=\"text-align: right;\">\n",
       "      <th></th>\n",
       "      <th>Alcohol</th>\n",
       "      <th>target</th>\n",
       "    </tr>\n",
       "  </thead>\n",
       "  <tbody>\n",
       "    <tr>\n",
       "      <th>0</th>\n",
       "      <td>14.23</td>\n",
       "      <td>0</td>\n",
       "    </tr>\n",
       "    <tr>\n",
       "      <th>1</th>\n",
       "      <td>13.20</td>\n",
       "      <td>0</td>\n",
       "    </tr>\n",
       "    <tr>\n",
       "      <th>2</th>\n",
       "      <td>13.16</td>\n",
       "      <td>0</td>\n",
       "    </tr>\n",
       "    <tr>\n",
       "      <th>3</th>\n",
       "      <td>14.37</td>\n",
       "      <td>0</td>\n",
       "    </tr>\n",
       "    <tr>\n",
       "      <th>4</th>\n",
       "      <td>13.24</td>\n",
       "      <td>0</td>\n",
       "    </tr>\n",
       "    <tr>\n",
       "      <th>...</th>\n",
       "      <td>...</td>\n",
       "      <td>...</td>\n",
       "    </tr>\n",
       "    <tr>\n",
       "      <th>173</th>\n",
       "      <td>13.71</td>\n",
       "      <td>2</td>\n",
       "    </tr>\n",
       "    <tr>\n",
       "      <th>174</th>\n",
       "      <td>13.40</td>\n",
       "      <td>2</td>\n",
       "    </tr>\n",
       "    <tr>\n",
       "      <th>175</th>\n",
       "      <td>13.27</td>\n",
       "      <td>2</td>\n",
       "    </tr>\n",
       "    <tr>\n",
       "      <th>176</th>\n",
       "      <td>13.17</td>\n",
       "      <td>2</td>\n",
       "    </tr>\n",
       "    <tr>\n",
       "      <th>177</th>\n",
       "      <td>14.13</td>\n",
       "      <td>2</td>\n",
       "    </tr>\n",
       "  </tbody>\n",
       "</table>\n",
       "<p>178 rows × 2 columns</p>\n",
       "</div>"
      ],
      "text/plain": [
       "     Alcohol  target\n",
       "0      14.23       0\n",
       "1      13.20       0\n",
       "2      13.16       0\n",
       "3      14.37       0\n",
       "4      13.24       0\n",
       "..       ...     ...\n",
       "173    13.71       2\n",
       "174    13.40       2\n",
       "175    13.27       2\n",
       "176    13.17       2\n",
       "177    14.13       2\n",
       "\n",
       "[178 rows x 2 columns]"
      ]
     },
     "execution_count": 5,
     "metadata": {},
     "output_type": "execute_result"
    }
   ],
   "source": [
    "question = wine.iloc[:, [0,13]] # selects for the feature variable\n",
    "question"
   ]
  },
  {
   "attachments": {},
   "cell_type": "markdown",
   "id": "0a5cea80",
   "metadata": {},
   "source": [
    "Next, we need to group our 'question' dataframe by class. "
   ]
  },
  {
   "attachments": {},
   "cell_type": "markdown",
   "id": "61a10a47",
   "metadata": {},
   "source": [
    "A quick check of the data shows that the target is an integer. To split out dataframe by group, we need this to be a str."
   ]
  },
  {
   "cell_type": "code",
   "execution_count": 6,
   "id": "c97dab55",
   "metadata": {},
   "outputs": [
    {
     "data": {
      "text/plain": [
       "Alcohol    float64\n",
       "target       int64\n",
       "dtype: object"
      ]
     },
     "execution_count": 6,
     "metadata": {},
     "output_type": "execute_result"
    }
   ],
   "source": [
    "question.dtypes"
   ]
  },
  {
   "cell_type": "code",
   "execution_count": 7,
   "id": "11bddc85",
   "metadata": {},
   "outputs": [
    {
     "name": "stderr",
     "output_type": "stream",
     "text": [
      "<ipython-input-7-b60728fdc8e8>:1: SettingWithCopyWarning: \n",
      "A value is trying to be set on a copy of a slice from a DataFrame.\n",
      "Try using .loc[row_indexer,col_indexer] = value instead\n",
      "\n",
      "See the caveats in the documentation: https://pandas.pydata.org/pandas-docs/stable/user_guide/indexing.html#returning-a-view-versus-a-copy\n",
      "  question['target'] = question['target'].astype(str) #converts the target column to str\n"
     ]
    }
   ],
   "source": [
    "question['target'] = question['target'].astype(str) #converts the target column to str"
   ]
  },
  {
   "cell_type": "code",
   "execution_count": 8,
   "id": "c97dab55",
   "metadata": {},
   "outputs": [
    {
     "data": {
      "text/plain": [
       "Alcohol    float64\n",
       "target      object\n",
       "dtype: object"
      ]
     },
     "execution_count": 8,
     "metadata": {},
     "output_type": "execute_result"
    }
   ],
   "source": [
    "question.dtypes"
   ]
  },
  {
   "attachments": {},
   "cell_type": "markdown",
   "id": "556a4f0b",
   "metadata": {},
   "source": [
    "Now, we can groupby target and get each group out as a separate dataframe."
   ]
  },
  {
   "cell_type": "code",
   "execution_count": 9,
   "id": "bc7db780",
   "metadata": {},
   "outputs": [],
   "source": [
    "grouped = question.groupby('target')\n",
    "class_0 = grouped.get_group('0')\n",
    "class_1 = grouped.get_group('1')"
   ]
  },
  {
   "attachments": {},
   "cell_type": "markdown",
   "id": "c486846d",
   "metadata": {},
   "source": [
    "A quick check let's us know this has worked as planned."
   ]
  },
  {
   "cell_type": "code",
   "execution_count": 10,
   "id": "c974b2f0",
   "metadata": {},
   "outputs": [
    {
     "data": {
      "text/html": [
       "<div>\n",
       "<style scoped>\n",
       "    .dataframe tbody tr th:only-of-type {\n",
       "        vertical-align: middle;\n",
       "    }\n",
       "\n",
       "    .dataframe tbody tr th {\n",
       "        vertical-align: top;\n",
       "    }\n",
       "\n",
       "    .dataframe thead th {\n",
       "        text-align: right;\n",
       "    }\n",
       "</style>\n",
       "<table border=\"1\" class=\"dataframe\">\n",
       "  <thead>\n",
       "    <tr style=\"text-align: right;\">\n",
       "      <th></th>\n",
       "      <th>Alcohol</th>\n",
       "      <th>target</th>\n",
       "    </tr>\n",
       "  </thead>\n",
       "  <tbody>\n",
       "    <tr>\n",
       "      <th>0</th>\n",
       "      <td>14.23</td>\n",
       "      <td>0</td>\n",
       "    </tr>\n",
       "    <tr>\n",
       "      <th>1</th>\n",
       "      <td>13.20</td>\n",
       "      <td>0</td>\n",
       "    </tr>\n",
       "    <tr>\n",
       "      <th>2</th>\n",
       "      <td>13.16</td>\n",
       "      <td>0</td>\n",
       "    </tr>\n",
       "    <tr>\n",
       "      <th>3</th>\n",
       "      <td>14.37</td>\n",
       "      <td>0</td>\n",
       "    </tr>\n",
       "    <tr>\n",
       "      <th>4</th>\n",
       "      <td>13.24</td>\n",
       "      <td>0</td>\n",
       "    </tr>\n",
       "    <tr>\n",
       "      <th>5</th>\n",
       "      <td>14.20</td>\n",
       "      <td>0</td>\n",
       "    </tr>\n",
       "    <tr>\n",
       "      <th>6</th>\n",
       "      <td>14.39</td>\n",
       "      <td>0</td>\n",
       "    </tr>\n",
       "    <tr>\n",
       "      <th>7</th>\n",
       "      <td>14.06</td>\n",
       "      <td>0</td>\n",
       "    </tr>\n",
       "    <tr>\n",
       "      <th>8</th>\n",
       "      <td>14.83</td>\n",
       "      <td>0</td>\n",
       "    </tr>\n",
       "    <tr>\n",
       "      <th>9</th>\n",
       "      <td>13.86</td>\n",
       "      <td>0</td>\n",
       "    </tr>\n",
       "    <tr>\n",
       "      <th>10</th>\n",
       "      <td>14.10</td>\n",
       "      <td>0</td>\n",
       "    </tr>\n",
       "    <tr>\n",
       "      <th>11</th>\n",
       "      <td>14.12</td>\n",
       "      <td>0</td>\n",
       "    </tr>\n",
       "    <tr>\n",
       "      <th>12</th>\n",
       "      <td>13.75</td>\n",
       "      <td>0</td>\n",
       "    </tr>\n",
       "    <tr>\n",
       "      <th>13</th>\n",
       "      <td>14.75</td>\n",
       "      <td>0</td>\n",
       "    </tr>\n",
       "    <tr>\n",
       "      <th>14</th>\n",
       "      <td>14.38</td>\n",
       "      <td>0</td>\n",
       "    </tr>\n",
       "    <tr>\n",
       "      <th>15</th>\n",
       "      <td>13.63</td>\n",
       "      <td>0</td>\n",
       "    </tr>\n",
       "    <tr>\n",
       "      <th>16</th>\n",
       "      <td>14.30</td>\n",
       "      <td>0</td>\n",
       "    </tr>\n",
       "    <tr>\n",
       "      <th>17</th>\n",
       "      <td>13.83</td>\n",
       "      <td>0</td>\n",
       "    </tr>\n",
       "    <tr>\n",
       "      <th>18</th>\n",
       "      <td>14.19</td>\n",
       "      <td>0</td>\n",
       "    </tr>\n",
       "    <tr>\n",
       "      <th>19</th>\n",
       "      <td>13.64</td>\n",
       "      <td>0</td>\n",
       "    </tr>\n",
       "    <tr>\n",
       "      <th>20</th>\n",
       "      <td>14.06</td>\n",
       "      <td>0</td>\n",
       "    </tr>\n",
       "    <tr>\n",
       "      <th>21</th>\n",
       "      <td>12.93</td>\n",
       "      <td>0</td>\n",
       "    </tr>\n",
       "    <tr>\n",
       "      <th>22</th>\n",
       "      <td>13.71</td>\n",
       "      <td>0</td>\n",
       "    </tr>\n",
       "    <tr>\n",
       "      <th>23</th>\n",
       "      <td>12.85</td>\n",
       "      <td>0</td>\n",
       "    </tr>\n",
       "    <tr>\n",
       "      <th>24</th>\n",
       "      <td>13.50</td>\n",
       "      <td>0</td>\n",
       "    </tr>\n",
       "    <tr>\n",
       "      <th>25</th>\n",
       "      <td>13.05</td>\n",
       "      <td>0</td>\n",
       "    </tr>\n",
       "    <tr>\n",
       "      <th>26</th>\n",
       "      <td>13.39</td>\n",
       "      <td>0</td>\n",
       "    </tr>\n",
       "    <tr>\n",
       "      <th>27</th>\n",
       "      <td>13.30</td>\n",
       "      <td>0</td>\n",
       "    </tr>\n",
       "    <tr>\n",
       "      <th>28</th>\n",
       "      <td>13.87</td>\n",
       "      <td>0</td>\n",
       "    </tr>\n",
       "    <tr>\n",
       "      <th>29</th>\n",
       "      <td>14.02</td>\n",
       "      <td>0</td>\n",
       "    </tr>\n",
       "    <tr>\n",
       "      <th>30</th>\n",
       "      <td>13.73</td>\n",
       "      <td>0</td>\n",
       "    </tr>\n",
       "    <tr>\n",
       "      <th>31</th>\n",
       "      <td>13.58</td>\n",
       "      <td>0</td>\n",
       "    </tr>\n",
       "    <tr>\n",
       "      <th>32</th>\n",
       "      <td>13.68</td>\n",
       "      <td>0</td>\n",
       "    </tr>\n",
       "    <tr>\n",
       "      <th>33</th>\n",
       "      <td>13.76</td>\n",
       "      <td>0</td>\n",
       "    </tr>\n",
       "    <tr>\n",
       "      <th>34</th>\n",
       "      <td>13.51</td>\n",
       "      <td>0</td>\n",
       "    </tr>\n",
       "    <tr>\n",
       "      <th>35</th>\n",
       "      <td>13.48</td>\n",
       "      <td>0</td>\n",
       "    </tr>\n",
       "    <tr>\n",
       "      <th>36</th>\n",
       "      <td>13.28</td>\n",
       "      <td>0</td>\n",
       "    </tr>\n",
       "    <tr>\n",
       "      <th>37</th>\n",
       "      <td>13.05</td>\n",
       "      <td>0</td>\n",
       "    </tr>\n",
       "    <tr>\n",
       "      <th>38</th>\n",
       "      <td>13.07</td>\n",
       "      <td>0</td>\n",
       "    </tr>\n",
       "    <tr>\n",
       "      <th>39</th>\n",
       "      <td>14.22</td>\n",
       "      <td>0</td>\n",
       "    </tr>\n",
       "    <tr>\n",
       "      <th>40</th>\n",
       "      <td>13.56</td>\n",
       "      <td>0</td>\n",
       "    </tr>\n",
       "    <tr>\n",
       "      <th>41</th>\n",
       "      <td>13.41</td>\n",
       "      <td>0</td>\n",
       "    </tr>\n",
       "    <tr>\n",
       "      <th>42</th>\n",
       "      <td>13.88</td>\n",
       "      <td>0</td>\n",
       "    </tr>\n",
       "    <tr>\n",
       "      <th>43</th>\n",
       "      <td>13.24</td>\n",
       "      <td>0</td>\n",
       "    </tr>\n",
       "    <tr>\n",
       "      <th>44</th>\n",
       "      <td>13.05</td>\n",
       "      <td>0</td>\n",
       "    </tr>\n",
       "    <tr>\n",
       "      <th>45</th>\n",
       "      <td>14.21</td>\n",
       "      <td>0</td>\n",
       "    </tr>\n",
       "    <tr>\n",
       "      <th>46</th>\n",
       "      <td>14.38</td>\n",
       "      <td>0</td>\n",
       "    </tr>\n",
       "    <tr>\n",
       "      <th>47</th>\n",
       "      <td>13.90</td>\n",
       "      <td>0</td>\n",
       "    </tr>\n",
       "    <tr>\n",
       "      <th>48</th>\n",
       "      <td>14.10</td>\n",
       "      <td>0</td>\n",
       "    </tr>\n",
       "    <tr>\n",
       "      <th>49</th>\n",
       "      <td>13.94</td>\n",
       "      <td>0</td>\n",
       "    </tr>\n",
       "    <tr>\n",
       "      <th>50</th>\n",
       "      <td>13.05</td>\n",
       "      <td>0</td>\n",
       "    </tr>\n",
       "    <tr>\n",
       "      <th>51</th>\n",
       "      <td>13.83</td>\n",
       "      <td>0</td>\n",
       "    </tr>\n",
       "    <tr>\n",
       "      <th>52</th>\n",
       "      <td>13.82</td>\n",
       "      <td>0</td>\n",
       "    </tr>\n",
       "    <tr>\n",
       "      <th>53</th>\n",
       "      <td>13.77</td>\n",
       "      <td>0</td>\n",
       "    </tr>\n",
       "    <tr>\n",
       "      <th>54</th>\n",
       "      <td>13.74</td>\n",
       "      <td>0</td>\n",
       "    </tr>\n",
       "    <tr>\n",
       "      <th>55</th>\n",
       "      <td>13.56</td>\n",
       "      <td>0</td>\n",
       "    </tr>\n",
       "    <tr>\n",
       "      <th>56</th>\n",
       "      <td>14.22</td>\n",
       "      <td>0</td>\n",
       "    </tr>\n",
       "    <tr>\n",
       "      <th>57</th>\n",
       "      <td>13.29</td>\n",
       "      <td>0</td>\n",
       "    </tr>\n",
       "    <tr>\n",
       "      <th>58</th>\n",
       "      <td>13.72</td>\n",
       "      <td>0</td>\n",
       "    </tr>\n",
       "  </tbody>\n",
       "</table>\n",
       "</div>"
      ],
      "text/plain": [
       "    Alcohol target\n",
       "0     14.23      0\n",
       "1     13.20      0\n",
       "2     13.16      0\n",
       "3     14.37      0\n",
       "4     13.24      0\n",
       "5     14.20      0\n",
       "6     14.39      0\n",
       "7     14.06      0\n",
       "8     14.83      0\n",
       "9     13.86      0\n",
       "10    14.10      0\n",
       "11    14.12      0\n",
       "12    13.75      0\n",
       "13    14.75      0\n",
       "14    14.38      0\n",
       "15    13.63      0\n",
       "16    14.30      0\n",
       "17    13.83      0\n",
       "18    14.19      0\n",
       "19    13.64      0\n",
       "20    14.06      0\n",
       "21    12.93      0\n",
       "22    13.71      0\n",
       "23    12.85      0\n",
       "24    13.50      0\n",
       "25    13.05      0\n",
       "26    13.39      0\n",
       "27    13.30      0\n",
       "28    13.87      0\n",
       "29    14.02      0\n",
       "30    13.73      0\n",
       "31    13.58      0\n",
       "32    13.68      0\n",
       "33    13.76      0\n",
       "34    13.51      0\n",
       "35    13.48      0\n",
       "36    13.28      0\n",
       "37    13.05      0\n",
       "38    13.07      0\n",
       "39    14.22      0\n",
       "40    13.56      0\n",
       "41    13.41      0\n",
       "42    13.88      0\n",
       "43    13.24      0\n",
       "44    13.05      0\n",
       "45    14.21      0\n",
       "46    14.38      0\n",
       "47    13.90      0\n",
       "48    14.10      0\n",
       "49    13.94      0\n",
       "50    13.05      0\n",
       "51    13.83      0\n",
       "52    13.82      0\n",
       "53    13.77      0\n",
       "54    13.74      0\n",
       "55    13.56      0\n",
       "56    14.22      0\n",
       "57    13.29      0\n",
       "58    13.72      0"
      ]
     },
     "execution_count": 10,
     "metadata": {},
     "output_type": "execute_result"
    }
   ],
   "source": [
    "class_0"
   ]
  },
  {
   "cell_type": "code",
   "execution_count": 11,
   "id": "c974b2f0",
   "metadata": {},
   "outputs": [
    {
     "data": {
      "text/html": [
       "<div>\n",
       "<style scoped>\n",
       "    .dataframe tbody tr th:only-of-type {\n",
       "        vertical-align: middle;\n",
       "    }\n",
       "\n",
       "    .dataframe tbody tr th {\n",
       "        vertical-align: top;\n",
       "    }\n",
       "\n",
       "    .dataframe thead th {\n",
       "        text-align: right;\n",
       "    }\n",
       "</style>\n",
       "<table border=\"1\" class=\"dataframe\">\n",
       "  <thead>\n",
       "    <tr style=\"text-align: right;\">\n",
       "      <th></th>\n",
       "      <th>Alcohol</th>\n",
       "      <th>target</th>\n",
       "    </tr>\n",
       "  </thead>\n",
       "  <tbody>\n",
       "    <tr>\n",
       "      <th>59</th>\n",
       "      <td>12.37</td>\n",
       "      <td>1</td>\n",
       "    </tr>\n",
       "    <tr>\n",
       "      <th>60</th>\n",
       "      <td>12.33</td>\n",
       "      <td>1</td>\n",
       "    </tr>\n",
       "    <tr>\n",
       "      <th>61</th>\n",
       "      <td>12.64</td>\n",
       "      <td>1</td>\n",
       "    </tr>\n",
       "    <tr>\n",
       "      <th>62</th>\n",
       "      <td>13.67</td>\n",
       "      <td>1</td>\n",
       "    </tr>\n",
       "    <tr>\n",
       "      <th>63</th>\n",
       "      <td>12.37</td>\n",
       "      <td>1</td>\n",
       "    </tr>\n",
       "    <tr>\n",
       "      <th>...</th>\n",
       "      <td>...</td>\n",
       "      <td>...</td>\n",
       "    </tr>\n",
       "    <tr>\n",
       "      <th>125</th>\n",
       "      <td>12.07</td>\n",
       "      <td>1</td>\n",
       "    </tr>\n",
       "    <tr>\n",
       "      <th>126</th>\n",
       "      <td>12.43</td>\n",
       "      <td>1</td>\n",
       "    </tr>\n",
       "    <tr>\n",
       "      <th>127</th>\n",
       "      <td>11.79</td>\n",
       "      <td>1</td>\n",
       "    </tr>\n",
       "    <tr>\n",
       "      <th>128</th>\n",
       "      <td>12.37</td>\n",
       "      <td>1</td>\n",
       "    </tr>\n",
       "    <tr>\n",
       "      <th>129</th>\n",
       "      <td>12.04</td>\n",
       "      <td>1</td>\n",
       "    </tr>\n",
       "  </tbody>\n",
       "</table>\n",
       "<p>71 rows × 2 columns</p>\n",
       "</div>"
      ],
      "text/plain": [
       "     Alcohol target\n",
       "59     12.37      1\n",
       "60     12.33      1\n",
       "61     12.64      1\n",
       "62     13.67      1\n",
       "63     12.37      1\n",
       "..       ...    ...\n",
       "125    12.07      1\n",
       "126    12.43      1\n",
       "127    11.79      1\n",
       "128    12.37      1\n",
       "129    12.04      1\n",
       "\n",
       "[71 rows x 2 columns]"
      ]
     },
     "execution_count": 11,
     "metadata": {},
     "output_type": "execute_result"
    }
   ],
   "source": [
    "class_1"
   ]
  },
  {
   "attachments": {},
   "cell_type": "markdown",
   "id": "dc3da062",
   "metadata": {},
   "source": [
    "We now want to use these values of the level of alcohol of the two different classes of wine to compare groups but these scores fall in a range. So how do we compare groups of values between types of wines and know with some degree of certainty that one is different from the other?"
   ]
  },
  {
   "attachments": {},
   "cell_type": "markdown",
   "id": "98069f05",
   "metadata": {},
   "source": [
    "For this, we first need to understand the distribution of these data."
   ]
  },
  {
   "attachments": {},
   "cell_type": "markdown",
   "id": "a4b682ea",
   "metadata": {},
   "source": [
    "So let's visualise each group of values as histograms.\n",
    "\n",
    "Learn more about using histograms here: https://seaborn.pydata.org/generated/seaborn.histplot.html"
   ]
  },
  {
   "cell_type": "code",
   "execution_count": 12,
   "id": "05a86917",
   "metadata": {},
   "outputs": [
    {
     "data": {
      "image/png": "[encoded data removed]",
      "text/plain": [
       "<Figure size 432x288 with 1 Axes>"
      ]
     },
     "metadata": {
      "needs_background": "light"
     },
     "output_type": "display_data"
    }
   ],
   "source": [
    "df = pd.concat([class_0, class_1])\n",
    "ax = sns.histplot(data=df, x=\"Alcohol\", hue=\"target\", element=\"step\", bins=25, palette='PuRd')\n",
    "sns.move_legend(ax, title='Class',loc='lower center', bbox_to_anchor=(0.5, -0.4), ncol=2)\n"
   ]
  },
  {
   "attachments": {},
   "cell_type": "markdown",
   "id": "ea4ad97a",
   "metadata": {},
   "source": [
    "Here we see that the data in each class is approximately normally distributed."
   ]
  },
  {
   "attachments": {},
   "cell_type": "markdown",
   "id": "fbccf80e",
   "metadata": {},
   "source": [
    "In probability, the normal distribution is a particular distribution of the probability across all of the data. The x-axis takes on the values of the data and the y-axis is the probability associated with each datapoint, from 0 to 1.\n",
    "\n",
    "The high point of the distribution represents the datapoint with the highest probability of occurring. As you move further away from this point on either side, the probability of those points decreases, forming the familiar bell-shape curve. The high point in a statistical context actually represents the mean, and as you move farther from the mean, frequency rapidly decreases."
   ]
  },
  {
   "attachments": {},
   "cell_type": "markdown",
   "id": "dfbf3645",
   "metadata": {},
   "source": [
    "If any two distributions overlap significantly, we might assume they actually come from the same distribution and that there is no real difference in the means of those dsitributions. If there is no overlap, it is safe to assume that the distributions aren't the same. But, as you will see in the plot above, the difficulty is when there is some overlap."
   ]
  },
  {
   "attachments": {},
   "cell_type": "markdown",
   "id": "4e1b4459",
   "metadata": {},
   "source": [
    "The normal distribution is significant to probability and statistics due to two factors: the Central Limit Theorem and the Three Sigma Rule.\n",
    "\n",
    "The key tenet of the Central Limit Theorem is that with more data, the closer the average of these data to the true probability. The Central Limit Theorem dictates that if we collect many data, the distribution of these data will look like a normal distribution and the high point of this distribution will align with the true value that the estimates should take on, i.e. the average of these many data will approach the true mean.\n",
    "\n",
    "The Three Sigma Rule tells us how much the data will be spread out aroud this mean or how many of the data falls within a certain distance of the mean. The standard deviation is the average distance a singular measurement in the dataset is from the mean. The Three Sigma Rule dictates that given a normal distribution, 68% of the measurements will fall between one standard deviation of the mean, 95% within two, and 99.7% within three. This rule is also a statement of rarity of extreme values."
   ]
  },
  {
   "attachments": {},
   "cell_type": "markdown",
   "id": "1156317e",
   "metadata": {},
   "source": [
    "By taking advantage of the Three Sigma Rule, we can prescribe a value to how likely it is that the the level of alcohol is different within each class of wine."
   ]
  },
  {
   "attachments": {},
   "cell_type": "markdown",
   "id": "d1643dc0",
   "metadata": {},
   "source": [
    "Now, the next thing we want to do is turn our question into a null and alternative hypothesis, as this will allows us to carry out hypothesis testing.\n",
    "\n",
    "Question: Is the level of alcohol different between classes 0 and 1?\n",
    "\n",
    "So, our null hypothesis is that the level of alcohol is no different between classes 0 and 1 and our alternative hypothesis is that the level of alcohol is different between classes 0 and 1."
   ]
  },
  {
   "attachments": {},
   "cell_type": "markdown",
   "id": "3cb8a83d",
   "metadata": {},
   "source": [
    "If you read through the article from earlier (https://towardsdatascience.com/hypothesis-testing-in-machine-learning-using-python-a0dc89e169ce) you will know that there are several different types of statistical tests that can be conducted to test a hypothesis.\n",
    "\n",
    "Here, we want to test whether the means of two independent groups are equal or not. As such, we know we will be conducting a two sample, two-tailed test.\n",
    "\n",
    "We are assuming that our data is normally distributed but we also know that the sample size of each group is greater than 30 so this does not matter quite so much. It is also possible to calculate the mean and standard deviation of both sample groups. Given this, we are going to run a z-test."
   ]
  },
  {
   "attachments": {},
   "cell_type": "markdown",
   "id": "e299fd95",
   "metadata": {},
   "source": [
    "First, let's calculate the mean and standard deviation of the level of alcohol of each class of wine."
   ]
  },
  {
   "cell_type": "code",
   "execution_count": 13,
   "id": "a0384a24",
   "metadata": {},
   "outputs": [],
   "source": [
    "from numpy import mean\n",
    "from numpy import std"
   ]
  },
  {
   "cell_type": "code",
   "execution_count": 14,
   "id": "c1470a41",
   "metadata": {},
   "outputs": [],
   "source": [
    "class_0_avg = np.mean(class_0.Alcohol) # calculates variable mean\n",
    "class_0_std = np.std(class_0.Alcohol) # calculates variable standard deviation\n",
    "class_1_avg = np.mean(class_1.Alcohol)\n",
    "class_1_std = np.std(class_1.Alcohol)"
   ]
  },
  {
   "cell_type": "code",
   "execution_count": 15,
   "id": "f9cbccec",
   "metadata": {},
   "outputs": [
    {
     "name": "stdout",
     "output_type": "stream",
     "text": [
      "Class 0:  13.744745762711865 0.4581923063525723\n",
      "Class 1:  12.278732394366195 0.534162315304487\n"
     ]
    }
   ],
   "source": [
    "print(\"Class 0: \", class_0_avg, class_0_std)\n",
    "print(\"Class 1: \", class_1_avg, class_1_std)"
   ]
  },
  {
   "attachments": {},
   "cell_type": "markdown",
   "id": "36be67a6",
   "metadata": {},
   "source": [
    "These values look very similar! But let's calculate the z-test statistic before making any final decisions."
   ]
  },
  {
   "cell_type": "code",
   "execution_count": 16,
   "id": "7688f42c",
   "metadata": {},
   "outputs": [],
   "source": [
    "from statsmodels.stats.weightstats import ztest"
   ]
  },
  {
   "attachments": {},
   "cell_type": "markdown",
   "id": "89278020",
   "metadata": {},
   "source": [
    "*N.B. you can learn more about using the statsmodels z-test here: https://www.statsmodels.org/dev/generated/statsmodels.stats.weightstats.ztest.html*"
   ]
  },
  {
   "attachments": {},
   "cell_type": "markdown",
   "id": "e4668ffc",
   "metadata": {},
   "source": [
    "This method requires the dataframes to be in arrays."
   ]
  },
  {
   "cell_type": "code",
   "execution_count": 17,
   "id": "5cc1e690",
   "metadata": {},
   "outputs": [],
   "source": [
    "class_0 = class_0['Alcohol'].values\n",
    "class_1 = class_1['Alcohol'].values"
   ]
  },
  {
   "attachments": {},
   "cell_type": "markdown",
   "id": "6a863c85",
   "metadata": {},
   "source": [
    "Finally, we can calculate the test-statistic and p-value."
   ]
  },
  {
   "cell_type": "code",
   "execution_count": 18,
   "id": "b5ccd584",
   "metadata": {},
   "outputs": [
    {
     "data": {
      "text/plain": [
       "(16.478551495156523, 5.2323507272796755e-61)"
      ]
     },
     "execution_count": 18,
     "metadata": {},
     "output_type": "execute_result"
    }
   ],
   "source": [
    "ztest(class_0, class_1, value=0, alternative='two-sided') "
   ]
  },
  {
   "attachments": {},
   "cell_type": "markdown",
   "id": "5a3d417e",
   "metadata": {},
   "source": [
    "The p-value tells us whether to accept or reject the null hypothesis. 100% accuracy is not possible for accepting or rejecting a hypothesis; therefore, we select a level of significance that is usually 5%. As such, if the p-value > 0.05, then the null hypothesis is accepted, but if the p-value < 0.05, then the null hypothesis is rejected."
   ]
  },
  {
   "attachments": {},
   "cell_type": "markdown",
   "id": "1e8d36fc",
   "metadata": {},
   "source": [
    "In this case, we reject the null hypothesis. The level of alcohol is different between classes 0 and 1."
   ]
  },
  {
   "attachments": {},
   "cell_type": "markdown",
   "id": "db309354",
   "metadata": {},
   "source": [
    "And that's it! You've now learnt the basics of hypothesis testing."
   ]
  },
  {
   "attachments": {},
   "cell_type": "markdown",
   "id": "5b10c736",
   "metadata": {},
   "source": [
    "## Bayesian Theory"
   ]
  },
  {
   "attachments": {},
   "cell_type": "markdown",
   "id": "0fea29ed",
   "metadata": {},
   "source": [
    "The second part of this tutorial will focus on Bayesian theory."
   ]
  },
  {
   "attachments": {},
   "cell_type": "markdown",
   "id": "98d554d1",
   "metadata": {},
   "source": [
    "Now, as you will have learnt in your lectures, Naive Bayes methods are a set of supervised learning methods (classifiers) that assume that the presence of a particular feature in a class is unrelated to the presence of any other feature.\n",
    "\n",
    "There are several types of Naive Bayes models (learn more here: https://scikit-learn.org/stable/modules/naive_bayes.html#gaussian-naive-bayes) but for this exercise, we will focus on Gaussian Naive Bayes classifiers.\n",
    "\n",
    "Learn more about how to use a Gaussian Naive Bayes classifier here: https://scikit-learn.org/stable/modules/generated/sklearn.naive_bayes.GaussianNB.html#sklearn.naive_bayes.GaussianNB"
   ]
  },
  {
   "attachments": {},
   "cell_type": "markdown",
   "id": "ec4e67ba",
   "metadata": {},
   "source": [
    "For this, we will create our own dataset of 10 features across 500 instances, categorised into two classes. Class 0 represents a control group and Class 1 the class of interest. As in real world medical problems, there are fewer isntances of the class of interest.\n",
    "\n",
    "Learn more about making your own classification datasets here: https://scikit-learn.org/stable/modules/generated/sklearn.datasets.make_classification.html"
   ]
  },
  {
   "cell_type": "code",
   "execution_count": 19,
   "id": "e10f0b6a",
   "metadata": {},
   "outputs": [],
   "source": [
    "features, labels = datasets.make_classification(n_samples=500, n_features=10, n_informative=8, n_classes=2, weights=np.array([0.65, 0.35]), flip_y=0.01, class_sep=2.0, shuffle=True, random_state=42)"
   ]
  },
  {
   "attachments": {},
   "cell_type": "markdown",
   "id": "de601e90",
   "metadata": {},
   "source": [
    "Now, let's take a quick look at the features and labels that were generated, in dataframe form for ease."
   ]
  },
  {
   "cell_type": "code",
   "execution_count": 20,
   "id": "60c63302",
   "metadata": {},
   "outputs": [
    {
     "data": {
      "text/html": [
       "<div>\n",
       "<style scoped>\n",
       "    .dataframe tbody tr th:only-of-type {\n",
       "        vertical-align: middle;\n",
       "    }\n",
       "\n",
       "    .dataframe tbody tr th {\n",
       "        vertical-align: top;\n",
       "    }\n",
       "\n",
       "    .dataframe thead th {\n",
       "        text-align: right;\n",
       "    }\n",
       "</style>\n",
       "<table border=\"1\" class=\"dataframe\">\n",
       "  <thead>\n",
       "    <tr style=\"text-align: right;\">\n",
       "      <th></th>\n",
       "      <th>F1</th>\n",
       "      <th>F2</th>\n",
       "      <th>F3</th>\n",
       "      <th>F4</th>\n",
       "      <th>F5</th>\n",
       "      <th>F6</th>\n",
       "      <th>F7</th>\n",
       "      <th>F8</th>\n",
       "      <th>F9</th>\n",
       "      <th>F10</th>\n",
       "      <th>Class</th>\n",
       "    </tr>\n",
       "  </thead>\n",
       "  <tbody>\n",
       "    <tr>\n",
       "      <th>0</th>\n",
       "      <td>2.899136</td>\n",
       "      <td>-1.504262</td>\n",
       "      <td>-2.865578</td>\n",
       "      <td>3.189817</td>\n",
       "      <td>1.734764</td>\n",
       "      <td>2.105161</td>\n",
       "      <td>-3.229556</td>\n",
       "      <td>2.403973</td>\n",
       "      <td>-2.902707</td>\n",
       "      <td>0.499130</td>\n",
       "      <td>0</td>\n",
       "    </tr>\n",
       "    <tr>\n",
       "      <th>1</th>\n",
       "      <td>3.467613</td>\n",
       "      <td>-4.406937</td>\n",
       "      <td>2.849073</td>\n",
       "      <td>1.153019</td>\n",
       "      <td>2.711802</td>\n",
       "      <td>-1.961105</td>\n",
       "      <td>-2.671268</td>\n",
       "      <td>1.039823</td>\n",
       "      <td>-1.566765</td>\n",
       "      <td>-0.077519</td>\n",
       "      <td>1</td>\n",
       "    </tr>\n",
       "    <tr>\n",
       "      <th>2</th>\n",
       "      <td>3.644711</td>\n",
       "      <td>-0.110035</td>\n",
       "      <td>6.222994</td>\n",
       "      <td>-2.802069</td>\n",
       "      <td>-2.520034</td>\n",
       "      <td>2.023644</td>\n",
       "      <td>0.552524</td>\n",
       "      <td>1.413821</td>\n",
       "      <td>-1.214413</td>\n",
       "      <td>-2.570579</td>\n",
       "      <td>0</td>\n",
       "    </tr>\n",
       "    <tr>\n",
       "      <th>3</th>\n",
       "      <td>6.766245</td>\n",
       "      <td>-1.878676</td>\n",
       "      <td>-2.187759</td>\n",
       "      <td>9.928311</td>\n",
       "      <td>1.398671</td>\n",
       "      <td>-1.391950</td>\n",
       "      <td>-5.457044</td>\n",
       "      <td>-0.512490</td>\n",
       "      <td>-1.123277</td>\n",
       "      <td>1.302933</td>\n",
       "      <td>0</td>\n",
       "    </tr>\n",
       "    <tr>\n",
       "      <th>4</th>\n",
       "      <td>0.310887</td>\n",
       "      <td>-2.485219</td>\n",
       "      <td>2.607958</td>\n",
       "      <td>-1.757280</td>\n",
       "      <td>1.853096</td>\n",
       "      <td>-0.287983</td>\n",
       "      <td>-1.154815</td>\n",
       "      <td>1.309090</td>\n",
       "      <td>-2.093734</td>\n",
       "      <td>2.235665</td>\n",
       "      <td>1</td>\n",
       "    </tr>\n",
       "    <tr>\n",
       "      <th>...</th>\n",
       "      <td>...</td>\n",
       "      <td>...</td>\n",
       "      <td>...</td>\n",
       "      <td>...</td>\n",
       "      <td>...</td>\n",
       "      <td>...</td>\n",
       "      <td>...</td>\n",
       "      <td>...</td>\n",
       "      <td>...</td>\n",
       "      <td>...</td>\n",
       "      <td>...</td>\n",
       "    </tr>\n",
       "    <tr>\n",
       "      <th>495</th>\n",
       "      <td>0.218707</td>\n",
       "      <td>0.491198</td>\n",
       "      <td>-1.439844</td>\n",
       "      <td>-1.414677</td>\n",
       "      <td>1.648513</td>\n",
       "      <td>3.248171</td>\n",
       "      <td>-2.144993</td>\n",
       "      <td>3.165031</td>\n",
       "      <td>-1.861948</td>\n",
       "      <td>0.788817</td>\n",
       "      <td>0</td>\n",
       "    </tr>\n",
       "    <tr>\n",
       "      <th>496</th>\n",
       "      <td>4.153598</td>\n",
       "      <td>-0.616152</td>\n",
       "      <td>1.543311</td>\n",
       "      <td>0.248600</td>\n",
       "      <td>-1.944762</td>\n",
       "      <td>0.097494</td>\n",
       "      <td>2.932468</td>\n",
       "      <td>-0.694211</td>\n",
       "      <td>-1.438984</td>\n",
       "      <td>-0.710786</td>\n",
       "      <td>0</td>\n",
       "    </tr>\n",
       "    <tr>\n",
       "      <th>497</th>\n",
       "      <td>-2.801126</td>\n",
       "      <td>-4.375751</td>\n",
       "      <td>-2.436777</td>\n",
       "      <td>5.271192</td>\n",
       "      <td>-1.857045</td>\n",
       "      <td>-4.107250</td>\n",
       "      <td>-2.672585</td>\n",
       "      <td>1.632947</td>\n",
       "      <td>-2.407046</td>\n",
       "      <td>2.527889</td>\n",
       "      <td>1</td>\n",
       "    </tr>\n",
       "    <tr>\n",
       "      <th>498</th>\n",
       "      <td>2.770104</td>\n",
       "      <td>-1.092493</td>\n",
       "      <td>0.798509</td>\n",
       "      <td>1.294682</td>\n",
       "      <td>4.686547</td>\n",
       "      <td>-2.308703</td>\n",
       "      <td>-3.820610</td>\n",
       "      <td>0.356281</td>\n",
       "      <td>1.419128</td>\n",
       "      <td>1.836637</td>\n",
       "      <td>1</td>\n",
       "    </tr>\n",
       "    <tr>\n",
       "      <th>499</th>\n",
       "      <td>0.390561</td>\n",
       "      <td>-3.145226</td>\n",
       "      <td>-1.686732</td>\n",
       "      <td>2.501004</td>\n",
       "      <td>-1.997774</td>\n",
       "      <td>2.563781</td>\n",
       "      <td>0.122958</td>\n",
       "      <td>1.459501</td>\n",
       "      <td>-5.805571</td>\n",
       "      <td>0.983686</td>\n",
       "      <td>1</td>\n",
       "    </tr>\n",
       "  </tbody>\n",
       "</table>\n",
       "<p>500 rows × 11 columns</p>\n",
       "</div>"
      ],
      "text/plain": [
       "           F1        F2        F3        F4        F5        F6        F7  \\\n",
       "0    2.899136 -1.504262 -2.865578  3.189817  1.734764  2.105161 -3.229556   \n",
       "1    3.467613 -4.406937  2.849073  1.153019  2.711802 -1.961105 -2.671268   \n",
       "2    3.644711 -0.110035  6.222994 -2.802069 -2.520034  2.023644  0.552524   \n",
       "3    6.766245 -1.878676 -2.187759  9.928311  1.398671 -1.391950 -5.457044   \n",
       "4    0.310887 -2.485219  2.607958 -1.757280  1.853096 -0.287983 -1.154815   \n",
       "..        ...       ...       ...       ...       ...       ...       ...   \n",
       "495  0.218707  0.491198 -1.439844 -1.414677  1.648513  3.248171 -2.144993   \n",
       "496  4.153598 -0.616152  1.543311  0.248600 -1.944762  0.097494  2.932468   \n",
       "497 -2.801126 -4.375751 -2.436777  5.271192 -1.857045 -4.107250 -2.672585   \n",
       "498  2.770104 -1.092493  0.798509  1.294682  4.686547 -2.308703 -3.820610   \n",
       "499  0.390561 -3.145226 -1.686732  2.501004 -1.997774  2.563781  0.122958   \n",
       "\n",
       "           F8        F9       F10  Class  \n",
       "0    2.403973 -2.902707  0.499130      0  \n",
       "1    1.039823 -1.566765 -0.077519      1  \n",
       "2    1.413821 -1.214413 -2.570579      0  \n",
       "3   -0.512490 -1.123277  1.302933      0  \n",
       "4    1.309090 -2.093734  2.235665      1  \n",
       "..        ...       ...       ...    ...  \n",
       "495  3.165031 -1.861948  0.788817      0  \n",
       "496 -0.694211 -1.438984 -0.710786      0  \n",
       "497  1.632947 -2.407046  2.527889      1  \n",
       "498  0.356281  1.419128  1.836637      1  \n",
       "499  1.459501 -5.805571  0.983686      1  \n",
       "\n",
       "[500 rows x 11 columns]"
      ]
     },
     "execution_count": 20,
     "metadata": {},
     "output_type": "execute_result"
    }
   ],
   "source": [
    "features = pd.DataFrame(features)\n",
    "labels = pd.DataFrame(labels)\n",
    "df = pd.concat([features, labels], axis=1)\n",
    "df.columns = ['F1','F2','F3','F4','F5','F6','F7','F8','F9','F10','Class']\n",
    "df"
   ]
  },
  {
   "attachments": {},
   "cell_type": "markdown",
   "id": "e9a03dfc",
   "metadata": {},
   "source": [
    "Now, as we are working with Naive Bayes classifer, we do not need to do any feature scaling, so let's get straight into building our model. "
   ]
  },
  {
   "attachments": {},
   "cell_type": "markdown",
   "id": "9343433f",
   "metadata": {},
   "source": [
    "First, we must split our data into training and testing data."
   ]
  },
  {
   "cell_type": "code",
   "execution_count": 21,
   "id": "fc6cc873",
   "metadata": {},
   "outputs": [],
   "source": [
    "from sklearn.model_selection import train_test_split\n",
    "x_train, x_test, y_train, y_test = train_test_split(features, labels, test_size=0.2, shuffle=True, random_state = 42)"
   ]
  },
  {
   "attachments": {},
   "cell_type": "markdown",
   "id": "c21e3f0e",
   "metadata": {},
   "source": [
    "Next, we need to import and build our model."
   ]
  },
  {
   "cell_type": "code",
   "execution_count": 22,
   "id": "9beeafef",
   "metadata": {},
   "outputs": [],
   "source": [
    "from sklearn.naive_bayes import GaussianNB\n",
    "GNB = GaussianNB(var_smoothing=0.5)"
   ]
  },
  {
   "cell_type": "code",
   "execution_count": 23,
   "id": "d118a892",
   "metadata": {},
   "outputs": [
    {
     "name": "stderr",
     "output_type": "stream",
     "text": [
      "/Users/nanfletcher-lloyd/opt/anaconda3/lib/python3.8/site-packages/sklearn/utils/validation.py:1111: DataConversionWarning: A column-vector y was passed when a 1d array was expected. Please change the shape of y to (n_samples, ), for example using ravel().\n",
      "  y = column_or_1d(y, warn=True)\n"
     ]
    }
   ],
   "source": [
    "GNB.fit(x_train, y_train) # fits the model on the training data\n",
    "y_pred = GNB.predict(x_test) # predicts labels on the test data"
   ]
  },
  {
   "attachments": {},
   "cell_type": "markdown",
   "id": "12d324a1",
   "metadata": {},
   "source": [
    "Now, we want to evaluate the performance of the classification model."
   ]
  },
  {
   "cell_type": "code",
   "execution_count": 24,
   "id": "5a7164ba",
   "metadata": {},
   "outputs": [],
   "source": [
    "from sklearn.metrics import accuracy_score\n",
    "from sklearn.metrics import precision_score\n",
    "from sklearn.metrics import recall_score\n",
    "from sklearn.metrics import f1_score\n",
    "from sklearn.metrics import classification_report\n",
    "from sklearn.metrics import roc_auc_score"
   ]
  },
  {
   "cell_type": "code",
   "execution_count": 25,
   "id": "8d5d325a",
   "metadata": {},
   "outputs": [
    {
     "name": "stdout",
     "output_type": "stream",
     "text": [
      "\n",
      "f1:\t\t 0.6666666666666666\n",
      "recall\t\t 0.5142857142857142\n",
      "precision\t 0.9473684210526315\n",
      "\n",
      "f1_avg:\t\t 0.7716894977168949\n",
      "recall_avg\t 0.7494505494505495\n",
      "precision_avg\t 0.8687459389213774\n",
      "\n",
      "f1_sd:\t\t 0.1050228310502283\n",
      "recall_sd\t 0.23516483516483522\n",
      "precision_sd\t 0.07862248213125406\n",
      "\n",
      "               precision    recall  f1-score   support\n",
      "\n",
      "           0       0.79      0.98      0.88        65\n",
      "           1       0.95      0.51      0.67        35\n",
      "\n",
      "    accuracy                           0.82       100\n",
      "   macro avg       0.87      0.75      0.77       100\n",
      "weighted avg       0.85      0.82      0.80       100\n",
      "\n",
      "0.7494505494505495\n"
     ]
    }
   ],
   "source": [
    "f1 = f1_score(y_test, y_pred)\n",
    "recall = recall_score(y_test, y_pred)\n",
    "precision = precision_score(y_test, y_pred)\n",
    "\n",
    "f1_avg = mean(f1_score(y_test, y_pred, average=None))\n",
    "recall_avg = mean(recall_score(y_test, y_pred, average=None))\n",
    "precision_avg = mean(precision_score(y_test, y_pred, average=None))\n",
    "\n",
    "f1_sd = std(f1_score(y_test, y_pred, average=None))\n",
    "recall_sd = std(recall_score(y_test, y_pred, average=None))\n",
    "precision_sd = std(precision_score(y_test, y_pred, average=None))\n",
    "\n",
    "print('\\nf1:\\t\\t',f1)\n",
    "print('recall\\t\\t',recall)\n",
    "print('precision\\t',precision)\n",
    "\n",
    "print('\\nf1_avg:\\t\\t',f1_avg)\n",
    "print('recall_avg\\t',recall_avg)\n",
    "print('precision_avg\\t',precision_avg)\n",
    "\n",
    "print('\\nf1_sd:\\t\\t',f1_sd)\n",
    "print('recall_sd\\t',recall_sd)\n",
    "print('precision_sd\\t',precision_sd)\n",
    "\n",
    "print('\\n',classification_report(y_test, y_pred))\n",
    "print(roc_auc_score(y_test, y_pred))"
   ]
  },
  {
   "attachments": {},
   "cell_type": "markdown",
   "id": "40c1815b",
   "metadata": {},
   "source": [
    "Now, these scores are not very good, particularly when it comes to identifying the class of interest (Class 1). So how can we improve model performance?"
   ]
  },
  {
   "attachments": {},
   "cell_type": "markdown",
   "id": "e4d622d0",
   "metadata": {},
   "source": [
    "Well, one method is to tune the hyperparameters of the model (read more about this here: https://medium.com/analytics-vidhya/how-to-improve-naive-bayes-9fa698e14cba)\n",
    "\n",
    "For this, we first need to import the sklearn GridSearchCV function. This functions runs through all the different parameters fed into the parameter grid and produces the best combination of parameters based on a chosen scoring metric.\n",
    "\n",
    "Learn more about how to use this function here: https://scikit-learn.org/stable/modules/generated/sklearn.model_selection.GridSearchCV.html"
   ]
  },
  {
   "cell_type": "code",
   "execution_count": 26,
   "id": "3cd658be",
   "metadata": {},
   "outputs": [],
   "source": [
    "from sklearn.model_selection import GridSearchCV"
   ]
  },
  {
   "attachments": {},
   "cell_type": "markdown",
   "id": "603c043d",
   "metadata": {},
   "source": [
    "Next, we need to set the range of all the parameters we will feed into the parameter grid. For a Gaussian Naive Bayes classifier, this is just var_smoothing, which represents a stability calculation to widen (or smooth) the curve and therefore account for more samples that are further away from the distribution mean."
   ]
  },
  {
   "cell_type": "code",
   "execution_count": 27,
   "id": "1bd54c20",
   "metadata": {},
   "outputs": [],
   "source": [
    "param_grid_nb = {'var_smoothing': np.logspace(0,-9, num=1000)} # np.logspace returns numbers spaced evenly on a log scale, starts from 0, ends at -9, and generates 1000 samples"
   ]
  },
  {
   "attachments": {},
   "cell_type": "markdown",
   "id": "3ea1a849",
   "metadata": {},
   "source": [
    "Now, we build the GridSearchCV, using the model and parameter grid. We then fit this searching tool to the training data using a 10-fold cross-validation to find an optimal combination of hyperparameters that minimizes a predefined loss function to give better results."
   ]
  },
  {
   "cell_type": "code",
   "execution_count": 28,
   "id": "e1e9b352",
   "metadata": {},
   "outputs": [
    {
     "name": "stdout",
     "output_type": "stream",
     "text": [
      "Fitting 10 folds for each of 1000 candidates, totalling 10000 fits\n"
     ]
    },
    {
     "name": "stderr",
     "output_type": "stream",
     "text": [
      "/Users/nanfletcher-lloyd/opt/anaconda3/lib/python3.8/site-packages/sklearn/utils/validation.py:1111: DataConversionWarning: A column-vector y was passed when a 1d array was expected. Please change the shape of y to (n_samples, ), for example using ravel().\n",
      "  y = column_or_1d(y, warn=True)\n"
     ]
    },
    {
     "data": {
      "text/html": [
       "<style>#sk-container-id-1 {color: black;background-color: white;}#sk-container-id-1 pre{padding: 0;}#sk-container-id-1 div.sk-toggleable {background-color: white;}#sk-container-id-1 label.sk-toggleable__label {cursor: pointer;display: block;width: 100%;margin-bottom: 0;padding: 0.3em;box-sizing: border-box;text-align: center;}#sk-container-id-1 label.sk-toggleable__label-arrow:before {content: \"▸\";float: left;margin-right: 0.25em;color: #696969;}#sk-container-id-1 label.sk-toggleable__label-arrow:hover:before {color: black;}#sk-container-id-1 div.sk-estimator:hover label.sk-toggleable__label-arrow:before {color: black;}#sk-container-id-1 div.sk-toggleable__content {max-height: 0;max-width: 0;overflow: hidden;text-align: left;background-color: #f0f8ff;}#sk-container-id-1 div.sk-toggleable__content pre {margin: 0.2em;color: black;border-radius: 0.25em;background-color: #f0f8ff;}#sk-container-id-1 input.sk-toggleable__control:checked~div.sk-toggleable__content {max-height: 200px;max-width: 100%;overflow: auto;}#sk-container-id-1 input.sk-toggleable__control:checked~label.sk-toggleable__label-arrow:before {content: \"▾\";}#sk-container-id-1 div.sk-estimator input.sk-toggleable__control:checked~label.sk-toggleable__label {background-color: #d4ebff;}#sk-container-id-1 div.sk-label input.sk-toggleable__control:checked~label.sk-toggleable__label {background-color: #d4ebff;}#sk-container-id-1 input.sk-hidden--visually {border: 0;clip: rect(1px 1px 1px 1px);clip: rect(1px, 1px, 1px, 1px);height: 1px;margin: -1px;overflow: hidden;padding: 0;position: absolute;width: 1px;}#sk-container-id-1 div.sk-estimator {font-family: monospace;background-color: #f0f8ff;border: 1px dotted black;border-radius: 0.25em;box-sizing: border-box;margin-bottom: 0.5em;}#sk-container-id-1 div.sk-estimator:hover {background-color: #d4ebff;}#sk-container-id-1 div.sk-parallel-item::after {content: \"\";width: 100%;border-bottom: 1px solid gray;flex-grow: 1;}#sk-container-id-1 div.sk-label:hover label.sk-toggleable__label {background-color: #d4ebff;}#sk-container-id-1 div.sk-serial::before {content: \"\";position: absolute;border-left: 1px solid gray;box-sizing: border-box;top: 0;bottom: 0;left: 50%;z-index: 0;}#sk-container-id-1 div.sk-serial {display: flex;flex-direction: column;align-items: center;background-color: white;padding-right: 0.2em;padding-left: 0.2em;position: relative;}#sk-container-id-1 div.sk-item {position: relative;z-index: 1;}#sk-container-id-1 div.sk-parallel {display: flex;align-items: stretch;justify-content: center;background-color: white;position: relative;}#sk-container-id-1 div.sk-item::before, #sk-container-id-1 div.sk-parallel-item::before {content: \"\";position: absolute;border-left: 1px solid gray;box-sizing: border-box;top: 0;bottom: 0;left: 50%;z-index: -1;}#sk-container-id-1 div.sk-parallel-item {display: flex;flex-direction: column;z-index: 1;position: relative;background-color: white;}#sk-container-id-1 div.sk-parallel-item:first-child::after {align-self: flex-end;width: 50%;}#sk-container-id-1 div.sk-parallel-item:last-child::after {align-self: flex-start;width: 50%;}#sk-container-id-1 div.sk-parallel-item:only-child::after {width: 0;}#sk-container-id-1 div.sk-dashed-wrapped {border: 1px dashed gray;margin: 0 0.4em 0.5em 0.4em;box-sizing: border-box;padding-bottom: 0.4em;background-color: white;}#sk-container-id-1 div.sk-label label {font-family: monospace;font-weight: bold;display: inline-block;line-height: 1.2em;}#sk-container-id-1 div.sk-label-container {text-align: center;}#sk-container-id-1 div.sk-container {/* jupyter's `normalize.less` sets `[hidden] { display: none; }` but bootstrap.min.css set `[hidden] { display: none !important; }` so we also need the `!important` here to be able to override the default hidden behavior on the sphinx rendered scikit-learn.org. See: https://github.com/scikit-learn/scikit-learn/issues/21755 */display: inline-block !important;position: relative;}#sk-container-id-1 div.sk-text-repr-fallback {display: none;}</style><div id=\"sk-container-id-1\" class=\"sk-top-container\"><div class=\"sk-text-repr-fallback\"><pre>GridSearchCV(cv=10, estimator=GaussianNB(var_smoothing=0.5), n_jobs=-1,\n",
       "             param_grid={&#x27;var_smoothing&#x27;: array([1.00000000e+00, 9.79469667e-01, 9.59360829e-01, 9.39664831e-01,\n",
       "       9.20373200e-01, 9.01477631e-01, 8.82969996e-01, 8.64842328e-01,\n",
       "       8.47086827e-01, 8.29695852e-01, 8.12661920e-01, 7.95977700e-01,\n",
       "       7.79636013e-01, 7.63629826e-01, 7.47952252e-01, 7.32596543e-01,\n",
       "       7.1755...\n",
       "       1.61141428e-09, 1.57833141e-09, 1.54592774e-09, 1.51418933e-09,\n",
       "       1.48310251e-09, 1.45265393e-09, 1.42283046e-09, 1.39361927e-09,\n",
       "       1.36500781e-09, 1.33698374e-09, 1.30953502e-09, 1.28264983e-09,\n",
       "       1.25631660e-09, 1.23052400e-09, 1.20526094e-09, 1.18051653e-09,\n",
       "       1.15628013e-09, 1.13254132e-09, 1.10928986e-09, 1.08651577e-09,\n",
       "       1.06420924e-09, 1.04236067e-09, 1.02096066e-09, 1.00000000e-09])},\n",
       "             verbose=1)</pre><b>In a Jupyter environment, please rerun this cell to show the HTML representation or trust the notebook. <br />On GitHub, the HTML representation is unable to render, please try loading this page with nbviewer.org.</b></div><div class=\"sk-container\" hidden><div class=\"sk-item sk-dashed-wrapped\"><div class=\"sk-label-container\"><div class=\"sk-label sk-toggleable\"><input class=\"sk-toggleable__control sk-hidden--visually\" id=\"sk-estimator-id-1\" type=\"checkbox\" ><label for=\"sk-estimator-id-1\" class=\"sk-toggleable__label sk-toggleable__label-arrow\">GridSearchCV</label><div class=\"sk-toggleable__content\"><pre>GridSearchCV(cv=10, estimator=GaussianNB(var_smoothing=0.5), n_jobs=-1,\n",
       "             param_grid={&#x27;var_smoothing&#x27;: array([1.00000000e+00, 9.79469667e-01, 9.59360829e-01, 9.39664831e-01,\n",
       "       9.20373200e-01, 9.01477631e-01, 8.82969996e-01, 8.64842328e-01,\n",
       "       8.47086827e-01, 8.29695852e-01, 8.12661920e-01, 7.95977700e-01,\n",
       "       7.79636013e-01, 7.63629826e-01, 7.47952252e-01, 7.32596543e-01,\n",
       "       7.1755...\n",
       "       1.61141428e-09, 1.57833141e-09, 1.54592774e-09, 1.51418933e-09,\n",
       "       1.48310251e-09, 1.45265393e-09, 1.42283046e-09, 1.39361927e-09,\n",
       "       1.36500781e-09, 1.33698374e-09, 1.30953502e-09, 1.28264983e-09,\n",
       "       1.25631660e-09, 1.23052400e-09, 1.20526094e-09, 1.18051653e-09,\n",
       "       1.15628013e-09, 1.13254132e-09, 1.10928986e-09, 1.08651577e-09,\n",
       "       1.06420924e-09, 1.04236067e-09, 1.02096066e-09, 1.00000000e-09])},\n",
       "             verbose=1)</pre></div></div></div><div class=\"sk-parallel\"><div class=\"sk-parallel-item\"><div class=\"sk-item\"><div class=\"sk-label-container\"><div class=\"sk-label sk-toggleable\"><input class=\"sk-toggleable__control sk-hidden--visually\" id=\"sk-estimator-id-2\" type=\"checkbox\" ><label for=\"sk-estimator-id-2\" class=\"sk-toggleable__label sk-toggleable__label-arrow\">estimator: GaussianNB</label><div class=\"sk-toggleable__content\"><pre>GaussianNB(var_smoothing=0.5)</pre></div></div></div><div class=\"sk-serial\"><div class=\"sk-item\"><div class=\"sk-estimator sk-toggleable\"><input class=\"sk-toggleable__control sk-hidden--visually\" id=\"sk-estimator-id-3\" type=\"checkbox\" ><label for=\"sk-estimator-id-3\" class=\"sk-toggleable__label sk-toggleable__label-arrow\">GaussianNB</label><div class=\"sk-toggleable__content\"><pre>GaussianNB(var_smoothing=0.5)</pre></div></div></div></div></div></div></div></div></div></div>"
      ],
      "text/plain": [
       "GridSearchCV(cv=10, estimator=GaussianNB(var_smoothing=0.5), n_jobs=-1,\n",
       "             param_grid={'var_smoothing': array([1.00000000e+00, 9.79469667e-01, 9.59360829e-01, 9.39664831e-01,\n",
       "       9.20373200e-01, 9.01477631e-01, 8.82969996e-01, 8.64842328e-01,\n",
       "       8.47086827e-01, 8.29695852e-01, 8.12661920e-01, 7.95977700e-01,\n",
       "       7.79636013e-01, 7.63629826e-01, 7.47952252e-01, 7.32596543e-01,\n",
       "       7.1755...\n",
       "       1.61141428e-09, 1.57833141e-09, 1.54592774e-09, 1.51418933e-09,\n",
       "       1.48310251e-09, 1.45265393e-09, 1.42283046e-09, 1.39361927e-09,\n",
       "       1.36500781e-09, 1.33698374e-09, 1.30953502e-09, 1.28264983e-09,\n",
       "       1.25631660e-09, 1.23052400e-09, 1.20526094e-09, 1.18051653e-09,\n",
       "       1.15628013e-09, 1.13254132e-09, 1.10928986e-09, 1.08651577e-09,\n",
       "       1.06420924e-09, 1.04236067e-09, 1.02096066e-09, 1.00000000e-09])},\n",
       "             verbose=1)"
      ]
     },
     "execution_count": 28,
     "metadata": {},
     "output_type": "execute_result"
    }
   ],
   "source": [
    "GNB_Grid = GridSearchCV(estimator=GaussianNB(var_smoothing=0.5), param_grid=param_grid_nb, verbose=1, cv=10, n_jobs=-1)\n",
    "GNB_Grid.fit(x_train, y_train)"
   ]
  },
  {
   "cell_type": "code",
   "execution_count": 29,
   "id": "e4887cea",
   "metadata": {},
   "outputs": [
    {
     "name": "stdout",
     "output_type": "stream",
     "text": [
      "GaussianNB(var_smoothing=0.12305240043592616)\n"
     ]
    }
   ],
   "source": [
    "print(GNB_Grid.best_estimator_)"
   ]
  },
  {
   "attachments": {},
   "cell_type": "markdown",
   "id": "cdcc4ab1",
   "metadata": {},
   "source": [
    "Now we want to re-evaluate the model on the test data."
   ]
  },
  {
   "cell_type": "code",
   "execution_count": 30,
   "id": "1ff0e5a7",
   "metadata": {},
   "outputs": [],
   "source": [
    "grid_pred = GNB_Grid.predict(x_test)"
   ]
  },
  {
   "cell_type": "code",
   "execution_count": 31,
   "id": "8d5d325a",
   "metadata": {},
   "outputs": [
    {
     "name": "stdout",
     "output_type": "stream",
     "text": [
      "\n",
      "f1:\t\t 0.787878787878788\n",
      "recall\t\t 0.7428571428571429\n",
      "precision\t 0.8387096774193549\n",
      "\n",
      "f1_avg:\t\t 0.8417005879692447\n",
      "recall_avg\t 0.832967032967033\n",
      "precision_avg\t 0.8541374474053296\n",
      "\n",
      "f1_sd:\t\t 0.05382180009045673\n",
      "recall_sd\t 0.09010989010989012\n",
      "precision_sd\t 0.015427769985974726\n",
      "\n",
      "               precision    recall  f1-score   support\n",
      "\n",
      "           0       0.87      0.92      0.90        65\n",
      "           1       0.84      0.74      0.79        35\n",
      "\n",
      "    accuracy                           0.86       100\n",
      "   macro avg       0.85      0.83      0.84       100\n",
      "weighted avg       0.86      0.86      0.86       100\n",
      "\n",
      "0.832967032967033\n"
     ]
    }
   ],
   "source": [
    "f1 = f1_score(y_test, grid_pred)\n",
    "recall = recall_score(y_test, grid_pred)\n",
    "precision = precision_score(y_test, grid_pred)\n",
    "\n",
    "f1_avg = mean(f1_score(y_test, grid_pred, average=None))\n",
    "recall_avg = mean(recall_score(y_test, grid_pred, average=None))\n",
    "precision_avg = mean(precision_score(y_test, grid_pred, average=None))\n",
    "\n",
    "f1_sd = std(f1_score(y_test, grid_pred, average=None))\n",
    "recall_sd = std(recall_score(y_test, grid_pred, average=None))\n",
    "precision_sd = std(precision_score(y_test, grid_pred, average=None))\n",
    "\n",
    "print('\\nf1:\\t\\t',f1)\n",
    "print('recall\\t\\t',recall)\n",
    "print('precision\\t',precision)\n",
    "\n",
    "print('\\nf1_avg:\\t\\t',f1_avg)\n",
    "print('recall_avg\\t',recall_avg)\n",
    "print('precision_avg\\t',precision_avg)\n",
    "\n",
    "print('\\nf1_sd:\\t\\t',f1_sd)\n",
    "print('recall_sd\\t',recall_sd)\n",
    "print('precision_sd\\t',precision_sd)\n",
    "\n",
    "print('\\n',classification_report(y_test, grid_pred))\n",
    "print(roc_auc_score(y_test, grid_pred))"
   ]
  },
  {
   "attachments": {},
   "cell_type": "markdown",
   "id": "94211839",
   "metadata": {},
   "source": [
    "Now, these scores are much better!"
   ]
  },
  {
   "attachments": {},
   "cell_type": "markdown",
   "id": "ed890df2",
   "metadata": {},
   "source": [
    "And there you have it! You've now built and tuned your first Bayesian classifer."
   ]
  },
  {
   "attachments": {},
   "cell_type": "markdown",
   "id": "cd194e07",
   "metadata": {},
   "source": [
    "Now you've finished this tutorial, follow the instructions and complete the assessment."
   ]
  }
 ],
 "metadata": {
  "kernelspec": {
   "display_name": "Python 3.8.8 ('base')",
   "language": "python",
   "name": "python3"
  },
  "language_info": {
   "codemirror_mode": {
    "name": "ipython",
    "version": 3
   },
   "file_extension": ".py",
   "mimetype": "text/x-python",
   "name": "python",
   "nbconvert_exporter": "python",
   "pygments_lexer": "ipython3",
   "version": "3.8.8"
  },
  "vscode": {
   "interpreter": {
    "hash": "730e964555fb2542a911b5002c3c4a5ea6b8ea7e74d00811d465953d33b870ef"
   }
  }
 },
 "nbformat": 4,
 "nbformat_minor": 5
}
