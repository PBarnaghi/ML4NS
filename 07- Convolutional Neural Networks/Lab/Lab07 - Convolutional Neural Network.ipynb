{
 "cells": [
  {
   "cell_type": "markdown",
   "id": "7e941aa0",
   "metadata": {},
   "source": [
    "# Convolutional Neural Network (ConvNet/CNN)"
   ]
  },
  {
   "cell_type": "markdown",
   "id": "7b189a7f",
   "metadata": {},
   "source": [
    "Convolutional Neural Networks (ConvNet/CNN) are Deep Learning models that can take an input image, assign relevance (learnable weights and biases) to various aspects/objects in the image, and distinguish between them. <br />\n",
    "\n"
   ]
  },
  {
   "cell_type": "markdown",
   "id": "ae1707f8",
   "metadata": {},
   "source": [
    "<center><img src=\"./_dependents/rgb.png\" width=\"500\" /></center>"
   ]
  },
  {
   "cell_type": "markdown",
   "id": "7735f8a3",
   "metadata": {},
   "source": [
    "You often see images divided into three colour planes — Red, Green, and Blue — RGB. <br />\n",
    "But they can be stored in a variety of colour spaces, including Grayscale, RGB, HSV, CMYK, and others. <br />\n",
    "\n",
    "\n",
    "With the basic machine learning techniques, it is required to hand-engineering features and analyse the figures dimension by dimension. \n",
    "Imagine now taking a photo which exceeds 8K (7680x4320) dimensions and how computationally intensive it will be.\n",
    "The ConvNet's job is to compress the images into a format that is easier to process while preserving elements that are important for obtaining a decent prediction. This is critical for designing an architecture that is capable of learning features while also being scalable to large datasets. <br />\n",
    "So, while basic machine learning techniques require hand-engineering of features, ConvNets can learn these filters/characteristics through training.\n",
    "\n",
    "\n",
    "Below an example of a CNN architecture for classification. Starting from a picture, it analyses through its layers and output the correct class of object present in the image (a car in this case)"
   ]
  },
  {
   "cell_type": "markdown",
   "id": "bd36dbc4",
   "metadata": {},
   "source": [
    "<center><img src=\"./_dependents/basic_architecture.png\" width=\"800\" /></center>\n"
   ]
  },
  {
   "cell_type": "markdown",
   "id": "57a47498",
   "metadata": {},
   "source": [
    "## Using PyTorch for creating a CNN architecture"
   ]
  },
  {
   "cell_type": "markdown",
   "id": "d0782bb3",
   "metadata": {},
   "source": [
    "In this experiment we will use the ```PyTorch``` library for creating our own CNN model.\n",
    "\n",
    "First of all, let us import the necessary libraries with the following commands:"
   ]
  },
  {
   "cell_type": "code",
   "execution_count": 1,
   "id": "9c895e95",
   "metadata": {},
   "outputs": [
    {
     "name": "stderr",
     "output_type": "stream",
     "text": [
      "d:\\Anaconda3\\envs\\imperial\\lib\\site-packages\\tqdm\\auto.py:22: TqdmWarning: IProgress not found. Please update jupyter and ipywidgets. See https://ipywidgets.readthedocs.io/en/stable/user_install.html\n",
      "  from .autonotebook import tqdm as notebook_tqdm\n"
     ]
    }
   ],
   "source": [
    "import torch # PyTorch is an open source machine learning framework.\n",
    "import torchvision # The torchvision package consists of popular datasets, model architectures, and common image transformations for computer vision.\n",
    "from torchvision import transforms\n",
    "from PIL import Image # PIL is a library to process images\n",
    "import numpy as np # package to work with numbers\n",
    "from sklearn.metrics import recall_score, precision_score, f1_score, accuracy_score, confusion_matrix\n"
   ]
  },
  {
   "cell_type": "markdown",
   "id": "09ced771",
   "metadata": {},
   "source": [
    "We can create a ```device``` variable to check if a GPU is available.\n",
    "If the output of device variable is 'cuda', then it means that PyTorch will use a GPU for the analysis. Otherwise, CPU is used instead."
   ]
  },
  {
   "cell_type": "code",
   "execution_count": 2,
   "id": "d56bb9df",
   "metadata": {},
   "outputs": [
    {
     "name": "stdout",
     "output_type": "stream",
     "text": [
      "GPU available: True\n",
      "NVIDIA GeForce RTX 3070\n"
     ]
    },
    {
     "data": {
      "text/plain": [
       "device(type='cuda')"
      ]
     },
     "execution_count": 2,
     "metadata": {},
     "output_type": "execute_result"
    }
   ],
   "source": [
    "# Device configuration\n",
    "print('GPU available: {}' .format(torch.cuda.is_available())) \n",
    "device = torch.device('cuda' if torch.cuda.is_available() else 'cpu')\n",
    "train_on_gpu = torch.cuda.is_available()\n",
    "\n",
    "device\n"
   ]
  },
  {
   "cell_type": "markdown",
   "id": "737e41c8",
   "metadata": {},
   "source": [
    "## Load CIFAR10 Dataset"
   ]
  },
  {
   "cell_type": "markdown",
   "id": "99aced5d",
   "metadata": {},
   "source": [
    "We will now download the ```CIFAR10``` dataset that we will use for the laboratory and save it in a root folder path called 'data'. ```CIFAR10``` is a dataset used for image recognition that is commonly used for training image processing systems. The dataset is made up of 60000 32x32 colour images in 10 classes, with 6000 images per class. There are 50000 training images and 10000 test images.\n",
    "\n",
    "\n",
    "Additional information on the dataset can be found [here](https://www.cs.toronto.edu/~kriz/cifar.html)"
   ]
  },
  {
   "cell_type": "code",
   "execution_count": 3,
   "id": "55273fe8",
   "metadata": {},
   "outputs": [
    {
     "name": "stdout",
     "output_type": "stream",
     "text": [
      "Files already downloaded and verified\n",
      "Dataset CIFAR10\n",
      "    Number of datapoints: 50000\n",
      "    Root location: dataset\n",
      "    Split: Train\n",
      "    StandardTransform\n",
      "Transform: Compose(\n",
      "               ToTensor()\n",
      "               Normalize(mean=(0.5, 0.5, 0.5), std=(0.5, 0.5, 0.5))\n",
      "           )\n",
      "------\n",
      "Dataset CIFAR10\n",
      "    Number of datapoints: 10000\n",
      "    Root location: dataset\n",
      "    Split: Test\n",
      "    StandardTransform\n",
      "Transform: ToTensor()\n"
     ]
    }
   ],
   "source": [
    "from torchvision import datasets\n",
    "from torchvision.transforms import ToTensor\n",
    "from torch.utils.data.sampler import SubsetRandomSampler\n",
    "\n",
    "# specify the image classes\n",
    "classes = ['airplane', 'automobile', 'bird', 'cat', 'deer',\n",
    "           'dog', 'frog', 'horse', 'ship', 'truck']\n",
    "\n",
    "# convert data to a normalized torch.FloatTensor\n",
    "transform = transforms.Compose([\n",
    "    transforms.ToTensor(),\n",
    "    transforms.Normalize((0.5, 0.5, 0.5), (0.5, 0.5, 0.5))\n",
    "    ])\n",
    "\n",
    "train_data = datasets.CIFAR10(\n",
    "    root = 'dataset', # path where the data will be downloaded\n",
    "    train = True,  # true if you want to download the training set, false for the testing set                        \n",
    "    transform = transform, # transform the data into a tensor that will be used later for analysis\n",
    "    download = True,            \n",
    ")\n",
    "\n",
    "test_data = datasets.CIFAR10(\n",
    "    root = 'dataset', \n",
    "    train = False, \n",
    "    transform = ToTensor()\n",
    ")\n",
    "\n",
    "print(train_data)\n",
    "print('------')\n",
    "print(test_data)"
   ]
  },
  {
   "cell_type": "markdown",
   "id": "178b1f1e",
   "metadata": {},
   "source": [
    "Let's examine the training data with a random index"
   ]
  },
  {
   "cell_type": "code",
   "execution_count": 4,
   "id": "4cd02efd",
   "metadata": {},
   "outputs": [
    {
     "data": {
      "image/png": "[encoded data removed]",
      "text/plain": [
       "<Figure size 432x288 with 1 Axes>"
      ]
     },
     "metadata": {
      "needs_background": "light"
     },
     "output_type": "display_data"
    }
   ],
   "source": [
    "import matplotlib.pyplot as plt\n",
    "import random\n",
    "\n",
    "idx = random.randint(0, train_data.data.shape[0])\n",
    "\n",
    "plt.imshow(train_data.data[idx], cmap='gray')\n",
    "plt.title('%s' % classes[train_data.targets[idx]])\n",
    "plt.show()\n"
   ]
  },
  {
   "cell_type": "markdown",
   "id": "08ec0c44",
   "metadata": {},
   "source": [
    "## Preparing data with DataLoader"
   ]
  },
  {
   "cell_type": "markdown",
   "id": "e37e6b57",
   "metadata": {},
   "source": [
    "The Dataset retrieves our dataset’s features and labels one sample at a time. While training a model, we want to pass samples in “minibatches”, reshuffle the data at every epoch to reduce model overfitting.\n",
    "\n",
    "```DataLoader``` is an iterable variable that we can use in PyTorch to automatically perform these functions.\n",
    "\n",
    "For additional information on ```DataLoader```, you can refer to the [official documentation](https://pytorch.org/docs/stable/data.html)"
   ]
  },
  {
   "cell_type": "markdown",
   "id": "ab06ce14",
   "metadata": {},
   "source": [
    "First let's split our training set into training and validation. Validation can be used for testing the scores of our model during training."
   ]
  },
  {
   "cell_type": "code",
   "execution_count": 5,
   "id": "1909528a",
   "metadata": {},
   "outputs": [],
   "source": [
    "validation_size = 0.2\n",
    "\n",
    "# obtain training indices that will be used for validation\n",
    "num_train = len(train_data)\n",
    "indices = list(range(num_train))\n",
    "np.random.shuffle(indices)\n",
    "split = int(np.floor(validation_size * num_train))\n",
    "train_idx, valid_idx = indices[split:], indices[:split]\n",
    "\n",
    "# define samplers for obtaining training and validation batches\n",
    "train_sampler = SubsetRandomSampler(train_idx)\n",
    "valid_sampler = SubsetRandomSampler(valid_idx)"
   ]
  },
  {
   "cell_type": "markdown",
   "id": "96ffa426",
   "metadata": {},
   "source": [
    "Below we will load the dataset into DataLoader of batch_size=64 features and labels respectively. "
   ]
  },
  {
   "cell_type": "code",
   "execution_count": 6,
   "id": "45585139",
   "metadata": {},
   "outputs": [],
   "source": [
    "from torch.utils.data import DataLoader\n",
    "\n",
    "batch_size=64\n",
    "shuffle_data =  True\n",
    "\n",
    "train_dataloader = DataLoader(train_data, \n",
    "                              batch_size=batch_size, \n",
    "                              sampler=train_sampler)\n",
    "\n",
    "val_dataloader = DataLoader(train_data, \n",
    "                              batch_size=batch_size, \n",
    "                              sampler=valid_sampler)\n",
    "\n",
    "test_dataloader = DataLoader(test_data, \n",
    "                             batch_size=batch_size,\n",
    "                             shuffle=shuffle_data)"
   ]
  },
  {
   "cell_type": "markdown",
   "id": "0790c652",
   "metadata": {},
   "source": [
    "We can iterate over the DataLoader variable and extracting the features of the image and the corresponding label"
   ]
  },
  {
   "cell_type": "code",
   "execution_count": 7,
   "id": "80197598",
   "metadata": {},
   "outputs": [
    {
     "data": {
      "image/png": "[encoded data removed]",
      "text/plain": [
       "<Figure size 1800x288 with 20 Axes>"
      ]
     },
     "metadata": {},
     "output_type": "display_data"
    }
   ],
   "source": [
    "# helper function to un-normalize and display an image\n",
    "def imshow(img):\n",
    "    img = img / 2 + 0.5  # unnormalize\n",
    "    plt.imshow(np.transpose(img, (1, 2, 0)))  # convert from Tensor image\n",
    "\n",
    "# obtain one batch of training images\n",
    "dataiter = iter(train_dataloader)\n",
    "images, labels = dataiter.next()  # if this line gives you error, change it into: images, labels = next(dataiter)\n",
    "images = images.numpy() # convert images to numpy for display\n",
    "# plot the images in the batch, along with the corresponding labels\n",
    "fig = plt.figure(figsize=(25, 4))\n",
    "# display 20 images\n",
    "for idx in np.arange(20):\n",
    "    ax = fig.add_subplot(2, 10, idx+1, xticks=[], yticks=[])\n",
    "    imshow(images[idx])\n",
    "    ax.set_title(classes[labels[idx]])"
   ]
  },
  {
   "cell_type": "code",
   "execution_count": null,
   "id": "edb64153",
   "metadata": {},
   "outputs": [],
   "source": [
    "images.shape"
   ]
  },
  {
   "cell_type": "markdown",
   "id": "0d84492d",
   "metadata": {},
   "source": [
    "## Create CNN Architecture"
   ]
  },
  {
   "cell_type": "markdown",
   "id": "ce1a41c4",
   "metadata": {},
   "source": [
    "We will now create the architecture for the CNN. In this example we will use two convolutional layers followed by three fully-connected layers. \n",
    "\n",
    "When creating the network, we also need to specify the activation function of each layer. We will use the Rectified Linear Units (ReLU) in this case.\n",
    "\n",
    "If necessary, we can also introduce a regularisation layer to reduce possible overfitting. A simple way to do this can be to use dropout layers.\n"
   ]
  },
  {
   "cell_type": "code",
   "execution_count": null,
   "id": "9a333a13",
   "metadata": {},
   "outputs": [],
   "source": [
    "import torch.nn as nn\n",
    "import torch.optim as optim\n",
    "import torch.nn.functional as F\n",
    "# define the CNN architecture\n",
    "\n",
    "class CNN(nn.Module):\n",
    "    def __init__(self):\n",
    "        super(CNN, self).__init__()\n",
    "        self.conv1 = nn.Conv2d(3, 6, 5) #n_channels = 3, rgb image. These parameters can be modified and optimised based on the task and/or dataset\n",
    "        self.pool = nn.MaxPool2d(2, 2) # Applies 2D max-pooling to reduce the spatial dimensions of the input volume\n",
    "        self.conv2 = nn.Conv2d(6, 16, 5)\n",
    "        #self.conv2_drop = nn.Dropout2d()\n",
    "        self.fc1 = nn.Linear(16 * 5 * 5, 120) # Fully connected layers\n",
    "        self.fc2 = nn.Linear(120, 84) \n",
    "        self.fc3 = nn.Linear(84, 10)\n",
    "    \n",
    "    \n",
    "    # The forward pass defines the way we compute the output using the given layers and functions.\n",
    "    def forward(self, x):\n",
    "        x = self.pool(F.relu(self.conv1(x))) # activation function\n",
    "        x = self.pool(F.relu(self.conv2(x)))\n",
    "        #x = self.conv2_drop(x)\n",
    "        x = x.view(-1, 16 * 5 * 5)  # Flattens the output of a multi-dimensional volume \n",
    "                                    # such that we can apply fully connected layers to it\n",
    "        x = F.relu(self.fc1(x))\n",
    "        x = F.relu(self.fc2(x))\n",
    "        x = self.fc3(x)\n",
    "        return x\n",
    "\n",
    "# create the model CNN\n",
    "model = CNN()\n",
    "\n",
    "# move tensors to GPU if CUDA is available\n",
    "if train_on_gpu:\n",
    "    model.cuda()"
   ]
  },
  {
   "cell_type": "markdown",
   "id": "35352a16",
   "metadata": {},
   "source": [
    "We can print the architecture of the CNN network to investigate its layers"
   ]
  },
  {
   "cell_type": "code",
   "execution_count": null,
   "id": "ec17275c",
   "metadata": {},
   "outputs": [],
   "source": [
    "print(model)"
   ]
  },
  {
   "cell_type": "markdown",
   "id": "a339bda5",
   "metadata": {},
   "source": [
    "## Define Loss and Optimser "
   ]
  },
  {
   "cell_type": "markdown",
   "id": "a63fbd4f",
   "metadata": {},
   "source": [
    "**Loss**\n",
    "\n",
    "Deep neural network are trained via an algorithm called stochastic gradient descent optimization.\n",
    "It is necessary to repeatedly estimate the error for the model's current state as part of the optimiaation method. In order to update the weights and lower the loss on the subsequent evaluation, it is necessary to select an error function, also known as a loss function, that may be used to estimate the loss of the model.\n",
    "\n",
    "There exist multiple and different losses based on the scope of the analysis.\n",
    "In this experiment, we are interested in classifying the number present in the image. We are then performing a multi-class classification. Our goal is to predict the probability of the sample belonging to each known class (from number 0 to 9).\n",
    "\n",
    "We can then use a loss called ```Cross-entropy```. It will calculate a score to summarise the average difference between the actual and predicted probability distributions for all classes. To achieve the best results we have to minimise this loss\n",
    "\n",
    "\n",
    "\n",
    "**Optimiser**\n",
    "\n",
    "When training the model, we need to minimise the loss function and update the weights of the model at each epoch. \n",
    "In other words, we need to optimise the neural network.\n",
    "An optimiser is a function or an algorithm that modifies the attributes of the neural network, such as weights and learning rate. It works for reducing the loss and improve the overall accuracy.\n",
    "\n",
    "There are various types of optimiser. In our case, we will use ```Adam``` which is one of the most popular gradient descent optimisation algorithms.\n",
    "\n",
    "When setting up the optimiser, we also need to decide at which speed the model will learn. This is done via the learning rate.\n",
    "It will tell the model how fast or slow we will move towards the optimal weights\n",
    "<center><img src=\"./_dependents/learning_rate.png\" width=\"300\" /></center>"
   ]
  },
  {
   "cell_type": "code",
   "execution_count": null,
   "id": "fc22f38d",
   "metadata": {},
   "outputs": [],
   "source": [
    "criterion = torch.nn.CrossEntropyLoss().to(device)  # cross-entropy loss for classification\n",
    "optimizer = torch.optim.Adam(model.parameters(), lr=0.001) \n",
    "\n",
    "optimizer"
   ]
  },
  {
   "cell_type": "markdown",
   "id": "06996a06",
   "metadata": {},
   "source": [
    "## Train the model"
   ]
  },
  {
   "cell_type": "markdown",
   "id": "b356d95b",
   "metadata": {},
   "source": [
    "We have finally set up all the parameters and we can move on to train the model on our dataset.\n",
    "We need to set the number of iterations that we want to train our model. This number needs to be carefully decided: if it is too low, then we risk of underfitting our model, if it is too high, we risk of overfitting it.\n",
    "<center><img src=\"./_dependents/overfitting_model.png\" width=\"300\" /></center>"
   ]
  },
  {
   "cell_type": "code",
   "execution_count": 17,
   "id": "9553f769",
   "metadata": {},
   "outputs": [
    {
     "name": "stdout",
     "output_type": "stream",
     "text": [
      "[INFO] TRAINING EPOCH 1\n",
      "[INFO] Epoch 1, Training Loss: 1.441293\n",
      "[INFO] VALIDATION EPOCH 1\n",
      "[INFO] Epoch 1, Validation Loss: 0.305656\n",
      "Validation loss decreased (inf --> 0.305656).  Saving model ...\n",
      "-----------------------------------------------------------\n",
      "[INFO] TRAINING EPOCH 2\n",
      "[INFO] Epoch 2, Training Loss: 1.208449\n",
      "[INFO] VALIDATION EPOCH 2\n",
      "[INFO] Epoch 2, Validation Loss: 0.274612\n",
      "Validation loss decreased (0.305656 --> 0.274612).  Saving model ...\n",
      "-----------------------------------------------------------\n",
      "[INFO] TRAINING EPOCH 3\n",
      "[INFO] Epoch 3, Training Loss: 1.118767\n",
      "[INFO] VALIDATION EPOCH 3\n",
      "[INFO] Epoch 3, Validation Loss: 0.255395\n",
      "Validation loss decreased (0.274612 --> 0.255395).  Saving model ...\n",
      "-----------------------------------------------------------\n",
      "[INFO] TRAINING EPOCH 4\n",
      "[INFO] Epoch 4, Training Loss: 1.047516\n",
      "[INFO] VALIDATION EPOCH 4\n",
      "[INFO] Epoch 4, Validation Loss: 0.234214\n",
      "Validation loss decreased (0.255395 --> 0.234214).  Saving model ...\n",
      "-----------------------------------------------------------\n",
      "[INFO] TRAINING EPOCH 5\n"
     ]
    }
   ],
   "source": [
    "# create the model CNN\n",
    "model = CNN()\n",
    "\n",
    "# move tensors to GPU if CUDA is available\n",
    "if train_on_gpu:\n",
    "    model.cuda()\n",
    "\n",
    "    \n",
    "criterion = torch.nn.CrossEntropyLoss().to(device)  # cross-entropy loss for classification\n",
    "optimizer = torch.optim.Adam(model.parameters(), lr=0.001) \n",
    "# number of epochs to train the model\n",
    "n_epochs = 5\n",
    "\n",
    "#List to store loss to visualize\n",
    "train_losslist = []\n",
    "valid_loss_min = np.Inf # track change in validation loss\n",
    "\n",
    "for epoch in range(1, n_epochs+1):\n",
    "\n",
    "    # keep track of training and validation loss\n",
    "    train_loss = 0.0\n",
    "    valid_loss = 0.0\n",
    "    \n",
    "    ###################\n",
    "    # train the model #\n",
    "    ###################\n",
    "    print('[INFO] TRAINING EPOCH {}'.format(epoch))\n",
    "    model.train()\n",
    "    for data, target in train_dataloader:\n",
    "        # move tensors to GPU if CUDA is available\n",
    "        # if train_on_gpu:\n",
    "        #     data, target = data.cuda(), target.cuda()\n",
    "        # clear the gradients of all optimized variables\n",
    "        optimizer.zero_grad()\n",
    "        # forward pass: compute predicted outputs by passing inputs to the model\n",
    "        output = model(data)\n",
    "        # calculate the batch loss\n",
    "        loss = criterion(output, target)\n",
    "        # backward pass: compute gradient of the loss with respect to model parameters\n",
    "        loss.backward()\n",
    "        # perform a single optimization step (parameter update)\n",
    "        optimizer.step()\n",
    "        # update training loss\n",
    "        train_loss += loss.item()*data.size(0)\n",
    "    \n",
    "    train_loss = train_loss/len(train_dataloader.dataset)\n",
    "    train_losslist.append(train_loss)\n",
    "    print('[INFO] Epoch {}, Training Loss: {:.6f}'.format(epoch, train_loss))\n",
    "        \n",
    "    ######################    \n",
    "    # validate the model #\n",
    "    ######################\n",
    "    print('[INFO] VALIDATION EPOCH {}'.format(epoch))\n",
    "    model.eval()\n",
    "    for data, target in val_dataloader:\n",
    "        # move tensors to GPU if CUDA is available\n",
    "        # if train_on_gpu:\n",
    "        #     data, target = data.cuda(), target.cuda()\n",
    "        # forward pass: compute predicted outputs by passing inputs to the model\n",
    "        output = model(data)\n",
    "        # calculate the batch loss\n",
    "        loss = criterion(output, target)\n",
    "        # update average validation loss \n",
    "        valid_loss += loss.item()*data.size(0)\n",
    "    \n",
    "    # calculate average losses\n",
    "    valid_loss = valid_loss/len(val_dataloader.dataset)\n",
    "    print('[INFO] Epoch {}, Validation Loss: {:.6f}'.format(epoch, valid_loss))\n",
    "\n",
    "    # save model if validation loss has decreased\n",
    "    if valid_loss <= valid_loss_min:\n",
    "        print('Validation loss decreased ({:.6f} --> {:.6f}).  Saving model ...'.format(\n",
    "        valid_loss_min,\n",
    "        valid_loss))\n",
    "        torch.save(model.state_dict(), 'model_cifar.pt')\n",
    "        valid_loss_min = valid_loss\n",
    "    print('-----------------------------------------------------------')    \n",
    "\n",
    "plt.plot([*range(n_epochs)], train_losslist)\n",
    "plt.xlabel(\"Epoch\")\n",
    "plt.ylabel(\"Loss\")\n",
    "plt.title(\"Performance of Model 1\")\n",
    "plt.show()\n"
   ]
  },
  {
   "cell_type": "markdown",
   "id": "d6c6d07f",
   "metadata": {},
   "source": [
    "## Test the model"
   ]
  },
  {
   "cell_type": "markdown",
   "id": "9b903483",
   "metadata": {},
   "source": [
    "We will now load the model which achieved the best results during training and we will test it on the testing set"
   ]
  },
  {
   "cell_type": "code",
   "execution_count": null,
   "id": "83a816ae",
   "metadata": {},
   "outputs": [],
   "source": [
    "model.load_state_dict(torch.load('model_cifar.pt'))"
   ]
  },
  {
   "cell_type": "code",
   "execution_count": null,
   "id": "c371586d",
   "metadata": {},
   "outputs": [],
   "source": [
    "# track test loss\n",
    "test_loss = 0.0\n",
    "class_correct = list(0. for i in range(10))\n",
    "class_total = list(0. for i in range(10))\n",
    "\n",
    "total_test_predicted_labels = []\n",
    "total_test_true_labels = []\n",
    "\n",
    "model.eval()\n",
    "# iterate over test data\n",
    "for data, target in test_dataloader:\n",
    "    # move tensors to GPU if CUDA is available\n",
    "    if train_on_gpu:\n",
    "        data, target = data.cuda(), target.cuda()\n",
    "    # forward pass: compute predicted outputs by passing inputs to the model\n",
    "    output = model(data)\n",
    "    # calculate the batch loss\n",
    "    loss = criterion(output, target)\n",
    "    # update test loss \n",
    "    test_loss += loss.item()*data.size(0)\n",
    "    # convert output probabilities to predicted class\n",
    "    _, pred = torch.max(output, 1)    \n",
    "    # compare predictions to true label\n",
    "    correct_tensor = pred.eq(target.data.view_as(pred))\n",
    "    correct = np.squeeze(correct_tensor.numpy()) if not train_on_gpu else np.squeeze(correct_tensor.cpu().numpy())\n",
    "    \n",
    "    total_test_true_labels.append(target.cpu().numpy())\n",
    "    total_test_predicted_labels.append(pred.cpu().numpy())\n",
    "\n",
    "    # calculate test accuracy for each object class\n",
    "    for i in range(target.shape[0]):\n",
    "        label = target.data[i]\n",
    "        class_correct[label] += correct[i].item()\n",
    "        class_total[label] += 1\n",
    "        \n",
    "        \n",
    "y_true = np.asarray([item for sublist in total_test_true_labels for item\n",
    "                             in sublist])\n",
    "y_pred = np.asarray([item for sublist in total_test_predicted_labels for\n",
    "                               item in sublist])        \n",
    "\n",
    "# average test loss\n",
    "test_loss = test_loss/len(test_dataloader.dataset)\n",
    "print('Test Loss: {:.6f}\\n'.format(test_loss))\n",
    "\n",
    "for i in range(10):\n",
    "    if class_total[i] > 0:\n",
    "        print('Test Accuracy of %5s: %2d%% (%2d/%2d)' % (\n",
    "            classes[i], 100 * class_correct[i] / class_total[i],\n",
    "            np.sum(class_correct[i]), np.sum(class_total[i])))\n",
    "    else:\n",
    "        print('Test Accuracy of %5s: N/A (no training examples)' % (classes[i]))\n",
    "\n",
    "print('\\nTest Accuracy (Overall): %2d%% (%2d/%2d)' % (\n",
    "    100. * np.sum(class_correct) / np.sum(class_total),\n",
    "    np.sum(class_correct), np.sum(class_total)))"
   ]
  },
  {
   "cell_type": "markdown",
   "id": "c15bc843",
   "metadata": {},
   "source": [
    "## Investigate results"
   ]
  },
  {
   "cell_type": "code",
   "execution_count": null,
   "id": "71ac51b1",
   "metadata": {},
   "outputs": [],
   "source": [
    "accuracy = accuracy_score(y_true, y_pred)\n",
    "recall = recall_score(y_true, y_pred, average='weighted')\n",
    "precision = precision_score(y_true, y_pred, average='weighted')\n",
    "f1 = f1_score(y_true, y_pred, average='weighted')\n",
    "cf = confusion_matrix(y_true, y_pred)\n",
    "# cf_norm = confusion_matrix(y_true, y_pred, normalize='true') * 100\n",
    "\n",
    "print('ACCURACY: {:.2f}\\n RECALL: {:.2f}\\n PRECISION: {:.2f}\\n F1: {:.2f}\\n  '.format(accuracy, \n",
    "                                                                                      recall,\n",
    "                                                                                      precision, \n",
    "                                                                                      f1))\n",
    "print(cf)"
   ]
  },
  {
   "cell_type": "code",
   "execution_count": null,
   "id": "6da03e98",
   "metadata": {},
   "outputs": [],
   "source": [
    "import seaborn as sns\n",
    "fig, ax = plt.subplots(figsize=(15,15))\n",
    "sns.heatmap(cf, annot=True, ax = ax, cmap='Blues', fmt='g')\n",
    "ax.set_xticklabels(classes)\n",
    "ax.set_yticklabels(classes)\n",
    "plt.show()"
   ]
  },
  {
   "cell_type": "markdown",
   "id": "288d01e6",
   "metadata": {},
   "source": [
    "# Useful Resources"
   ]
  },
  {
   "cell_type": "markdown",
   "id": "7669b971",
   "metadata": {},
   "source": [
    "- Documentation for the Convolutional Layer - https://pytorch.org/docs/stable/generated/torch.nn.Conv2d.html \n",
    "- Guide and discussion on optimisers - https://medium.com/mlearning-ai/optimizers-in-deep-learning-7bf81fed78a0\n",
    "- CIFAR10 Tutorial - https://pytorch.org/tutorials/beginner/blitz/cifar10_tutorial.html\n",
    "- CNN implementation on CIFAR10 - https://shonit2096.medium.com/cnn-on-cifar10-data-set-using-pytorch-34be87e09844"
   ]
  }
 ],
 "metadata": {
  "kernelspec": {
   "display_name": "Python 3",
   "language": "python",
   "name": "python3"
  },
  "language_info": {
   "codemirror_mode": {
    "name": "ipython",
    "version": 3
   },
   "file_extension": ".py",
   "mimetype": "text/x-python",
   "name": "python",
   "nbconvert_exporter": "python",
   "pygments_lexer": "ipython3",
   "version": "3.9.6 (default, Oct 18 2022, 12:41:40) \n[Clang 14.0.0 (clang-1400.0.29.202)]"
  },
  "toc": {
   "base_numbering": 1,
   "nav_menu": {},
   "number_sections": true,
   "sideBar": true,
   "skip_h1_title": false,
   "title_cell": "Table of Contents",
   "title_sidebar": "Contents",
   "toc_cell": false,
   "toc_position": {
    "height": "calc(100% - 180px)",
    "left": "10px",
    "top": "150px",
    "width": "165px"
   },
   "toc_section_display": true,
   "toc_window_display": true
  },
  "vscode": {
   "interpreter": {
    "hash": "31f2aee4e71d21fbe5cf8b01ff0e069b9275f58929596ceb00d14d90e3e16cd6"
   }
  }
 },
 "nbformat": 4,
 "nbformat_minor": 5
}
