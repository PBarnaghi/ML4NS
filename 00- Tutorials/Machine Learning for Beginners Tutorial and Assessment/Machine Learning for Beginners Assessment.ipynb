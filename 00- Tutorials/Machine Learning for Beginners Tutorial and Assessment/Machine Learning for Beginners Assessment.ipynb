{
 "cells": [
  {
   "cell_type": "markdown",
   "id": "3ad53740",
   "metadata": {},
   "source": [
    "## Machine Learning for Neuroscience, <br>Department of Brain Sciences, Faculty of Medicine, <br> Imperial College London\n",
    "### Contributors: Francesca Palermo, Nan Fletcher-Lloyd, Alex Capstick, Yu Chen\n",
    "**Winter 2022**\n"
   ]
  },
  {
   "cell_type": "markdown",
   "id": "9246f7fe",
   "metadata": {},
   "source": [
    "# Machine Learning for Beginners"
   ]
  },
  {
   "attachments": {},
   "cell_type": "markdown",
   "id": "4b161ecd",
   "metadata": {},
   "source": [
    "This assessment will test your knowledge of key machine learning concepts."
   ]
  },
  {
   "cell_type": "markdown",
   "id": "8fa0abd0",
   "metadata": {},
   "source": [
    "## Instructions for Assessment"
   ]
  },
  {
   "attachments": {},
   "cell_type": "markdown",
   "id": "891d7010",
   "metadata": {},
   "source": [
    "Please open a new notebook and complete all tasks/questions as given in the instructions below. At the end of this lab, you will submit your notebook for review. You will receive feedback on each lab, as well as a mark if the lab is summative.\n",
    "\n",
    "Your work will be evaluated based on the following criteria:\n",
    "\n",
    "- code\n",
    "\n",
    "- understanding of methodology\n",
    "\n",
    "- visual presentation of results\n",
    "\n",
    "- accuracy of results\n",
    "\n",
    "Total marks available will be given as a guidance in closed brackets after each question/task."
   ]
  },
  {
   "cell_type": "markdown",
   "id": "1df52f71",
   "metadata": {},
   "source": [
    "### Let's get started!"
   ]
  },
  {
   "cell_type": "markdown",
   "id": "17a0f8c4",
   "metadata": {},
   "source": [
    "*N.B. Remember to import all your dependencies.*"
   ]
  },
  {
   "cell_type": "markdown",
   "id": "ab18ccae",
   "metadata": {},
   "source": [
    "<span style=\"color: red;\"><b>Assessment Part 1)</b> </span>"
   ]
  },
  {
   "attachments": {},
   "cell_type": "markdown",
   "id": "c689035d",
   "metadata": {},
   "source": [
    "1. [2 Marks] Explain why it is important to scale feature data. \n",
    "\n",
    "2. [4 Marks] Give an example of two different types of models for which the data would not need to undergo scaling. Explain why. \n",
    "\n",
    "2. [4 Marks] What is the difference between normalization and standardization? Name a sci-kit learn scaler you would use for each. "
   ]
  },
  {
   "cell_type": "markdown",
   "id": "ab18ccae",
   "metadata": {},
   "source": [
    "<span style=\"color: red;\"><b>Assessment Part 2)</b> </span>"
   ]
  },
  {
   "attachments": {},
   "cell_type": "markdown",
   "id": "ca93ee5f",
   "metadata": {},
   "source": [
    "1. [1 Mark] What is the difference between supervised and unsupervised learning? \n",
    "\n",
    "2. [1 Mark] What is the difference between classification and regression? \n",
    "\n",
    "3. [2 Marks] Explain why you shouldn't test the parameters of a prediction function on the same data it was trained on. \n",
    "\n",
    "4. [3 Marks] Using k-fold classification as an example, explain the basic concept behind cross-validation and when it is particularly useful. \n",
    "\n",
    "5. [2 Marks] Explain why accuracy is not always the most suitable measure by which to evaluate the performance of a classification model. \n",
    "\n",
    "6. [1 Mark] Explain the difference between MAE and MSE (feel free to use equations)."
   ]
  },
  {
   "cell_type": "markdown",
   "id": "ab18ccae",
   "metadata": {},
   "source": [
    "<span style=\"color: red;\"><b>Assessment Part 3)</b> </span>"
   ]
  },
  {
   "cell_type": "markdown",
   "id": "ca93ee5f",
   "metadata": {},
   "source": [
    "Given that future labs will focus more on classification and regression, the last 10 points of this assessment will focus on clustering."
   ]
  },
  {
   "attachments": {},
   "cell_type": "markdown",
   "id": "9a773eb7",
   "metadata": {},
   "source": [
    "For this part of the assessment, you will be using the wine dataset.\n",
    "\n",
    "[1 Mark] Visualise the relationship between each variable and every other variable within the dataset.\n",
    "\n",
    "[5 Marks] Find the optimum number of clusters, showing your process. \n",
    "\n",
    "[2 Marks] Implement your clustering and visualise your clusters. \n",
    "\n",
    "[2 Mark] Visualise and describe the characteristics of each cluster. "
   ]
  }
 ],
 "metadata": {
  "kernelspec": {
   "display_name": "Python 3.8.8 ('base')",
   "language": "python",
   "name": "python3"
  },
  "language_info": {
   "codemirror_mode": {
    "name": "ipython",
    "version": 3
   },
   "file_extension": ".py",
   "mimetype": "text/x-python",
   "name": "python",
   "nbconvert_exporter": "python",
   "pygments_lexer": "ipython3",
   "version": "3.8.8 (default, Apr 13 2021, 12:59:45) \n[Clang 10.0.0 ]"
  },
  "vscode": {
   "interpreter": {
    "hash": "730e964555fb2542a911b5002c3c4a5ea6b8ea7e74d00811d465953d33b870ef"
   }
  }
 },
 "nbformat": 4,
 "nbformat_minor": 5
}
