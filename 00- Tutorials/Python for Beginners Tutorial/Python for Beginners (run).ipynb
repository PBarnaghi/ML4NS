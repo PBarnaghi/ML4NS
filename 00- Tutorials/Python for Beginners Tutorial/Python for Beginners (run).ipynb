{
 "cells": [
  {
   "cell_type": "markdown",
   "id": "a37eb6cb",
   "metadata": {},
   "source": [
    "## Machine Learning for Neuroscience, <br>Department of Brain Sciences, Faculty of Medicine, <br> Imperial College London\n",
    "### Contributors: Francesca Palermo, Nan Fletcher-Lloyd, Alex Capstick, Yu Chen\n",
    "**Winter 2022**"
   ]
  },
  {
   "cell_type": "markdown",
   "id": "9246f7fe",
   "metadata": {},
   "source": [
    "# Python for Beginners"
   ]
  },
  {
   "cell_type": "markdown",
   "id": "4b161ecd",
   "metadata": {},
   "source": [
    "This tutorial is adapted from the tutorials provided by DataCamp (https://www.datacamp.com) where further examples and practice questions can be found."
   ]
  },
  {
   "cell_type": "markdown",
   "id": "aecd203f",
   "metadata": {},
   "source": [
    "## Basic Python Syntax"
   ]
  },
  {
   "cell_type": "markdown",
   "id": "3630749f",
   "metadata": {},
   "source": [
    "### Print Statements"
   ]
  },
  {
   "cell_type": "code",
   "execution_count": 1,
   "id": "9a29ec6b",
   "metadata": {},
   "outputs": [
    {
     "name": "stdout",
     "output_type": "stream",
     "text": [
      "Hello, World!\n"
     ]
    }
   ],
   "source": [
    "print(\"Hello, World!\")"
   ]
  },
  {
   "cell_type": "markdown",
   "id": "d21585f1",
   "metadata": {},
   "source": [
    "### Operators & Booleans"
   ]
  },
  {
   "cell_type": "markdown",
   "id": "f8229166",
   "metadata": {},
   "source": [
    "Operators allow simple outcomes to be obtained.\n",
    "+ The sum of values is found using +\n",
    "+ The difference between values is found using -\n",
    "+ The product of values is found using *\n",
    "+ The quotient of values is found using /"
   ]
  },
  {
   "cell_type": "code",
   "execution_count": 2,
   "id": "28cc2b19",
   "metadata": {},
   "outputs": [
    {
     "data": {
      "text/plain": [
       "10"
      ]
     },
     "execution_count": 2,
     "metadata": {},
     "output_type": "execute_result"
    }
   ],
   "source": [
    "5 + 5"
   ]
  },
  {
   "cell_type": "code",
   "execution_count": 3,
   "id": "5e61f575",
   "metadata": {},
   "outputs": [
    {
     "data": {
      "text/plain": [
       "5"
      ]
     },
     "execution_count": 3,
     "metadata": {},
     "output_type": "execute_result"
    }
   ],
   "source": [
    "10 - 5"
   ]
  },
  {
   "cell_type": "code",
   "execution_count": 4,
   "id": "13aeabcb",
   "metadata": {},
   "outputs": [
    {
     "data": {
      "text/plain": [
       "25"
      ]
     },
     "execution_count": 4,
     "metadata": {},
     "output_type": "execute_result"
    }
   ],
   "source": [
    "5 * 5"
   ]
  },
  {
   "cell_type": "code",
   "execution_count": 5,
   "id": "fdf0527e",
   "metadata": {
    "scrolled": true
   },
   "outputs": [
    {
     "data": {
      "text/plain": [
       "1.0"
      ]
     },
     "execution_count": 5,
     "metadata": {},
     "output_type": "execute_result"
    }
   ],
   "source": [
    "5 / 5"
   ]
  },
  {
   "cell_type": "markdown",
   "id": "b2023817",
   "metadata": {},
   "source": [
    "Booleans allow us to compare two values. \n",
    "+ less than is <\n",
    "+ greater than is >\n",
    "+ equal to or less than is <= \n",
    "+ equal to or greater than is >= "
   ]
  },
  {
   "cell_type": "code",
   "execution_count": 6,
   "id": "9304d93a",
   "metadata": {},
   "outputs": [
    {
     "data": {
      "text/plain": [
       "True"
      ]
     },
     "execution_count": 6,
     "metadata": {},
     "output_type": "execute_result"
    }
   ],
   "source": [
    "5 < 10"
   ]
  },
  {
   "cell_type": "code",
   "execution_count": 7,
   "id": "2b2e1d30",
   "metadata": {},
   "outputs": [
    {
     "data": {
      "text/plain": [
       "False"
      ]
     },
     "execution_count": 7,
     "metadata": {},
     "output_type": "execute_result"
    }
   ],
   "source": [
    "5 > 10"
   ]
  },
  {
   "cell_type": "code",
   "execution_count": 8,
   "id": "e5b7bc15",
   "metadata": {},
   "outputs": [
    {
     "data": {
      "text/plain": [
       "True"
      ]
     },
     "execution_count": 8,
     "metadata": {},
     "output_type": "execute_result"
    }
   ],
   "source": [
    "5 <= 10"
   ]
  },
  {
   "cell_type": "code",
   "execution_count": 9,
   "id": "fc3bcb2a",
   "metadata": {},
   "outputs": [
    {
     "data": {
      "text/plain": [
       "False"
      ]
     },
     "execution_count": 9,
     "metadata": {},
     "output_type": "execute_result"
    }
   ],
   "source": [
    "5 >= 10"
   ]
  },
  {
   "cell_type": "markdown",
   "id": "0a50b99b",
   "metadata": {},
   "source": [
    "### Creating and Assigning Variables"
   ]
  },
  {
   "cell_type": "markdown",
   "id": "8d45f2d7",
   "metadata": {},
   "source": [
    "A number can be assigned to a name (the variable) and the value returned by calling that same variable."
   ]
  },
  {
   "cell_type": "code",
   "execution_count": 10,
   "id": "aa0221a5",
   "metadata": {},
   "outputs": [],
   "source": [
    "variable_1 = 5"
   ]
  },
  {
   "cell_type": "code",
   "execution_count": 11,
   "id": "34bb5e57",
   "metadata": {},
   "outputs": [
    {
     "data": {
      "text/plain": [
       "5"
      ]
     },
     "execution_count": 11,
     "metadata": {},
     "output_type": "execute_result"
    }
   ],
   "source": [
    "variable_1"
   ]
  },
  {
   "cell_type": "markdown",
   "id": "4366f64c",
   "metadata": {},
   "source": [
    "### Data Types"
   ]
  },
  {
   "cell_type": "markdown",
   "id": "cfd89a7e",
   "metadata": {},
   "source": [
    "Values in python can take several different forms. Some of the most common forms are listed.\n",
    "+ int represents integers\n",
    "+ float represents decimal numbers\n",
    "+ str or \"strings\" represents text."
   ]
  },
  {
   "cell_type": "markdown",
   "id": "fe104671",
   "metadata": {},
   "source": [
    "## Lists"
   ]
  },
  {
   "cell_type": "markdown",
   "id": "1d2ea703",
   "metadata": {},
   "source": [
    "Lists are a type of data structure in which values can be stored and accessed. An advantage of lists is that the data types do not need to be the same (see below, where we have an integer, float, and string, respectively). \n",
    "\n",
    "A list can be built by assigning a name to a set of values in square brackets (see below)."
   ]
  },
  {
   "cell_type": "code",
   "execution_count": 12,
   "id": "d45b3c3b",
   "metadata": {},
   "outputs": [],
   "source": [
    "list = [5, 5.0,'five']"
   ]
  },
  {
   "cell_type": "markdown",
   "id": "7fedb57d",
   "metadata": {},
   "source": [
    "Each item within the list can be accessed by calling the name assigned to the list alongside the position of that item within the list in squared brackets. Note, the first value in a list is always given the positional value 0, the second the value 1, and so on, so that in a list of N data points, the final data point will have the positional value N-1."
   ]
  },
  {
   "cell_type": "code",
   "execution_count": 13,
   "id": "0da4b6dc",
   "metadata": {},
   "outputs": [
    {
     "data": {
      "text/plain": [
       "5"
      ]
     },
     "execution_count": 13,
     "metadata": {},
     "output_type": "execute_result"
    }
   ],
   "source": [
    "list[0]"
   ]
  },
  {
   "cell_type": "markdown",
   "id": "21e8e4e5",
   "metadata": {},
   "source": [
    "Lists can also be built inside of lists. \n",
    "\n",
    "In the example below, each value is separated into its own list by data type."
   ]
  },
  {
   "cell_type": "code",
   "execution_count": 14,
   "id": "cb7cd923",
   "metadata": {},
   "outputs": [],
   "source": [
    "list = [[\"int\", 5], [\"float\", 5.5], [\"str\", 'five']]"
   ]
  },
  {
   "cell_type": "code",
   "execution_count": 15,
   "id": "8c23de84",
   "metadata": {},
   "outputs": [
    {
     "data": {
      "text/plain": [
       "[['int', 5], ['float', 5.5], ['str', 'five']]"
      ]
     },
     "execution_count": 15,
     "metadata": {},
     "output_type": "execute_result"
    }
   ],
   "source": [
    "list"
   ]
  },
  {
   "cell_type": "markdown",
   "id": "1416474b",
   "metadata": {},
   "source": [
    "\n",
    "Other types of data structures such as dataframes, series, and arrays will be discussed in further detail later in this tutorial."
   ]
  },
  {
   "cell_type": "markdown",
   "id": "d2c7fe35",
   "metadata": {},
   "source": [
    "## Functions"
   ]
  },
  {
   "cell_type": "markdown",
   "id": "b5e0405b",
   "metadata": {},
   "source": [
    "### Built-in Functions & Methods"
   ]
  },
  {
   "cell_type": "markdown",
   "id": "9a7ccd81",
   "metadata": {},
   "source": [
    "Python has several set functions and methods which can be called with regards to an object. Methods are all functions, acting on objects, but not all functions are methods, as these only need take objects as inputs. Below we explore an incomprehensive list of the functions and methods available using Python."
   ]
  },
  {
   "cell_type": "markdown",
   "id": "8dc90030",
   "metadata": {},
   "source": [
    "First, let's create a simple list of numerical values."
   ]
  },
  {
   "cell_type": "code",
   "execution_count": 16,
   "id": "c1c4a1d8",
   "metadata": {},
   "outputs": [],
   "source": [
    "heights = [160, 165, 185, 155, 175, 180]"
   ]
  },
  {
   "cell_type": "code",
   "execution_count": 17,
   "id": "88a71167",
   "metadata": {},
   "outputs": [
    {
     "data": {
      "text/plain": [
       "[160, 165, 185, 155, 175, 180]"
      ]
     },
     "execution_count": 17,
     "metadata": {},
     "output_type": "execute_result"
    }
   ],
   "source": [
    "heights"
   ]
  },
  {
   "cell_type": "markdown",
   "id": "be2e9d22",
   "metadata": {},
   "source": [
    "Great! But these heights are out of order. To order these, we apply the sort () method. This will order values in ascending order. "
   ]
  },
  {
   "cell_type": "code",
   "execution_count": 18,
   "id": "f8c68943",
   "metadata": {},
   "outputs": [],
   "source": [
    "heights.sort()"
   ]
  },
  {
   "cell_type": "code",
   "execution_count": 19,
   "id": "cd91900d",
   "metadata": {},
   "outputs": [
    {
     "data": {
      "text/plain": [
       "[155, 160, 165, 175, 180, 185]"
      ]
     },
     "execution_count": 19,
     "metadata": {},
     "output_type": "execute_result"
    }
   ],
   "source": [
    "heights"
   ]
  },
  {
   "cell_type": "markdown",
   "id": "2a62be27",
   "metadata": {},
   "source": [
    "The sort () method is one way of trying to find the minimum and maximum values within a list. An alternative to this is to call the max () and min () functions."
   ]
  },
  {
   "cell_type": "code",
   "execution_count": 20,
   "id": "a8784696",
   "metadata": {},
   "outputs": [
    {
     "data": {
      "text/plain": [
       "185"
      ]
     },
     "execution_count": 20,
     "metadata": {},
     "output_type": "execute_result"
    }
   ],
   "source": [
    "max(heights)"
   ]
  },
  {
   "cell_type": "code",
   "execution_count": 21,
   "id": "d01babbe",
   "metadata": {},
   "outputs": [
    {
     "data": {
      "text/plain": [
       "155"
      ]
     },
     "execution_count": 21,
     "metadata": {},
     "output_type": "execute_result"
    }
   ],
   "source": [
    "min(heights)"
   ]
  },
  {
   "cell_type": "markdown",
   "id": "7586cb38",
   "metadata": {},
   "source": [
    "Let's now create a second list of names that correspond to these heights."
   ]
  },
  {
   "cell_type": "code",
   "execution_count": 22,
   "id": "3cfa72aa",
   "metadata": {},
   "outputs": [],
   "source": [
    "names = ['Charlie','Brooke','Taylor']"
   ]
  },
  {
   "cell_type": "code",
   "execution_count": 23,
   "id": "5cf47bd9",
   "metadata": {},
   "outputs": [
    {
     "data": {
      "text/plain": [
       "['Charlie', 'Brooke', 'Taylor']"
      ]
     },
     "execution_count": 23,
     "metadata": {},
     "output_type": "execute_result"
    }
   ],
   "source": [
    "names"
   ]
  },
  {
   "cell_type": "markdown",
   "id": "10865d4b",
   "metadata": {},
   "source": [
    "We can check the length of this list to make sure it matches the previous list. We do this using the len () function."
   ]
  },
  {
   "cell_type": "code",
   "execution_count": 24,
   "id": "9b78da32",
   "metadata": {},
   "outputs": [
    {
     "data": {
      "text/plain": [
       "3"
      ]
     },
     "execution_count": 24,
     "metadata": {},
     "output_type": "execute_result"
    }
   ],
   "source": [
    "len(names)"
   ]
  },
  {
   "cell_type": "markdown",
   "id": "9a121e1d",
   "metadata": {},
   "source": [
    "Oops! Looks like we're missing a few names. How do we add these on? There are two methods:\n",
    "* The append () method adds a single element.\n",
    "* The extend () method adds multiple elements."
   ]
  },
  {
   "cell_type": "code",
   "execution_count": 25,
   "id": "ce9cac69",
   "metadata": {},
   "outputs": [],
   "source": [
    "names.append('Morgan')"
   ]
  },
  {
   "cell_type": "code",
   "execution_count": 26,
   "id": "6481209a",
   "metadata": {},
   "outputs": [
    {
     "data": {
      "text/plain": [
       "['Charlie', 'Brooke', 'Taylor', 'Morgan']"
      ]
     },
     "execution_count": 26,
     "metadata": {},
     "output_type": "execute_result"
    }
   ],
   "source": [
    "names"
   ]
  },
  {
   "cell_type": "code",
   "execution_count": 27,
   "id": "e269b17a",
   "metadata": {},
   "outputs": [],
   "source": [
    "names.extend(['Riley','Jamie'])"
   ]
  },
  {
   "cell_type": "code",
   "execution_count": 28,
   "id": "11910a89",
   "metadata": {},
   "outputs": [
    {
     "data": {
      "text/plain": [
       "['Charlie', 'Brooke', 'Taylor', 'Morgan', 'Riley', 'Jamie']"
      ]
     },
     "execution_count": 28,
     "metadata": {},
     "output_type": "execute_result"
    }
   ],
   "source": [
    "names"
   ]
  },
  {
   "cell_type": "markdown",
   "id": "ec51abda",
   "metadata": {},
   "source": [
    "Perfect! Now, we can use the index () method to find out the names of the smallest and tallest people."
   ]
  },
  {
   "cell_type": "markdown",
   "id": "889b33b4",
   "metadata": {},
   "source": [
    "First, let's double check the type of each dataframe using the type () function."
   ]
  },
  {
   "cell_type": "code",
   "execution_count": 29,
   "id": "742ea449",
   "metadata": {},
   "outputs": [
    {
     "data": {
      "text/plain": [
       "list"
      ]
     },
     "execution_count": 29,
     "metadata": {},
     "output_type": "execute_result"
    }
   ],
   "source": [
    "type(heights)\n",
    "type(names)"
   ]
  },
  {
   "cell_type": "markdown",
   "id": "9c40afed",
   "metadata": {},
   "source": [
    "Now, let's find the index number of the minimum and maximum heights."
   ]
  },
  {
   "cell_type": "code",
   "execution_count": 30,
   "id": "82a816cc",
   "metadata": {},
   "outputs": [],
   "source": [
    "min_height = min(heights)\n",
    "max_height = max(heights)\n",
    "min_index = heights.index(min_height)\n",
    "max_index = heights.index(max_height)"
   ]
  },
  {
   "cell_type": "markdown",
   "id": "ab9e22c8",
   "metadata": {},
   "source": [
    "With the min and max hieght index positions, we can then discern the names of the smallest and tallest people in our group of six."
   ]
  },
  {
   "cell_type": "code",
   "execution_count": 31,
   "id": "24e3c491",
   "metadata": {},
   "outputs": [],
   "source": [
    "smallest_name = names[min_index]\n",
    "tallest_name = names[max_index]"
   ]
  },
  {
   "cell_type": "code",
   "execution_count": 32,
   "id": "86022cb9",
   "metadata": {},
   "outputs": [
    {
     "data": {
      "text/plain": [
       "'Charlie'"
      ]
     },
     "execution_count": 32,
     "metadata": {},
     "output_type": "execute_result"
    }
   ],
   "source": [
    "smallest_name"
   ]
  },
  {
   "cell_type": "code",
   "execution_count": 33,
   "id": "83cf22e3",
   "metadata": {},
   "outputs": [
    {
     "data": {
      "text/plain": [
       "'Jamie'"
      ]
     },
     "execution_count": 33,
     "metadata": {},
     "output_type": "execute_result"
    }
   ],
   "source": [
    "tallest_name"
   ]
  },
  {
   "cell_type": "markdown",
   "id": "75f24bb6",
   "metadata": {},
   "source": [
    "It worked! Charlie has the smallest height and Jamie has the tallest."
   ]
  },
  {
   "cell_type": "markdown",
   "id": "62a060ed",
   "metadata": {},
   "source": [
    "### User-Defined Functions"
   ]
  },
  {
   "cell_type": "markdown",
   "id": "ad95d245",
   "metadata": {},
   "source": [
    "There are four main steps to defining your own function:\n",
    "1. Use keyword def and follow up with function name.\n",
    "2. Add parameters to function with parentheses, ending line with a colon.\n",
    "3. Add statements that function should execute.\n",
    "4. End function with return if function should output or without otherwise."
   ]
  },
  {
   "cell_type": "code",
   "execution_count": 34,
   "id": "50fd28df",
   "metadata": {},
   "outputs": [],
   "source": [
    "def hello():\n",
    "    print(\"Hello World!\")\n",
    "    return"
   ]
  },
  {
   "cell_type": "markdown",
   "id": "1b1e4511",
   "metadata": {},
   "source": [
    "## Packages"
   ]
  },
  {
   "cell_type": "markdown",
   "id": "b63e3fc8",
   "metadata": {},
   "source": [
    "### Installing packages"
   ]
  },
  {
   "cell_type": "markdown",
   "id": "576fc90a",
   "metadata": {},
   "source": [
    "Packages are collections of modules which themselves are a collection of classes, functions, and variables etc.\n",
    "\n",
    "In Jupyter Notebook this will look as follows: \n",
    "\n",
    "!pip install --user package_name_here -U"
   ]
  },
  {
   "cell_type": "markdown",
   "id": "3b937adf",
   "metadata": {},
   "source": [
    "### Importing packages with an alias"
   ]
  },
  {
   "cell_type": "markdown",
   "id": "8c2c22c4",
   "metadata": {},
   "source": [
    "Before we can begin to use a package, we must import it into our environment, and we can do so in a way that assigns an alias to the package (usually a recognisable short-hand). \n",
    "\n",
    "For example: \n",
    "\n",
    "import package_name_here as alias"
   ]
  },
  {
   "cell_type": "markdown",
   "id": "f8a1caa6",
   "metadata": {},
   "source": [
    "## Pandas for Beginners"
   ]
  },
  {
   "cell_type": "markdown",
   "id": "3faa1db2",
   "metadata": {},
   "source": [
    "Pandas is a python library that allows easy handling of tabular data. \n",
    "\n",
    "Pandas can take data from a wide range of sources, including Excel and CSV files.\n",
    "\n",
    "Pandas allow data to be stored and accessed as series or dataframes. Series objects are like arrays and dataframes are built from a set of series objects."
   ]
  },
  {
   "cell_type": "markdown",
   "id": "c4c4f42d",
   "metadata": {},
   "source": [
    "First, we want to install pandas. Providing you're using Jupyter Notebook, pandas should already be installed; however, running the following code allows us to check: "
   ]
  },
  {
   "cell_type": "code",
   "execution_count": 35,
   "id": "829dbb8c",
   "metadata": {},
   "outputs": [
    {
     "name": "stdout",
     "output_type": "stream",
     "text": [
      "Requirement already satisfied: pandas in /Users/nanfletcher-lloyd/opt/anaconda3/lib/python3.8/site-packages (1.4.3)\n",
      "Collecting pandas\n",
      "  Downloading pandas-1.5.1-cp38-cp38-macosx_10_9_x86_64.whl (11.9 MB)\n",
      "\u001b[K     |████████████████████████████████| 11.9 MB 3.3 MB/s eta 0:00:01\n",
      "\u001b[?25hRequirement already satisfied: python-dateutil>=2.8.1 in /Users/nanfletcher-lloyd/.local/lib/python3.8/site-packages (from pandas) (2.8.2)\n",
      "Requirement already satisfied: pytz>=2020.1 in /Users/nanfletcher-lloyd/opt/anaconda3/lib/python3.8/site-packages (from pandas) (2021.1)\n",
      "Requirement already satisfied: numpy>=1.20.3 in /Users/nanfletcher-lloyd/.local/lib/python3.8/site-packages (from pandas) (1.21.6)\n",
      "Requirement already satisfied: six>=1.5 in /Users/nanfletcher-lloyd/opt/anaconda3/lib/python3.8/site-packages (from python-dateutil>=2.8.1->pandas) (1.15.0)\n",
      "Installing collected packages: pandas\n",
      "\u001b[31mERROR: pip's dependency resolver does not currently take into account all the packages that are installed. This behaviour is the source of the following dependency conflicts.\n",
      "pingouin 0.5.2 requires scikit-learn<1.1.0, but you have scikit-learn 1.1.2 which is incompatible.\u001b[0m\n",
      "Successfully installed pandas-1.5.1\n"
     ]
    }
   ],
   "source": [
    "!pip install --user pandas -U"
   ]
  },
  {
   "cell_type": "markdown",
   "id": "56c69f76",
   "metadata": {},
   "source": [
    "Next, we want to import pandas with the alias pd."
   ]
  },
  {
   "cell_type": "code",
   "execution_count": 36,
   "id": "cbb00b7c",
   "metadata": {},
   "outputs": [],
   "source": [
    "import pandas as pd"
   ]
  },
  {
   "cell_type": "markdown",
   "id": "c4757739",
   "metadata": {},
   "source": [
    "Now, let's look at importing a csv file. \n",
    "\n",
    "We do this with the read command and can do so using the path_to_file or from a URL.\n",
    "\n",
    "See below:"
   ]
  },
  {
   "cell_type": "code",
   "execution_count": 37,
   "id": "621e2c14",
   "metadata": {},
   "outputs": [
    {
     "name": "stdout",
     "output_type": "stream",
     "text": [
      "     total_bill   tip     sex smoker   day    time  size\n",
      "0         16.99  1.01  Female     No   Sun  Dinner     2\n",
      "1         10.34  1.66    Male     No   Sun  Dinner     3\n",
      "2         21.01  3.50    Male     No   Sun  Dinner     3\n",
      "3         23.68  3.31    Male     No   Sun  Dinner     2\n",
      "4         24.59  3.61  Female     No   Sun  Dinner     4\n",
      "..          ...   ...     ...    ...   ...     ...   ...\n",
      "239       29.03  5.92    Male     No   Sat  Dinner     3\n",
      "240       27.18  2.00  Female    Yes   Sat  Dinner     2\n",
      "241       22.67  2.00    Male    Yes   Sat  Dinner     2\n",
      "242       17.82  1.75    Male     No   Sat  Dinner     2\n",
      "243       18.78  3.00  Female     No  Thur  Dinner     2\n",
      "\n",
      "[244 rows x 7 columns]\n"
     ]
    }
   ],
   "source": [
    "tips = pd.read_csv(\"https://raw.githubusercontent.com/mwaskom/seaborn-data/master/tips.csv\")\n",
    "print(tips)"
   ]
  },
  {
   "cell_type": "markdown",
   "id": "1f3527d4",
   "metadata": {},
   "source": [
    "In the above example, we assigned the name df to the csv file.\n",
    "\n",
    "To read the csv file using path_to_file, the same code is used, replacing the URL with either file.csv if the file is in your working directory (the relative path) or the absolute path."
   ]
  },
  {
   "cell_type": "markdown",
   "id": "50223692",
   "metadata": {},
   "source": [
    "Since there are many rows in the DataFrame, we see that most the data is truncated.\n",
    "\n",
    "To see the first or last few entries, we use the commands head or tail, respectively."
   ]
  },
  {
   "cell_type": "code",
   "execution_count": 38,
   "id": "35104861",
   "metadata": {},
   "outputs": [
    {
     "data": {
      "text/html": [
       "<div>\n",
       "<style scoped>\n",
       "    .dataframe tbody tr th:only-of-type {\n",
       "        vertical-align: middle;\n",
       "    }\n",
       "\n",
       "    .dataframe tbody tr th {\n",
       "        vertical-align: top;\n",
       "    }\n",
       "\n",
       "    .dataframe thead th {\n",
       "        text-align: right;\n",
       "    }\n",
       "</style>\n",
       "<table border=\"1\" class=\"dataframe\">\n",
       "  <thead>\n",
       "    <tr style=\"text-align: right;\">\n",
       "      <th></th>\n",
       "      <th>total_bill</th>\n",
       "      <th>tip</th>\n",
       "      <th>sex</th>\n",
       "      <th>smoker</th>\n",
       "      <th>day</th>\n",
       "      <th>time</th>\n",
       "      <th>size</th>\n",
       "    </tr>\n",
       "  </thead>\n",
       "  <tbody>\n",
       "    <tr>\n",
       "      <th>0</th>\n",
       "      <td>16.99</td>\n",
       "      <td>1.01</td>\n",
       "      <td>Female</td>\n",
       "      <td>No</td>\n",
       "      <td>Sun</td>\n",
       "      <td>Dinner</td>\n",
       "      <td>2</td>\n",
       "    </tr>\n",
       "    <tr>\n",
       "      <th>1</th>\n",
       "      <td>10.34</td>\n",
       "      <td>1.66</td>\n",
       "      <td>Male</td>\n",
       "      <td>No</td>\n",
       "      <td>Sun</td>\n",
       "      <td>Dinner</td>\n",
       "      <td>3</td>\n",
       "    </tr>\n",
       "    <tr>\n",
       "      <th>2</th>\n",
       "      <td>21.01</td>\n",
       "      <td>3.50</td>\n",
       "      <td>Male</td>\n",
       "      <td>No</td>\n",
       "      <td>Sun</td>\n",
       "      <td>Dinner</td>\n",
       "      <td>3</td>\n",
       "    </tr>\n",
       "    <tr>\n",
       "      <th>3</th>\n",
       "      <td>23.68</td>\n",
       "      <td>3.31</td>\n",
       "      <td>Male</td>\n",
       "      <td>No</td>\n",
       "      <td>Sun</td>\n",
       "      <td>Dinner</td>\n",
       "      <td>2</td>\n",
       "    </tr>\n",
       "    <tr>\n",
       "      <th>4</th>\n",
       "      <td>24.59</td>\n",
       "      <td>3.61</td>\n",
       "      <td>Female</td>\n",
       "      <td>No</td>\n",
       "      <td>Sun</td>\n",
       "      <td>Dinner</td>\n",
       "      <td>4</td>\n",
       "    </tr>\n",
       "  </tbody>\n",
       "</table>\n",
       "</div>"
      ],
      "text/plain": [
       "   total_bill   tip     sex smoker  day    time  size\n",
       "0       16.99  1.01  Female     No  Sun  Dinner     2\n",
       "1       10.34  1.66    Male     No  Sun  Dinner     3\n",
       "2       21.01  3.50    Male     No  Sun  Dinner     3\n",
       "3       23.68  3.31    Male     No  Sun  Dinner     2\n",
       "4       24.59  3.61  Female     No  Sun  Dinner     4"
      ]
     },
     "execution_count": 38,
     "metadata": {},
     "output_type": "execute_result"
    }
   ],
   "source": [
    "tips.head()"
   ]
  },
  {
   "cell_type": "code",
   "execution_count": 39,
   "id": "4007b0f7",
   "metadata": {},
   "outputs": [
    {
     "data": {
      "text/html": [
       "<div>\n",
       "<style scoped>\n",
       "    .dataframe tbody tr th:only-of-type {\n",
       "        vertical-align: middle;\n",
       "    }\n",
       "\n",
       "    .dataframe tbody tr th {\n",
       "        vertical-align: top;\n",
       "    }\n",
       "\n",
       "    .dataframe thead th {\n",
       "        text-align: right;\n",
       "    }\n",
       "</style>\n",
       "<table border=\"1\" class=\"dataframe\">\n",
       "  <thead>\n",
       "    <tr style=\"text-align: right;\">\n",
       "      <th></th>\n",
       "      <th>total_bill</th>\n",
       "      <th>tip</th>\n",
       "      <th>sex</th>\n",
       "      <th>smoker</th>\n",
       "      <th>day</th>\n",
       "      <th>time</th>\n",
       "      <th>size</th>\n",
       "    </tr>\n",
       "  </thead>\n",
       "  <tbody>\n",
       "    <tr>\n",
       "      <th>239</th>\n",
       "      <td>29.03</td>\n",
       "      <td>5.92</td>\n",
       "      <td>Male</td>\n",
       "      <td>No</td>\n",
       "      <td>Sat</td>\n",
       "      <td>Dinner</td>\n",
       "      <td>3</td>\n",
       "    </tr>\n",
       "    <tr>\n",
       "      <th>240</th>\n",
       "      <td>27.18</td>\n",
       "      <td>2.00</td>\n",
       "      <td>Female</td>\n",
       "      <td>Yes</td>\n",
       "      <td>Sat</td>\n",
       "      <td>Dinner</td>\n",
       "      <td>2</td>\n",
       "    </tr>\n",
       "    <tr>\n",
       "      <th>241</th>\n",
       "      <td>22.67</td>\n",
       "      <td>2.00</td>\n",
       "      <td>Male</td>\n",
       "      <td>Yes</td>\n",
       "      <td>Sat</td>\n",
       "      <td>Dinner</td>\n",
       "      <td>2</td>\n",
       "    </tr>\n",
       "    <tr>\n",
       "      <th>242</th>\n",
       "      <td>17.82</td>\n",
       "      <td>1.75</td>\n",
       "      <td>Male</td>\n",
       "      <td>No</td>\n",
       "      <td>Sat</td>\n",
       "      <td>Dinner</td>\n",
       "      <td>2</td>\n",
       "    </tr>\n",
       "    <tr>\n",
       "      <th>243</th>\n",
       "      <td>18.78</td>\n",
       "      <td>3.00</td>\n",
       "      <td>Female</td>\n",
       "      <td>No</td>\n",
       "      <td>Thur</td>\n",
       "      <td>Dinner</td>\n",
       "      <td>2</td>\n",
       "    </tr>\n",
       "  </tbody>\n",
       "</table>\n",
       "</div>"
      ],
      "text/plain": [
       "     total_bill   tip     sex smoker   day    time  size\n",
       "239       29.03  5.92    Male     No   Sat  Dinner     3\n",
       "240       27.18  2.00  Female    Yes   Sat  Dinner     2\n",
       "241       22.67  2.00    Male    Yes   Sat  Dinner     2\n",
       "242       17.82  1.75    Male     No   Sat  Dinner     2\n",
       "243       18.78  3.00  Female     No  Thur  Dinner     2"
      ]
     },
     "execution_count": 39,
     "metadata": {},
     "output_type": "execute_result"
    }
   ],
   "source": [
    "tips.tail()"
   ]
  },
  {
   "cell_type": "markdown",
   "id": "589e86e5",
   "metadata": {},
   "source": [
    "In the above examples, we only see the first and last five entries. \n",
    "\n",
    "The number of entries that can be seen using this method can be changed between the values of 1 and 60. For example:"
   ]
  },
  {
   "cell_type": "code",
   "execution_count": 40,
   "id": "a50a6716",
   "metadata": {},
   "outputs": [
    {
     "data": {
      "text/html": [
       "<div>\n",
       "<style scoped>\n",
       "    .dataframe tbody tr th:only-of-type {\n",
       "        vertical-align: middle;\n",
       "    }\n",
       "\n",
       "    .dataframe tbody tr th {\n",
       "        vertical-align: top;\n",
       "    }\n",
       "\n",
       "    .dataframe thead th {\n",
       "        text-align: right;\n",
       "    }\n",
       "</style>\n",
       "<table border=\"1\" class=\"dataframe\">\n",
       "  <thead>\n",
       "    <tr style=\"text-align: right;\">\n",
       "      <th></th>\n",
       "      <th>total_bill</th>\n",
       "      <th>tip</th>\n",
       "      <th>sex</th>\n",
       "      <th>smoker</th>\n",
       "      <th>day</th>\n",
       "      <th>time</th>\n",
       "      <th>size</th>\n",
       "    </tr>\n",
       "  </thead>\n",
       "  <tbody>\n",
       "    <tr>\n",
       "      <th>0</th>\n",
       "      <td>16.99</td>\n",
       "      <td>1.01</td>\n",
       "      <td>Female</td>\n",
       "      <td>No</td>\n",
       "      <td>Sun</td>\n",
       "      <td>Dinner</td>\n",
       "      <td>2</td>\n",
       "    </tr>\n",
       "    <tr>\n",
       "      <th>1</th>\n",
       "      <td>10.34</td>\n",
       "      <td>1.66</td>\n",
       "      <td>Male</td>\n",
       "      <td>No</td>\n",
       "      <td>Sun</td>\n",
       "      <td>Dinner</td>\n",
       "      <td>3</td>\n",
       "    </tr>\n",
       "    <tr>\n",
       "      <th>2</th>\n",
       "      <td>21.01</td>\n",
       "      <td>3.50</td>\n",
       "      <td>Male</td>\n",
       "      <td>No</td>\n",
       "      <td>Sun</td>\n",
       "      <td>Dinner</td>\n",
       "      <td>3</td>\n",
       "    </tr>\n",
       "    <tr>\n",
       "      <th>3</th>\n",
       "      <td>23.68</td>\n",
       "      <td>3.31</td>\n",
       "      <td>Male</td>\n",
       "      <td>No</td>\n",
       "      <td>Sun</td>\n",
       "      <td>Dinner</td>\n",
       "      <td>2</td>\n",
       "    </tr>\n",
       "    <tr>\n",
       "      <th>4</th>\n",
       "      <td>24.59</td>\n",
       "      <td>3.61</td>\n",
       "      <td>Female</td>\n",
       "      <td>No</td>\n",
       "      <td>Sun</td>\n",
       "      <td>Dinner</td>\n",
       "      <td>4</td>\n",
       "    </tr>\n",
       "    <tr>\n",
       "      <th>5</th>\n",
       "      <td>25.29</td>\n",
       "      <td>4.71</td>\n",
       "      <td>Male</td>\n",
       "      <td>No</td>\n",
       "      <td>Sun</td>\n",
       "      <td>Dinner</td>\n",
       "      <td>4</td>\n",
       "    </tr>\n",
       "    <tr>\n",
       "      <th>6</th>\n",
       "      <td>8.77</td>\n",
       "      <td>2.00</td>\n",
       "      <td>Male</td>\n",
       "      <td>No</td>\n",
       "      <td>Sun</td>\n",
       "      <td>Dinner</td>\n",
       "      <td>2</td>\n",
       "    </tr>\n",
       "    <tr>\n",
       "      <th>7</th>\n",
       "      <td>26.88</td>\n",
       "      <td>3.12</td>\n",
       "      <td>Male</td>\n",
       "      <td>No</td>\n",
       "      <td>Sun</td>\n",
       "      <td>Dinner</td>\n",
       "      <td>4</td>\n",
       "    </tr>\n",
       "    <tr>\n",
       "      <th>8</th>\n",
       "      <td>15.04</td>\n",
       "      <td>1.96</td>\n",
       "      <td>Male</td>\n",
       "      <td>No</td>\n",
       "      <td>Sun</td>\n",
       "      <td>Dinner</td>\n",
       "      <td>2</td>\n",
       "    </tr>\n",
       "    <tr>\n",
       "      <th>9</th>\n",
       "      <td>14.78</td>\n",
       "      <td>3.23</td>\n",
       "      <td>Male</td>\n",
       "      <td>No</td>\n",
       "      <td>Sun</td>\n",
       "      <td>Dinner</td>\n",
       "      <td>2</td>\n",
       "    </tr>\n",
       "  </tbody>\n",
       "</table>\n",
       "</div>"
      ],
      "text/plain": [
       "   total_bill   tip     sex smoker  day    time  size\n",
       "0       16.99  1.01  Female     No  Sun  Dinner     2\n",
       "1       10.34  1.66    Male     No  Sun  Dinner     3\n",
       "2       21.01  3.50    Male     No  Sun  Dinner     3\n",
       "3       23.68  3.31    Male     No  Sun  Dinner     2\n",
       "4       24.59  3.61  Female     No  Sun  Dinner     4\n",
       "5       25.29  4.71    Male     No  Sun  Dinner     4\n",
       "6        8.77  2.00    Male     No  Sun  Dinner     2\n",
       "7       26.88  3.12    Male     No  Sun  Dinner     4\n",
       "8       15.04  1.96    Male     No  Sun  Dinner     2\n",
       "9       14.78  3.23    Male     No  Sun  Dinner     2"
      ]
     },
     "execution_count": 40,
     "metadata": {},
     "output_type": "execute_result"
    }
   ],
   "source": [
    "tips.head(10)"
   ]
  },
  {
   "cell_type": "code",
   "execution_count": 41,
   "id": "ab05b3fd",
   "metadata": {},
   "outputs": [
    {
     "data": {
      "text/html": [
       "<div>\n",
       "<style scoped>\n",
       "    .dataframe tbody tr th:only-of-type {\n",
       "        vertical-align: middle;\n",
       "    }\n",
       "\n",
       "    .dataframe tbody tr th {\n",
       "        vertical-align: top;\n",
       "    }\n",
       "\n",
       "    .dataframe thead th {\n",
       "        text-align: right;\n",
       "    }\n",
       "</style>\n",
       "<table border=\"1\" class=\"dataframe\">\n",
       "  <thead>\n",
       "    <tr style=\"text-align: right;\">\n",
       "      <th></th>\n",
       "      <th>total_bill</th>\n",
       "      <th>tip</th>\n",
       "      <th>sex</th>\n",
       "      <th>smoker</th>\n",
       "      <th>day</th>\n",
       "      <th>time</th>\n",
       "      <th>size</th>\n",
       "    </tr>\n",
       "  </thead>\n",
       "  <tbody>\n",
       "    <tr>\n",
       "      <th>234</th>\n",
       "      <td>15.53</td>\n",
       "      <td>3.00</td>\n",
       "      <td>Male</td>\n",
       "      <td>Yes</td>\n",
       "      <td>Sat</td>\n",
       "      <td>Dinner</td>\n",
       "      <td>2</td>\n",
       "    </tr>\n",
       "    <tr>\n",
       "      <th>235</th>\n",
       "      <td>10.07</td>\n",
       "      <td>1.25</td>\n",
       "      <td>Male</td>\n",
       "      <td>No</td>\n",
       "      <td>Sat</td>\n",
       "      <td>Dinner</td>\n",
       "      <td>2</td>\n",
       "    </tr>\n",
       "    <tr>\n",
       "      <th>236</th>\n",
       "      <td>12.60</td>\n",
       "      <td>1.00</td>\n",
       "      <td>Male</td>\n",
       "      <td>Yes</td>\n",
       "      <td>Sat</td>\n",
       "      <td>Dinner</td>\n",
       "      <td>2</td>\n",
       "    </tr>\n",
       "    <tr>\n",
       "      <th>237</th>\n",
       "      <td>32.83</td>\n",
       "      <td>1.17</td>\n",
       "      <td>Male</td>\n",
       "      <td>Yes</td>\n",
       "      <td>Sat</td>\n",
       "      <td>Dinner</td>\n",
       "      <td>2</td>\n",
       "    </tr>\n",
       "    <tr>\n",
       "      <th>238</th>\n",
       "      <td>35.83</td>\n",
       "      <td>4.67</td>\n",
       "      <td>Female</td>\n",
       "      <td>No</td>\n",
       "      <td>Sat</td>\n",
       "      <td>Dinner</td>\n",
       "      <td>3</td>\n",
       "    </tr>\n",
       "    <tr>\n",
       "      <th>239</th>\n",
       "      <td>29.03</td>\n",
       "      <td>5.92</td>\n",
       "      <td>Male</td>\n",
       "      <td>No</td>\n",
       "      <td>Sat</td>\n",
       "      <td>Dinner</td>\n",
       "      <td>3</td>\n",
       "    </tr>\n",
       "    <tr>\n",
       "      <th>240</th>\n",
       "      <td>27.18</td>\n",
       "      <td>2.00</td>\n",
       "      <td>Female</td>\n",
       "      <td>Yes</td>\n",
       "      <td>Sat</td>\n",
       "      <td>Dinner</td>\n",
       "      <td>2</td>\n",
       "    </tr>\n",
       "    <tr>\n",
       "      <th>241</th>\n",
       "      <td>22.67</td>\n",
       "      <td>2.00</td>\n",
       "      <td>Male</td>\n",
       "      <td>Yes</td>\n",
       "      <td>Sat</td>\n",
       "      <td>Dinner</td>\n",
       "      <td>2</td>\n",
       "    </tr>\n",
       "    <tr>\n",
       "      <th>242</th>\n",
       "      <td>17.82</td>\n",
       "      <td>1.75</td>\n",
       "      <td>Male</td>\n",
       "      <td>No</td>\n",
       "      <td>Sat</td>\n",
       "      <td>Dinner</td>\n",
       "      <td>2</td>\n",
       "    </tr>\n",
       "    <tr>\n",
       "      <th>243</th>\n",
       "      <td>18.78</td>\n",
       "      <td>3.00</td>\n",
       "      <td>Female</td>\n",
       "      <td>No</td>\n",
       "      <td>Thur</td>\n",
       "      <td>Dinner</td>\n",
       "      <td>2</td>\n",
       "    </tr>\n",
       "  </tbody>\n",
       "</table>\n",
       "</div>"
      ],
      "text/plain": [
       "     total_bill   tip     sex smoker   day    time  size\n",
       "234       15.53  3.00    Male    Yes   Sat  Dinner     2\n",
       "235       10.07  1.25    Male     No   Sat  Dinner     2\n",
       "236       12.60  1.00    Male    Yes   Sat  Dinner     2\n",
       "237       32.83  1.17    Male    Yes   Sat  Dinner     2\n",
       "238       35.83  4.67  Female     No   Sat  Dinner     3\n",
       "239       29.03  5.92    Male     No   Sat  Dinner     3\n",
       "240       27.18  2.00  Female    Yes   Sat  Dinner     2\n",
       "241       22.67  2.00    Male    Yes   Sat  Dinner     2\n",
       "242       17.82  1.75    Male     No   Sat  Dinner     2\n",
       "243       18.78  3.00  Female     No  Thur  Dinner     2"
      ]
     },
     "execution_count": 41,
     "metadata": {},
     "output_type": "execute_result"
    }
   ],
   "source": [
    "tips.tail(10)"
   ]
  },
  {
   "cell_type": "markdown",
   "id": "5bb3f0be",
   "metadata": {},
   "source": [
    "You can change the shape of the dataframe by selecting for specific columns or rows."
   ]
  },
  {
   "cell_type": "code",
   "execution_count": 42,
   "id": "981b8038",
   "metadata": {},
   "outputs": [
    {
     "name": "stdout",
     "output_type": "stream",
     "text": [
      "      tip   day\n",
      "0    1.01   Sun\n",
      "1    1.66   Sun\n",
      "2    3.50   Sun\n",
      "3    3.31   Sun\n",
      "4    3.61   Sun\n",
      "..    ...   ...\n",
      "239  5.92   Sat\n",
      "240  2.00   Sat\n",
      "241  2.00   Sat\n",
      "242  1.75   Sat\n",
      "243  3.00  Thur\n",
      "\n",
      "[244 rows x 2 columns]\n"
     ]
    }
   ],
   "source": [
    "tips_1 = tips[['tip','day']]\n",
    "print(tips_1)"
   ]
  },
  {
   "cell_type": "code",
   "execution_count": 43,
   "id": "32fdcdec",
   "metadata": {},
   "outputs": [
    {
     "name": "stdout",
     "output_type": "stream",
     "text": [
      "     tip  day\n",
      "0   1.01  Sun\n",
      "1   1.66  Sun\n",
      "2   3.50  Sun\n",
      "3   3.31  Sun\n",
      "4   3.61  Sun\n",
      "5   4.71  Sun\n",
      "6   2.00  Sun\n",
      "7   3.12  Sun\n",
      "8   1.96  Sun\n",
      "9   3.23  Sun\n",
      "10  1.71  Sun\n",
      "11  5.00  Sun\n",
      "12  1.57  Sun\n",
      "13  3.00  Sun\n",
      "14  3.02  Sun\n",
      "15  3.92  Sun\n",
      "16  1.67  Sun\n",
      "17  3.71  Sun\n",
      "18  3.50  Sun\n",
      "19  3.35  Sat\n",
      "20  4.08  Sat\n",
      "21  2.75  Sat\n",
      "22  2.23  Sat\n",
      "23  7.58  Sat\n",
      "24  3.18  Sat\n",
      "25  2.34  Sat\n",
      "26  2.00  Sat\n",
      "27  2.00  Sat\n",
      "28  4.30  Sat\n",
      "29  3.00  Sat\n",
      "30  1.45  Sat\n",
      "31  2.50  Sat\n",
      "32  3.00  Sat\n",
      "33  2.45  Sat\n",
      "34  3.27  Sat\n",
      "35  3.60  Sat\n",
      "36  2.00  Sat\n",
      "37  3.07  Sat\n",
      "38  2.31  Sat\n",
      "39  5.00  Sat\n",
      "40  2.24  Sat\n",
      "41  2.54  Sun\n",
      "42  3.06  Sun\n",
      "43  1.32  Sun\n",
      "44  5.60  Sun\n",
      "45  3.00  Sun\n",
      "46  5.00  Sun\n",
      "47  6.00  Sun\n",
      "48  2.05  Sun\n",
      "49  3.00  Sun\n"
     ]
    }
   ],
   "source": [
    "tips_1 = tips_1.iloc[0:50, :]\n",
    "print(tips_1)"
   ]
  },
  {
   "cell_type": "markdown",
   "id": "4d3ea5bb",
   "metadata": {},
   "source": [
    "You can also rename columns to make them easier to remember and/or call."
   ]
  },
  {
   "cell_type": "code",
   "execution_count": 44,
   "id": "8c726eb3",
   "metadata": {},
   "outputs": [
    {
     "name": "stdout",
     "output_type": "stream",
     "text": [
      "    Tips Day of Week\n",
      "0   1.01         Sun\n",
      "1   1.66         Sun\n",
      "2   3.50         Sun\n",
      "3   3.31         Sun\n",
      "4   3.61         Sun\n",
      "5   4.71         Sun\n",
      "6   2.00         Sun\n",
      "7   3.12         Sun\n",
      "8   1.96         Sun\n",
      "9   3.23         Sun\n",
      "10  1.71         Sun\n",
      "11  5.00         Sun\n",
      "12  1.57         Sun\n",
      "13  3.00         Sun\n",
      "14  3.02         Sun\n",
      "15  3.92         Sun\n",
      "16  1.67         Sun\n",
      "17  3.71         Sun\n",
      "18  3.50         Sun\n",
      "19  3.35         Sat\n",
      "20  4.08         Sat\n",
      "21  2.75         Sat\n",
      "22  2.23         Sat\n",
      "23  7.58         Sat\n",
      "24  3.18         Sat\n",
      "25  2.34         Sat\n",
      "26  2.00         Sat\n",
      "27  2.00         Sat\n",
      "28  4.30         Sat\n",
      "29  3.00         Sat\n",
      "30  1.45         Sat\n",
      "31  2.50         Sat\n",
      "32  3.00         Sat\n",
      "33  2.45         Sat\n",
      "34  3.27         Sat\n",
      "35  3.60         Sat\n",
      "36  2.00         Sat\n",
      "37  3.07         Sat\n",
      "38  2.31         Sat\n",
      "39  5.00         Sat\n",
      "40  2.24         Sat\n",
      "41  2.54         Sun\n",
      "42  3.06         Sun\n",
      "43  1.32         Sun\n",
      "44  5.60         Sun\n",
      "45  3.00         Sun\n",
      "46  5.00         Sun\n",
      "47  6.00         Sun\n",
      "48  2.05         Sun\n",
      "49  3.00         Sun\n"
     ]
    }
   ],
   "source": [
    "tips_1.columns = ['Tips','Day of Week']\n",
    "print(tips_1)"
   ]
  },
  {
   "cell_type": "markdown",
   "id": "13fa750a",
   "metadata": {},
   "source": [
    "Pandas can be used to calculate descriptive statisitcs of a row, column, or group, such as in the examples below:"
   ]
  },
  {
   "cell_type": "code",
   "execution_count": 45,
   "id": "8bd45d7f",
   "metadata": {},
   "outputs": [
    {
     "name": "stderr",
     "output_type": "stream",
     "text": [
      "<ipython-input-45-e94c6762f83e>:1: FutureWarning: The default value of numeric_only in DataFrame.mean is deprecated. In a future version, it will default to False. In addition, specifying 'numeric_only=None' is deprecated. Select only valid columns or specify the value of numeric_only to silence this warning.\n",
      "  tips_mean = tips_1.mean(axis=0)\n"
     ]
    },
    {
     "data": {
      "text/plain": [
       "Tips    3.0896\n",
       "dtype: float64"
      ]
     },
     "execution_count": 45,
     "metadata": {},
     "output_type": "execute_result"
    }
   ],
   "source": [
    "tips_mean = tips_1.mean(axis=0)\n",
    "tips_mean"
   ]
  },
  {
   "cell_type": "code",
   "execution_count": 46,
   "id": "e059c8c4",
   "metadata": {},
   "outputs": [
    {
     "name": "stderr",
     "output_type": "stream",
     "text": [
      "<ipython-input-46-2251c7c30969>:1: FutureWarning: The default value of numeric_only in DataFrame.median is deprecated. In a future version, it will default to False. In addition, specifying 'numeric_only=None' is deprecated. Select only valid columns or specify the value of numeric_only to silence this warning.\n",
      "  tips_median = tips_1.median(axis=0)\n"
     ]
    },
    {
     "data": {
      "text/plain": [
       "Tips    3.0\n",
       "dtype: float64"
      ]
     },
     "execution_count": 46,
     "metadata": {},
     "output_type": "execute_result"
    }
   ],
   "source": [
    "tips_median = tips_1.median(axis=0)\n",
    "tips_median"
   ]
  },
  {
   "cell_type": "markdown",
   "id": "ad64df14",
   "metadata": {},
   "source": [
    "Note, to return the mean value across several columns, use axis=1."
   ]
  },
  {
   "cell_type": "markdown",
   "id": "53d8abbd",
   "metadata": {},
   "source": [
    "But what if we wanted to find the mean tip for each day."
   ]
  },
  {
   "cell_type": "code",
   "execution_count": 47,
   "id": "4a1d4b8b",
   "metadata": {},
   "outputs": [
    {
     "data": {
      "text/plain": [
       "Day of Week\n",
       "Sat    3.077273\n",
       "Sun    3.099286\n",
       "Name: Tips, dtype: float64"
      ]
     },
     "execution_count": 47,
     "metadata": {},
     "output_type": "execute_result"
    }
   ],
   "source": [
    "tips_day_mean = tips_1.groupby(['Day of Week'])['Tips'].mean()\n",
    "tips_day_mean"
   ]
  },
  {
   "cell_type": "markdown",
   "id": "da63e5fd",
   "metadata": {},
   "source": [
    "Pandas dataframes can be further modified by combining and filtering data."
   ]
  },
  {
   "cell_type": "markdown",
   "id": "a0f69987",
   "metadata": {},
   "source": [
    "Let's do this in two stages. First, say we want to find the sum of the total bill and tip for each customer. "
   ]
  },
  {
   "cell_type": "code",
   "execution_count": 48,
   "id": "493bd276",
   "metadata": {},
   "outputs": [
    {
     "data": {
      "text/html": [
       "<div>\n",
       "<style scoped>\n",
       "    .dataframe tbody tr th:only-of-type {\n",
       "        vertical-align: middle;\n",
       "    }\n",
       "\n",
       "    .dataframe tbody tr th {\n",
       "        vertical-align: top;\n",
       "    }\n",
       "\n",
       "    .dataframe thead th {\n",
       "        text-align: right;\n",
       "    }\n",
       "</style>\n",
       "<table border=\"1\" class=\"dataframe\">\n",
       "  <thead>\n",
       "    <tr style=\"text-align: right;\">\n",
       "      <th></th>\n",
       "      <th>total_bill</th>\n",
       "      <th>tip</th>\n",
       "      <th>sex</th>\n",
       "      <th>smoker</th>\n",
       "      <th>day</th>\n",
       "      <th>time</th>\n",
       "      <th>size</th>\n",
       "    </tr>\n",
       "  </thead>\n",
       "  <tbody>\n",
       "    <tr>\n",
       "      <th>0</th>\n",
       "      <td>16.99</td>\n",
       "      <td>1.01</td>\n",
       "      <td>Female</td>\n",
       "      <td>No</td>\n",
       "      <td>Sun</td>\n",
       "      <td>Dinner</td>\n",
       "      <td>2</td>\n",
       "    </tr>\n",
       "    <tr>\n",
       "      <th>1</th>\n",
       "      <td>10.34</td>\n",
       "      <td>1.66</td>\n",
       "      <td>Male</td>\n",
       "      <td>No</td>\n",
       "      <td>Sun</td>\n",
       "      <td>Dinner</td>\n",
       "      <td>3</td>\n",
       "    </tr>\n",
       "    <tr>\n",
       "      <th>2</th>\n",
       "      <td>21.01</td>\n",
       "      <td>3.50</td>\n",
       "      <td>Male</td>\n",
       "      <td>No</td>\n",
       "      <td>Sun</td>\n",
       "      <td>Dinner</td>\n",
       "      <td>3</td>\n",
       "    </tr>\n",
       "    <tr>\n",
       "      <th>3</th>\n",
       "      <td>23.68</td>\n",
       "      <td>3.31</td>\n",
       "      <td>Male</td>\n",
       "      <td>No</td>\n",
       "      <td>Sun</td>\n",
       "      <td>Dinner</td>\n",
       "      <td>2</td>\n",
       "    </tr>\n",
       "    <tr>\n",
       "      <th>4</th>\n",
       "      <td>24.59</td>\n",
       "      <td>3.61</td>\n",
       "      <td>Female</td>\n",
       "      <td>No</td>\n",
       "      <td>Sun</td>\n",
       "      <td>Dinner</td>\n",
       "      <td>4</td>\n",
       "    </tr>\n",
       "    <tr>\n",
       "      <th>...</th>\n",
       "      <td>...</td>\n",
       "      <td>...</td>\n",
       "      <td>...</td>\n",
       "      <td>...</td>\n",
       "      <td>...</td>\n",
       "      <td>...</td>\n",
       "      <td>...</td>\n",
       "    </tr>\n",
       "    <tr>\n",
       "      <th>239</th>\n",
       "      <td>29.03</td>\n",
       "      <td>5.92</td>\n",
       "      <td>Male</td>\n",
       "      <td>No</td>\n",
       "      <td>Sat</td>\n",
       "      <td>Dinner</td>\n",
       "      <td>3</td>\n",
       "    </tr>\n",
       "    <tr>\n",
       "      <th>240</th>\n",
       "      <td>27.18</td>\n",
       "      <td>2.00</td>\n",
       "      <td>Female</td>\n",
       "      <td>Yes</td>\n",
       "      <td>Sat</td>\n",
       "      <td>Dinner</td>\n",
       "      <td>2</td>\n",
       "    </tr>\n",
       "    <tr>\n",
       "      <th>241</th>\n",
       "      <td>22.67</td>\n",
       "      <td>2.00</td>\n",
       "      <td>Male</td>\n",
       "      <td>Yes</td>\n",
       "      <td>Sat</td>\n",
       "      <td>Dinner</td>\n",
       "      <td>2</td>\n",
       "    </tr>\n",
       "    <tr>\n",
       "      <th>242</th>\n",
       "      <td>17.82</td>\n",
       "      <td>1.75</td>\n",
       "      <td>Male</td>\n",
       "      <td>No</td>\n",
       "      <td>Sat</td>\n",
       "      <td>Dinner</td>\n",
       "      <td>2</td>\n",
       "    </tr>\n",
       "    <tr>\n",
       "      <th>243</th>\n",
       "      <td>18.78</td>\n",
       "      <td>3.00</td>\n",
       "      <td>Female</td>\n",
       "      <td>No</td>\n",
       "      <td>Thur</td>\n",
       "      <td>Dinner</td>\n",
       "      <td>2</td>\n",
       "    </tr>\n",
       "  </tbody>\n",
       "</table>\n",
       "<p>244 rows × 7 columns</p>\n",
       "</div>"
      ],
      "text/plain": [
       "     total_bill   tip     sex smoker   day    time  size\n",
       "0         16.99  1.01  Female     No   Sun  Dinner     2\n",
       "1         10.34  1.66    Male     No   Sun  Dinner     3\n",
       "2         21.01  3.50    Male     No   Sun  Dinner     3\n",
       "3         23.68  3.31    Male     No   Sun  Dinner     2\n",
       "4         24.59  3.61  Female     No   Sun  Dinner     4\n",
       "..          ...   ...     ...    ...   ...     ...   ...\n",
       "239       29.03  5.92    Male     No   Sat  Dinner     3\n",
       "240       27.18  2.00  Female    Yes   Sat  Dinner     2\n",
       "241       22.67  2.00    Male    Yes   Sat  Dinner     2\n",
       "242       17.82  1.75    Male     No   Sat  Dinner     2\n",
       "243       18.78  3.00  Female     No  Thur  Dinner     2\n",
       "\n",
       "[244 rows x 7 columns]"
      ]
     },
     "execution_count": 48,
     "metadata": {},
     "output_type": "execute_result"
    }
   ],
   "source": [
    "tips #print unmodified df"
   ]
  },
  {
   "cell_type": "code",
   "execution_count": 49,
   "id": "b94c94e5",
   "metadata": {},
   "outputs": [
    {
     "data": {
      "text/html": [
       "<div>\n",
       "<style scoped>\n",
       "    .dataframe tbody tr th:only-of-type {\n",
       "        vertical-align: middle;\n",
       "    }\n",
       "\n",
       "    .dataframe tbody tr th {\n",
       "        vertical-align: top;\n",
       "    }\n",
       "\n",
       "    .dataframe thead th {\n",
       "        text-align: right;\n",
       "    }\n",
       "</style>\n",
       "<table border=\"1\" class=\"dataframe\">\n",
       "  <thead>\n",
       "    <tr style=\"text-align: right;\">\n",
       "      <th></th>\n",
       "      <th>total_bill</th>\n",
       "      <th>tip</th>\n",
       "      <th>sex</th>\n",
       "      <th>smoker</th>\n",
       "      <th>day</th>\n",
       "      <th>time</th>\n",
       "      <th>size</th>\n",
       "      <th>amount</th>\n",
       "    </tr>\n",
       "  </thead>\n",
       "  <tbody>\n",
       "    <tr>\n",
       "      <th>0</th>\n",
       "      <td>16.99</td>\n",
       "      <td>1.01</td>\n",
       "      <td>Female</td>\n",
       "      <td>No</td>\n",
       "      <td>Sun</td>\n",
       "      <td>Dinner</td>\n",
       "      <td>2</td>\n",
       "      <td>18.00</td>\n",
       "    </tr>\n",
       "    <tr>\n",
       "      <th>1</th>\n",
       "      <td>10.34</td>\n",
       "      <td>1.66</td>\n",
       "      <td>Male</td>\n",
       "      <td>No</td>\n",
       "      <td>Sun</td>\n",
       "      <td>Dinner</td>\n",
       "      <td>3</td>\n",
       "      <td>12.00</td>\n",
       "    </tr>\n",
       "    <tr>\n",
       "      <th>2</th>\n",
       "      <td>21.01</td>\n",
       "      <td>3.50</td>\n",
       "      <td>Male</td>\n",
       "      <td>No</td>\n",
       "      <td>Sun</td>\n",
       "      <td>Dinner</td>\n",
       "      <td>3</td>\n",
       "      <td>24.51</td>\n",
       "    </tr>\n",
       "    <tr>\n",
       "      <th>3</th>\n",
       "      <td>23.68</td>\n",
       "      <td>3.31</td>\n",
       "      <td>Male</td>\n",
       "      <td>No</td>\n",
       "      <td>Sun</td>\n",
       "      <td>Dinner</td>\n",
       "      <td>2</td>\n",
       "      <td>26.99</td>\n",
       "    </tr>\n",
       "    <tr>\n",
       "      <th>4</th>\n",
       "      <td>24.59</td>\n",
       "      <td>3.61</td>\n",
       "      <td>Female</td>\n",
       "      <td>No</td>\n",
       "      <td>Sun</td>\n",
       "      <td>Dinner</td>\n",
       "      <td>4</td>\n",
       "      <td>28.20</td>\n",
       "    </tr>\n",
       "    <tr>\n",
       "      <th>...</th>\n",
       "      <td>...</td>\n",
       "      <td>...</td>\n",
       "      <td>...</td>\n",
       "      <td>...</td>\n",
       "      <td>...</td>\n",
       "      <td>...</td>\n",
       "      <td>...</td>\n",
       "      <td>...</td>\n",
       "    </tr>\n",
       "    <tr>\n",
       "      <th>239</th>\n",
       "      <td>29.03</td>\n",
       "      <td>5.92</td>\n",
       "      <td>Male</td>\n",
       "      <td>No</td>\n",
       "      <td>Sat</td>\n",
       "      <td>Dinner</td>\n",
       "      <td>3</td>\n",
       "      <td>34.95</td>\n",
       "    </tr>\n",
       "    <tr>\n",
       "      <th>240</th>\n",
       "      <td>27.18</td>\n",
       "      <td>2.00</td>\n",
       "      <td>Female</td>\n",
       "      <td>Yes</td>\n",
       "      <td>Sat</td>\n",
       "      <td>Dinner</td>\n",
       "      <td>2</td>\n",
       "      <td>29.18</td>\n",
       "    </tr>\n",
       "    <tr>\n",
       "      <th>241</th>\n",
       "      <td>22.67</td>\n",
       "      <td>2.00</td>\n",
       "      <td>Male</td>\n",
       "      <td>Yes</td>\n",
       "      <td>Sat</td>\n",
       "      <td>Dinner</td>\n",
       "      <td>2</td>\n",
       "      <td>24.67</td>\n",
       "    </tr>\n",
       "    <tr>\n",
       "      <th>242</th>\n",
       "      <td>17.82</td>\n",
       "      <td>1.75</td>\n",
       "      <td>Male</td>\n",
       "      <td>No</td>\n",
       "      <td>Sat</td>\n",
       "      <td>Dinner</td>\n",
       "      <td>2</td>\n",
       "      <td>19.57</td>\n",
       "    </tr>\n",
       "    <tr>\n",
       "      <th>243</th>\n",
       "      <td>18.78</td>\n",
       "      <td>3.00</td>\n",
       "      <td>Female</td>\n",
       "      <td>No</td>\n",
       "      <td>Thur</td>\n",
       "      <td>Dinner</td>\n",
       "      <td>2</td>\n",
       "      <td>21.78</td>\n",
       "    </tr>\n",
       "  </tbody>\n",
       "</table>\n",
       "<p>244 rows × 8 columns</p>\n",
       "</div>"
      ],
      "text/plain": [
       "     total_bill   tip     sex smoker   day    time  size  amount\n",
       "0         16.99  1.01  Female     No   Sun  Dinner     2   18.00\n",
       "1         10.34  1.66    Male     No   Sun  Dinner     3   12.00\n",
       "2         21.01  3.50    Male     No   Sun  Dinner     3   24.51\n",
       "3         23.68  3.31    Male     No   Sun  Dinner     2   26.99\n",
       "4         24.59  3.61  Female     No   Sun  Dinner     4   28.20\n",
       "..          ...   ...     ...    ...   ...     ...   ...     ...\n",
       "239       29.03  5.92    Male     No   Sat  Dinner     3   34.95\n",
       "240       27.18  2.00  Female    Yes   Sat  Dinner     2   29.18\n",
       "241       22.67  2.00    Male    Yes   Sat  Dinner     2   24.67\n",
       "242       17.82  1.75    Male     No   Sat  Dinner     2   19.57\n",
       "243       18.78  3.00  Female     No  Thur  Dinner     2   21.78\n",
       "\n",
       "[244 rows x 8 columns]"
      ]
     },
     "execution_count": 49,
     "metadata": {},
     "output_type": "execute_result"
    }
   ],
   "source": [
    "tips['amount'] = tips['total_bill'] + tips['tip'] \n",
    "#creates new column 'amount' in df and enters the sum of total_bill and tip by row \n",
    "tips"
   ]
  },
  {
   "cell_type": "markdown",
   "id": "7a682e0c",
   "metadata": {},
   "source": [
    "Now, let's say we only want these values for those customers who visited on a Saturday."
   ]
  },
  {
   "cell_type": "code",
   "execution_count": 50,
   "id": "3d2543eb",
   "metadata": {},
   "outputs": [
    {
     "data": {
      "text/html": [
       "<div>\n",
       "<style scoped>\n",
       "    .dataframe tbody tr th:only-of-type {\n",
       "        vertical-align: middle;\n",
       "    }\n",
       "\n",
       "    .dataframe tbody tr th {\n",
       "        vertical-align: top;\n",
       "    }\n",
       "\n",
       "    .dataframe thead th {\n",
       "        text-align: right;\n",
       "    }\n",
       "</style>\n",
       "<table border=\"1\" class=\"dataframe\">\n",
       "  <thead>\n",
       "    <tr style=\"text-align: right;\">\n",
       "      <th></th>\n",
       "      <th>day</th>\n",
       "      <th>total_bill</th>\n",
       "      <th>tip</th>\n",
       "      <th>sex</th>\n",
       "      <th>smoker</th>\n",
       "      <th>time</th>\n",
       "      <th>size</th>\n",
       "      <th>amount</th>\n",
       "    </tr>\n",
       "  </thead>\n",
       "  <tbody>\n",
       "    <tr>\n",
       "      <th>0</th>\n",
       "      <td>Sat</td>\n",
       "      <td>20.65</td>\n",
       "      <td>3.35</td>\n",
       "      <td>Male</td>\n",
       "      <td>No</td>\n",
       "      <td>Dinner</td>\n",
       "      <td>3</td>\n",
       "      <td>24.00</td>\n",
       "    </tr>\n",
       "    <tr>\n",
       "      <th>1</th>\n",
       "      <td>Sat</td>\n",
       "      <td>17.92</td>\n",
       "      <td>4.08</td>\n",
       "      <td>Male</td>\n",
       "      <td>No</td>\n",
       "      <td>Dinner</td>\n",
       "      <td>2</td>\n",
       "      <td>22.00</td>\n",
       "    </tr>\n",
       "    <tr>\n",
       "      <th>2</th>\n",
       "      <td>Sat</td>\n",
       "      <td>20.29</td>\n",
       "      <td>2.75</td>\n",
       "      <td>Female</td>\n",
       "      <td>No</td>\n",
       "      <td>Dinner</td>\n",
       "      <td>2</td>\n",
       "      <td>23.04</td>\n",
       "    </tr>\n",
       "    <tr>\n",
       "      <th>3</th>\n",
       "      <td>Sat</td>\n",
       "      <td>15.77</td>\n",
       "      <td>2.23</td>\n",
       "      <td>Female</td>\n",
       "      <td>No</td>\n",
       "      <td>Dinner</td>\n",
       "      <td>2</td>\n",
       "      <td>18.00</td>\n",
       "    </tr>\n",
       "    <tr>\n",
       "      <th>4</th>\n",
       "      <td>Sat</td>\n",
       "      <td>39.42</td>\n",
       "      <td>7.58</td>\n",
       "      <td>Male</td>\n",
       "      <td>No</td>\n",
       "      <td>Dinner</td>\n",
       "      <td>4</td>\n",
       "      <td>47.00</td>\n",
       "    </tr>\n",
       "    <tr>\n",
       "      <th>...</th>\n",
       "      <td>...</td>\n",
       "      <td>...</td>\n",
       "      <td>...</td>\n",
       "      <td>...</td>\n",
       "      <td>...</td>\n",
       "      <td>...</td>\n",
       "      <td>...</td>\n",
       "      <td>...</td>\n",
       "    </tr>\n",
       "    <tr>\n",
       "      <th>82</th>\n",
       "      <td>Sat</td>\n",
       "      <td>35.83</td>\n",
       "      <td>4.67</td>\n",
       "      <td>Female</td>\n",
       "      <td>No</td>\n",
       "      <td>Dinner</td>\n",
       "      <td>3</td>\n",
       "      <td>40.50</td>\n",
       "    </tr>\n",
       "    <tr>\n",
       "      <th>83</th>\n",
       "      <td>Sat</td>\n",
       "      <td>29.03</td>\n",
       "      <td>5.92</td>\n",
       "      <td>Male</td>\n",
       "      <td>No</td>\n",
       "      <td>Dinner</td>\n",
       "      <td>3</td>\n",
       "      <td>34.95</td>\n",
       "    </tr>\n",
       "    <tr>\n",
       "      <th>84</th>\n",
       "      <td>Sat</td>\n",
       "      <td>27.18</td>\n",
       "      <td>2.00</td>\n",
       "      <td>Female</td>\n",
       "      <td>Yes</td>\n",
       "      <td>Dinner</td>\n",
       "      <td>2</td>\n",
       "      <td>29.18</td>\n",
       "    </tr>\n",
       "    <tr>\n",
       "      <th>85</th>\n",
       "      <td>Sat</td>\n",
       "      <td>22.67</td>\n",
       "      <td>2.00</td>\n",
       "      <td>Male</td>\n",
       "      <td>Yes</td>\n",
       "      <td>Dinner</td>\n",
       "      <td>2</td>\n",
       "      <td>24.67</td>\n",
       "    </tr>\n",
       "    <tr>\n",
       "      <th>86</th>\n",
       "      <td>Sat</td>\n",
       "      <td>17.82</td>\n",
       "      <td>1.75</td>\n",
       "      <td>Male</td>\n",
       "      <td>No</td>\n",
       "      <td>Dinner</td>\n",
       "      <td>2</td>\n",
       "      <td>19.57</td>\n",
       "    </tr>\n",
       "  </tbody>\n",
       "</table>\n",
       "<p>87 rows × 8 columns</p>\n",
       "</div>"
      ],
      "text/plain": [
       "    day  total_bill   tip     sex smoker    time  size  amount\n",
       "0   Sat       20.65  3.35    Male     No  Dinner     3   24.00\n",
       "1   Sat       17.92  4.08    Male     No  Dinner     2   22.00\n",
       "2   Sat       20.29  2.75  Female     No  Dinner     2   23.04\n",
       "3   Sat       15.77  2.23  Female     No  Dinner     2   18.00\n",
       "4   Sat       39.42  7.58    Male     No  Dinner     4   47.00\n",
       "..  ...         ...   ...     ...    ...     ...   ...     ...\n",
       "82  Sat       35.83  4.67  Female     No  Dinner     3   40.50\n",
       "83  Sat       29.03  5.92    Male     No  Dinner     3   34.95\n",
       "84  Sat       27.18  2.00  Female    Yes  Dinner     2   29.18\n",
       "85  Sat       22.67  2.00    Male    Yes  Dinner     2   24.67\n",
       "86  Sat       17.82  1.75    Male     No  Dinner     2   19.57\n",
       "\n",
       "[87 rows x 8 columns]"
      ]
     },
     "execution_count": 50,
     "metadata": {},
     "output_type": "execute_result"
    }
   ],
   "source": [
    "tips_day = tips.set_index('day').loc['Sat'].reset_index()\n",
    "tips_day"
   ]
  },
  {
   "cell_type": "markdown",
   "id": "e05bd03e",
   "metadata": {},
   "source": [
    "And what if we only want these values for those customers who had size 3, or 3 or more."
   ]
  },
  {
   "cell_type": "code",
   "execution_count": 51,
   "id": "42c3ac57",
   "metadata": {},
   "outputs": [],
   "source": [
    "tips_size1 = tips[tips['size'] == 3] # == means only\n",
    "tips_size2 = tips[tips['size'] >= 3] # > greater than, >= greater than or qual to, < smaller than, <= smaller than or equal to"
   ]
  },
  {
   "cell_type": "code",
   "execution_count": 52,
   "id": "0a9e3d5f",
   "metadata": {},
   "outputs": [
    {
     "data": {
      "text/html": [
       "<div>\n",
       "<style scoped>\n",
       "    .dataframe tbody tr th:only-of-type {\n",
       "        vertical-align: middle;\n",
       "    }\n",
       "\n",
       "    .dataframe tbody tr th {\n",
       "        vertical-align: top;\n",
       "    }\n",
       "\n",
       "    .dataframe thead th {\n",
       "        text-align: right;\n",
       "    }\n",
       "</style>\n",
       "<table border=\"1\" class=\"dataframe\">\n",
       "  <thead>\n",
       "    <tr style=\"text-align: right;\">\n",
       "      <th></th>\n",
       "      <th>total_bill</th>\n",
       "      <th>tip</th>\n",
       "      <th>sex</th>\n",
       "      <th>smoker</th>\n",
       "      <th>day</th>\n",
       "      <th>time</th>\n",
       "      <th>size</th>\n",
       "      <th>amount</th>\n",
       "    </tr>\n",
       "  </thead>\n",
       "  <tbody>\n",
       "    <tr>\n",
       "      <th>1</th>\n",
       "      <td>10.34</td>\n",
       "      <td>1.66</td>\n",
       "      <td>Male</td>\n",
       "      <td>No</td>\n",
       "      <td>Sun</td>\n",
       "      <td>Dinner</td>\n",
       "      <td>3</td>\n",
       "      <td>12.00</td>\n",
       "    </tr>\n",
       "    <tr>\n",
       "      <th>2</th>\n",
       "      <td>21.01</td>\n",
       "      <td>3.50</td>\n",
       "      <td>Male</td>\n",
       "      <td>No</td>\n",
       "      <td>Sun</td>\n",
       "      <td>Dinner</td>\n",
       "      <td>3</td>\n",
       "      <td>24.51</td>\n",
       "    </tr>\n",
       "    <tr>\n",
       "      <th>16</th>\n",
       "      <td>10.33</td>\n",
       "      <td>1.67</td>\n",
       "      <td>Female</td>\n",
       "      <td>No</td>\n",
       "      <td>Sun</td>\n",
       "      <td>Dinner</td>\n",
       "      <td>3</td>\n",
       "      <td>12.00</td>\n",
       "    </tr>\n",
       "    <tr>\n",
       "      <th>17</th>\n",
       "      <td>16.29</td>\n",
       "      <td>3.71</td>\n",
       "      <td>Male</td>\n",
       "      <td>No</td>\n",
       "      <td>Sun</td>\n",
       "      <td>Dinner</td>\n",
       "      <td>3</td>\n",
       "      <td>20.00</td>\n",
       "    </tr>\n",
       "    <tr>\n",
       "      <th>18</th>\n",
       "      <td>16.97</td>\n",
       "      <td>3.50</td>\n",
       "      <td>Female</td>\n",
       "      <td>No</td>\n",
       "      <td>Sun</td>\n",
       "      <td>Dinner</td>\n",
       "      <td>3</td>\n",
       "      <td>20.47</td>\n",
       "    </tr>\n",
       "    <tr>\n",
       "      <th>19</th>\n",
       "      <td>20.65</td>\n",
       "      <td>3.35</td>\n",
       "      <td>Male</td>\n",
       "      <td>No</td>\n",
       "      <td>Sat</td>\n",
       "      <td>Dinner</td>\n",
       "      <td>3</td>\n",
       "      <td>24.00</td>\n",
       "    </tr>\n",
       "    <tr>\n",
       "      <th>35</th>\n",
       "      <td>24.06</td>\n",
       "      <td>3.60</td>\n",
       "      <td>Male</td>\n",
       "      <td>No</td>\n",
       "      <td>Sat</td>\n",
       "      <td>Dinner</td>\n",
       "      <td>3</td>\n",
       "      <td>27.66</td>\n",
       "    </tr>\n",
       "    <tr>\n",
       "      <th>36</th>\n",
       "      <td>16.31</td>\n",
       "      <td>2.00</td>\n",
       "      <td>Male</td>\n",
       "      <td>No</td>\n",
       "      <td>Sat</td>\n",
       "      <td>Dinner</td>\n",
       "      <td>3</td>\n",
       "      <td>18.31</td>\n",
       "    </tr>\n",
       "    <tr>\n",
       "      <th>37</th>\n",
       "      <td>16.93</td>\n",
       "      <td>3.07</td>\n",
       "      <td>Female</td>\n",
       "      <td>No</td>\n",
       "      <td>Sat</td>\n",
       "      <td>Dinner</td>\n",
       "      <td>3</td>\n",
       "      <td>20.00</td>\n",
       "    </tr>\n",
       "    <tr>\n",
       "      <th>38</th>\n",
       "      <td>18.69</td>\n",
       "      <td>2.31</td>\n",
       "      <td>Male</td>\n",
       "      <td>No</td>\n",
       "      <td>Sat</td>\n",
       "      <td>Dinner</td>\n",
       "      <td>3</td>\n",
       "      <td>21.00</td>\n",
       "    </tr>\n",
       "    <tr>\n",
       "      <th>39</th>\n",
       "      <td>31.27</td>\n",
       "      <td>5.00</td>\n",
       "      <td>Male</td>\n",
       "      <td>No</td>\n",
       "      <td>Sat</td>\n",
       "      <td>Dinner</td>\n",
       "      <td>3</td>\n",
       "      <td>36.27</td>\n",
       "    </tr>\n",
       "    <tr>\n",
       "      <th>40</th>\n",
       "      <td>16.04</td>\n",
       "      <td>2.24</td>\n",
       "      <td>Male</td>\n",
       "      <td>No</td>\n",
       "      <td>Sat</td>\n",
       "      <td>Dinner</td>\n",
       "      <td>3</td>\n",
       "      <td>18.28</td>\n",
       "    </tr>\n",
       "    <tr>\n",
       "      <th>48</th>\n",
       "      <td>28.55</td>\n",
       "      <td>2.05</td>\n",
       "      <td>Male</td>\n",
       "      <td>No</td>\n",
       "      <td>Sun</td>\n",
       "      <td>Dinner</td>\n",
       "      <td>3</td>\n",
       "      <td>30.60</td>\n",
       "    </tr>\n",
       "    <tr>\n",
       "      <th>64</th>\n",
       "      <td>17.59</td>\n",
       "      <td>2.64</td>\n",
       "      <td>Male</td>\n",
       "      <td>No</td>\n",
       "      <td>Sat</td>\n",
       "      <td>Dinner</td>\n",
       "      <td>3</td>\n",
       "      <td>20.23</td>\n",
       "    </tr>\n",
       "    <tr>\n",
       "      <th>65</th>\n",
       "      <td>20.08</td>\n",
       "      <td>3.15</td>\n",
       "      <td>Male</td>\n",
       "      <td>No</td>\n",
       "      <td>Sat</td>\n",
       "      <td>Dinner</td>\n",
       "      <td>3</td>\n",
       "      <td>23.23</td>\n",
       "    </tr>\n",
       "    <tr>\n",
       "      <th>71</th>\n",
       "      <td>17.07</td>\n",
       "      <td>3.00</td>\n",
       "      <td>Female</td>\n",
       "      <td>No</td>\n",
       "      <td>Sat</td>\n",
       "      <td>Dinner</td>\n",
       "      <td>3</td>\n",
       "      <td>20.07</td>\n",
       "    </tr>\n",
       "    <tr>\n",
       "      <th>102</th>\n",
       "      <td>44.30</td>\n",
       "      <td>2.50</td>\n",
       "      <td>Female</td>\n",
       "      <td>Yes</td>\n",
       "      <td>Sat</td>\n",
       "      <td>Dinner</td>\n",
       "      <td>3</td>\n",
       "      <td>46.80</td>\n",
       "    </tr>\n",
       "    <tr>\n",
       "      <th>112</th>\n",
       "      <td>38.07</td>\n",
       "      <td>4.00</td>\n",
       "      <td>Male</td>\n",
       "      <td>No</td>\n",
       "      <td>Sun</td>\n",
       "      <td>Dinner</td>\n",
       "      <td>3</td>\n",
       "      <td>42.07</td>\n",
       "    </tr>\n",
       "    <tr>\n",
       "      <th>114</th>\n",
       "      <td>25.71</td>\n",
       "      <td>4.00</td>\n",
       "      <td>Female</td>\n",
       "      <td>No</td>\n",
       "      <td>Sun</td>\n",
       "      <td>Dinner</td>\n",
       "      <td>3</td>\n",
       "      <td>29.71</td>\n",
       "    </tr>\n",
       "    <tr>\n",
       "      <th>129</th>\n",
       "      <td>22.82</td>\n",
       "      <td>2.18</td>\n",
       "      <td>Male</td>\n",
       "      <td>No</td>\n",
       "      <td>Thur</td>\n",
       "      <td>Lunch</td>\n",
       "      <td>3</td>\n",
       "      <td>25.00</td>\n",
       "    </tr>\n",
       "    <tr>\n",
       "      <th>146</th>\n",
       "      <td>18.64</td>\n",
       "      <td>1.36</td>\n",
       "      <td>Female</td>\n",
       "      <td>No</td>\n",
       "      <td>Thur</td>\n",
       "      <td>Lunch</td>\n",
       "      <td>3</td>\n",
       "      <td>20.00</td>\n",
       "    </tr>\n",
       "    <tr>\n",
       "      <th>152</th>\n",
       "      <td>17.26</td>\n",
       "      <td>2.74</td>\n",
       "      <td>Male</td>\n",
       "      <td>No</td>\n",
       "      <td>Sun</td>\n",
       "      <td>Dinner</td>\n",
       "      <td>3</td>\n",
       "      <td>20.00</td>\n",
       "    </tr>\n",
       "    <tr>\n",
       "      <th>162</th>\n",
       "      <td>16.21</td>\n",
       "      <td>2.00</td>\n",
       "      <td>Female</td>\n",
       "      <td>No</td>\n",
       "      <td>Sun</td>\n",
       "      <td>Dinner</td>\n",
       "      <td>3</td>\n",
       "      <td>18.21</td>\n",
       "    </tr>\n",
       "    <tr>\n",
       "      <th>165</th>\n",
       "      <td>24.52</td>\n",
       "      <td>3.48</td>\n",
       "      <td>Male</td>\n",
       "      <td>No</td>\n",
       "      <td>Sun</td>\n",
       "      <td>Dinner</td>\n",
       "      <td>3</td>\n",
       "      <td>28.00</td>\n",
       "    </tr>\n",
       "    <tr>\n",
       "      <th>170</th>\n",
       "      <td>50.81</td>\n",
       "      <td>10.00</td>\n",
       "      <td>Male</td>\n",
       "      <td>Yes</td>\n",
       "      <td>Sat</td>\n",
       "      <td>Dinner</td>\n",
       "      <td>3</td>\n",
       "      <td>60.81</td>\n",
       "    </tr>\n",
       "    <tr>\n",
       "      <th>182</th>\n",
       "      <td>45.35</td>\n",
       "      <td>3.50</td>\n",
       "      <td>Male</td>\n",
       "      <td>Yes</td>\n",
       "      <td>Sun</td>\n",
       "      <td>Dinner</td>\n",
       "      <td>3</td>\n",
       "      <td>48.85</td>\n",
       "    </tr>\n",
       "    <tr>\n",
       "      <th>186</th>\n",
       "      <td>20.90</td>\n",
       "      <td>3.50</td>\n",
       "      <td>Female</td>\n",
       "      <td>Yes</td>\n",
       "      <td>Sun</td>\n",
       "      <td>Dinner</td>\n",
       "      <td>3</td>\n",
       "      <td>24.40</td>\n",
       "    </tr>\n",
       "    <tr>\n",
       "      <th>188</th>\n",
       "      <td>18.15</td>\n",
       "      <td>3.50</td>\n",
       "      <td>Female</td>\n",
       "      <td>Yes</td>\n",
       "      <td>Sun</td>\n",
       "      <td>Dinner</td>\n",
       "      <td>3</td>\n",
       "      <td>21.65</td>\n",
       "    </tr>\n",
       "    <tr>\n",
       "      <th>189</th>\n",
       "      <td>23.10</td>\n",
       "      <td>4.00</td>\n",
       "      <td>Male</td>\n",
       "      <td>Yes</td>\n",
       "      <td>Sun</td>\n",
       "      <td>Dinner</td>\n",
       "      <td>3</td>\n",
       "      <td>27.10</td>\n",
       "    </tr>\n",
       "    <tr>\n",
       "      <th>200</th>\n",
       "      <td>18.71</td>\n",
       "      <td>4.00</td>\n",
       "      <td>Male</td>\n",
       "      <td>Yes</td>\n",
       "      <td>Thur</td>\n",
       "      <td>Lunch</td>\n",
       "      <td>3</td>\n",
       "      <td>22.71</td>\n",
       "    </tr>\n",
       "    <tr>\n",
       "      <th>205</th>\n",
       "      <td>16.47</td>\n",
       "      <td>3.23</td>\n",
       "      <td>Female</td>\n",
       "      <td>Yes</td>\n",
       "      <td>Thur</td>\n",
       "      <td>Lunch</td>\n",
       "      <td>3</td>\n",
       "      <td>19.70</td>\n",
       "    </tr>\n",
       "    <tr>\n",
       "      <th>206</th>\n",
       "      <td>26.59</td>\n",
       "      <td>3.41</td>\n",
       "      <td>Male</td>\n",
       "      <td>Yes</td>\n",
       "      <td>Sat</td>\n",
       "      <td>Dinner</td>\n",
       "      <td>3</td>\n",
       "      <td>30.00</td>\n",
       "    </tr>\n",
       "    <tr>\n",
       "      <th>210</th>\n",
       "      <td>30.06</td>\n",
       "      <td>2.00</td>\n",
       "      <td>Male</td>\n",
       "      <td>Yes</td>\n",
       "      <td>Sat</td>\n",
       "      <td>Dinner</td>\n",
       "      <td>3</td>\n",
       "      <td>32.06</td>\n",
       "    </tr>\n",
       "    <tr>\n",
       "      <th>214</th>\n",
       "      <td>28.17</td>\n",
       "      <td>6.50</td>\n",
       "      <td>Female</td>\n",
       "      <td>Yes</td>\n",
       "      <td>Sat</td>\n",
       "      <td>Dinner</td>\n",
       "      <td>3</td>\n",
       "      <td>34.67</td>\n",
       "    </tr>\n",
       "    <tr>\n",
       "      <th>223</th>\n",
       "      <td>15.98</td>\n",
       "      <td>3.00</td>\n",
       "      <td>Female</td>\n",
       "      <td>No</td>\n",
       "      <td>Fri</td>\n",
       "      <td>Lunch</td>\n",
       "      <td>3</td>\n",
       "      <td>18.98</td>\n",
       "    </tr>\n",
       "    <tr>\n",
       "      <th>231</th>\n",
       "      <td>15.69</td>\n",
       "      <td>3.00</td>\n",
       "      <td>Male</td>\n",
       "      <td>Yes</td>\n",
       "      <td>Sat</td>\n",
       "      <td>Dinner</td>\n",
       "      <td>3</td>\n",
       "      <td>18.69</td>\n",
       "    </tr>\n",
       "    <tr>\n",
       "      <th>238</th>\n",
       "      <td>35.83</td>\n",
       "      <td>4.67</td>\n",
       "      <td>Female</td>\n",
       "      <td>No</td>\n",
       "      <td>Sat</td>\n",
       "      <td>Dinner</td>\n",
       "      <td>3</td>\n",
       "      <td>40.50</td>\n",
       "    </tr>\n",
       "    <tr>\n",
       "      <th>239</th>\n",
       "      <td>29.03</td>\n",
       "      <td>5.92</td>\n",
       "      <td>Male</td>\n",
       "      <td>No</td>\n",
       "      <td>Sat</td>\n",
       "      <td>Dinner</td>\n",
       "      <td>3</td>\n",
       "      <td>34.95</td>\n",
       "    </tr>\n",
       "  </tbody>\n",
       "</table>\n",
       "</div>"
      ],
      "text/plain": [
       "     total_bill    tip     sex smoker   day    time  size  amount\n",
       "1         10.34   1.66    Male     No   Sun  Dinner     3   12.00\n",
       "2         21.01   3.50    Male     No   Sun  Dinner     3   24.51\n",
       "16        10.33   1.67  Female     No   Sun  Dinner     3   12.00\n",
       "17        16.29   3.71    Male     No   Sun  Dinner     3   20.00\n",
       "18        16.97   3.50  Female     No   Sun  Dinner     3   20.47\n",
       "19        20.65   3.35    Male     No   Sat  Dinner     3   24.00\n",
       "35        24.06   3.60    Male     No   Sat  Dinner     3   27.66\n",
       "36        16.31   2.00    Male     No   Sat  Dinner     3   18.31\n",
       "37        16.93   3.07  Female     No   Sat  Dinner     3   20.00\n",
       "38        18.69   2.31    Male     No   Sat  Dinner     3   21.00\n",
       "39        31.27   5.00    Male     No   Sat  Dinner     3   36.27\n",
       "40        16.04   2.24    Male     No   Sat  Dinner     3   18.28\n",
       "48        28.55   2.05    Male     No   Sun  Dinner     3   30.60\n",
       "64        17.59   2.64    Male     No   Sat  Dinner     3   20.23\n",
       "65        20.08   3.15    Male     No   Sat  Dinner     3   23.23\n",
       "71        17.07   3.00  Female     No   Sat  Dinner     3   20.07\n",
       "102       44.30   2.50  Female    Yes   Sat  Dinner     3   46.80\n",
       "112       38.07   4.00    Male     No   Sun  Dinner     3   42.07\n",
       "114       25.71   4.00  Female     No   Sun  Dinner     3   29.71\n",
       "129       22.82   2.18    Male     No  Thur   Lunch     3   25.00\n",
       "146       18.64   1.36  Female     No  Thur   Lunch     3   20.00\n",
       "152       17.26   2.74    Male     No   Sun  Dinner     3   20.00\n",
       "162       16.21   2.00  Female     No   Sun  Dinner     3   18.21\n",
       "165       24.52   3.48    Male     No   Sun  Dinner     3   28.00\n",
       "170       50.81  10.00    Male    Yes   Sat  Dinner     3   60.81\n",
       "182       45.35   3.50    Male    Yes   Sun  Dinner     3   48.85\n",
       "186       20.90   3.50  Female    Yes   Sun  Dinner     3   24.40\n",
       "188       18.15   3.50  Female    Yes   Sun  Dinner     3   21.65\n",
       "189       23.10   4.00    Male    Yes   Sun  Dinner     3   27.10\n",
       "200       18.71   4.00    Male    Yes  Thur   Lunch     3   22.71\n",
       "205       16.47   3.23  Female    Yes  Thur   Lunch     3   19.70\n",
       "206       26.59   3.41    Male    Yes   Sat  Dinner     3   30.00\n",
       "210       30.06   2.00    Male    Yes   Sat  Dinner     3   32.06\n",
       "214       28.17   6.50  Female    Yes   Sat  Dinner     3   34.67\n",
       "223       15.98   3.00  Female     No   Fri   Lunch     3   18.98\n",
       "231       15.69   3.00    Male    Yes   Sat  Dinner     3   18.69\n",
       "238       35.83   4.67  Female     No   Sat  Dinner     3   40.50\n",
       "239       29.03   5.92    Male     No   Sat  Dinner     3   34.95"
      ]
     },
     "execution_count": 52,
     "metadata": {},
     "output_type": "execute_result"
    }
   ],
   "source": [
    "tips_size1"
   ]
  },
  {
   "cell_type": "code",
   "execution_count": 53,
   "id": "3d3a9887",
   "metadata": {},
   "outputs": [
    {
     "data": {
      "text/html": [
       "<div>\n",
       "<style scoped>\n",
       "    .dataframe tbody tr th:only-of-type {\n",
       "        vertical-align: middle;\n",
       "    }\n",
       "\n",
       "    .dataframe tbody tr th {\n",
       "        vertical-align: top;\n",
       "    }\n",
       "\n",
       "    .dataframe thead th {\n",
       "        text-align: right;\n",
       "    }\n",
       "</style>\n",
       "<table border=\"1\" class=\"dataframe\">\n",
       "  <thead>\n",
       "    <tr style=\"text-align: right;\">\n",
       "      <th></th>\n",
       "      <th>total_bill</th>\n",
       "      <th>tip</th>\n",
       "      <th>sex</th>\n",
       "      <th>smoker</th>\n",
       "      <th>day</th>\n",
       "      <th>time</th>\n",
       "      <th>size</th>\n",
       "      <th>amount</th>\n",
       "    </tr>\n",
       "  </thead>\n",
       "  <tbody>\n",
       "    <tr>\n",
       "      <th>1</th>\n",
       "      <td>10.34</td>\n",
       "      <td>1.66</td>\n",
       "      <td>Male</td>\n",
       "      <td>No</td>\n",
       "      <td>Sun</td>\n",
       "      <td>Dinner</td>\n",
       "      <td>3</td>\n",
       "      <td>12.00</td>\n",
       "    </tr>\n",
       "    <tr>\n",
       "      <th>2</th>\n",
       "      <td>21.01</td>\n",
       "      <td>3.50</td>\n",
       "      <td>Male</td>\n",
       "      <td>No</td>\n",
       "      <td>Sun</td>\n",
       "      <td>Dinner</td>\n",
       "      <td>3</td>\n",
       "      <td>24.51</td>\n",
       "    </tr>\n",
       "    <tr>\n",
       "      <th>4</th>\n",
       "      <td>24.59</td>\n",
       "      <td>3.61</td>\n",
       "      <td>Female</td>\n",
       "      <td>No</td>\n",
       "      <td>Sun</td>\n",
       "      <td>Dinner</td>\n",
       "      <td>4</td>\n",
       "      <td>28.20</td>\n",
       "    </tr>\n",
       "    <tr>\n",
       "      <th>5</th>\n",
       "      <td>25.29</td>\n",
       "      <td>4.71</td>\n",
       "      <td>Male</td>\n",
       "      <td>No</td>\n",
       "      <td>Sun</td>\n",
       "      <td>Dinner</td>\n",
       "      <td>4</td>\n",
       "      <td>30.00</td>\n",
       "    </tr>\n",
       "    <tr>\n",
       "      <th>7</th>\n",
       "      <td>26.88</td>\n",
       "      <td>3.12</td>\n",
       "      <td>Male</td>\n",
       "      <td>No</td>\n",
       "      <td>Sun</td>\n",
       "      <td>Dinner</td>\n",
       "      <td>4</td>\n",
       "      <td>30.00</td>\n",
       "    </tr>\n",
       "    <tr>\n",
       "      <th>...</th>\n",
       "      <td>...</td>\n",
       "      <td>...</td>\n",
       "      <td>...</td>\n",
       "      <td>...</td>\n",
       "      <td>...</td>\n",
       "      <td>...</td>\n",
       "      <td>...</td>\n",
       "      <td>...</td>\n",
       "    </tr>\n",
       "    <tr>\n",
       "      <th>227</th>\n",
       "      <td>20.45</td>\n",
       "      <td>3.00</td>\n",
       "      <td>Male</td>\n",
       "      <td>No</td>\n",
       "      <td>Sat</td>\n",
       "      <td>Dinner</td>\n",
       "      <td>4</td>\n",
       "      <td>23.45</td>\n",
       "    </tr>\n",
       "    <tr>\n",
       "      <th>230</th>\n",
       "      <td>24.01</td>\n",
       "      <td>2.00</td>\n",
       "      <td>Male</td>\n",
       "      <td>Yes</td>\n",
       "      <td>Sat</td>\n",
       "      <td>Dinner</td>\n",
       "      <td>4</td>\n",
       "      <td>26.01</td>\n",
       "    </tr>\n",
       "    <tr>\n",
       "      <th>231</th>\n",
       "      <td>15.69</td>\n",
       "      <td>3.00</td>\n",
       "      <td>Male</td>\n",
       "      <td>Yes</td>\n",
       "      <td>Sat</td>\n",
       "      <td>Dinner</td>\n",
       "      <td>3</td>\n",
       "      <td>18.69</td>\n",
       "    </tr>\n",
       "    <tr>\n",
       "      <th>238</th>\n",
       "      <td>35.83</td>\n",
       "      <td>4.67</td>\n",
       "      <td>Female</td>\n",
       "      <td>No</td>\n",
       "      <td>Sat</td>\n",
       "      <td>Dinner</td>\n",
       "      <td>3</td>\n",
       "      <td>40.50</td>\n",
       "    </tr>\n",
       "    <tr>\n",
       "      <th>239</th>\n",
       "      <td>29.03</td>\n",
       "      <td>5.92</td>\n",
       "      <td>Male</td>\n",
       "      <td>No</td>\n",
       "      <td>Sat</td>\n",
       "      <td>Dinner</td>\n",
       "      <td>3</td>\n",
       "      <td>34.95</td>\n",
       "    </tr>\n",
       "  </tbody>\n",
       "</table>\n",
       "<p>84 rows × 8 columns</p>\n",
       "</div>"
      ],
      "text/plain": [
       "     total_bill   tip     sex smoker  day    time  size  amount\n",
       "1         10.34  1.66    Male     No  Sun  Dinner     3   12.00\n",
       "2         21.01  3.50    Male     No  Sun  Dinner     3   24.51\n",
       "4         24.59  3.61  Female     No  Sun  Dinner     4   28.20\n",
       "5         25.29  4.71    Male     No  Sun  Dinner     4   30.00\n",
       "7         26.88  3.12    Male     No  Sun  Dinner     4   30.00\n",
       "..          ...   ...     ...    ...  ...     ...   ...     ...\n",
       "227       20.45  3.00    Male     No  Sat  Dinner     4   23.45\n",
       "230       24.01  2.00    Male    Yes  Sat  Dinner     4   26.01\n",
       "231       15.69  3.00    Male    Yes  Sat  Dinner     3   18.69\n",
       "238       35.83  4.67  Female     No  Sat  Dinner     3   40.50\n",
       "239       29.03  5.92    Male     No  Sat  Dinner     3   34.95\n",
       "\n",
       "[84 rows x 8 columns]"
      ]
     },
     "execution_count": 53,
     "metadata": {},
     "output_type": "execute_result"
    }
   ],
   "source": [
    "tips_size2"
   ]
  },
  {
   "cell_type": "markdown",
   "id": "fddf0d75",
   "metadata": {},
   "source": [
    "Another asset of pandas is that it can convert strings to datetime objects, using pd.to_datetime(df). From here on, datetime objects can be modified to display year, month, day etc. only. This is also a particularly useful function for dealing with transitions."
   ]
  },
  {
   "cell_type": "markdown",
   "id": "2769fd92",
   "metadata": {},
   "source": [
    "## NumPy for Beginners"
   ]
  },
  {
   "cell_type": "markdown",
   "id": "b4b3f4d7",
   "metadata": {},
   "source": [
    "NumPy stands for numeric or numerical python and is another Python library with the tools for solving mathematical models of problems on a computer.\n",
    "\n",
    "One of these tools is the NumPy array.\n",
    "\n",
    "A NumPy array is a data structure in which data can be stored and accessed as a multi-dimensional array object. \n",
    "\n",
    "Arrays have several advantages over Python lists, as they are a more compact data structure allowing for efficient computation of matrices and arrays."
   ]
  },
  {
   "cell_type": "markdown",
   "id": "00af71cb",
   "metadata": {},
   "source": [
    "At a structural level, an array is a combination of four pointers:\n",
    "+ data \n",
    "+ dtype \n",
    "+ shape\n",
    "+ strides"
   ]
  },
  {
   "cell_type": "code",
   "execution_count": 54,
   "id": "341334b8",
   "metadata": {},
   "outputs": [],
   "source": [
    "import numpy as np"
   ]
  },
  {
   "cell_type": "markdown",
   "id": "fec2eaf0",
   "metadata": {},
   "source": [
    "We will now show you how to make arrays of zeros, ones, and using random values."
   ]
  },
  {
   "cell_type": "code",
   "execution_count": 55,
   "id": "f77ee2d4",
   "metadata": {},
   "outputs": [
    {
     "data": {
      "text/plain": [
       "array([[0., 0., 0.],\n",
       "       [0., 0., 0.],\n",
       "       [0., 0., 0.]])"
      ]
     },
     "execution_count": 55,
     "metadata": {},
     "output_type": "execute_result"
    }
   ],
   "source": [
    "np.zeros((3,3))"
   ]
  },
  {
   "cell_type": "code",
   "execution_count": 56,
   "id": "c55b8cec",
   "metadata": {},
   "outputs": [
    {
     "data": {
      "text/plain": [
       "array([[1., 1., 1.],\n",
       "       [1., 1., 1.],\n",
       "       [1., 1., 1.]])"
      ]
     },
     "execution_count": 56,
     "metadata": {},
     "output_type": "execute_result"
    }
   ],
   "source": [
    "np.ones((3,3))"
   ]
  },
  {
   "cell_type": "code",
   "execution_count": 57,
   "id": "a74b41fa",
   "metadata": {},
   "outputs": [
    {
     "data": {
      "text/plain": [
       "array([[0.34194193, 0.19683119, 0.28805411],\n",
       "       [0.69647649, 0.33098823, 0.18333619],\n",
       "       [0.68050048, 0.53585816, 0.51453255]])"
      ]
     },
     "execution_count": 57,
     "metadata": {},
     "output_type": "execute_result"
    }
   ],
   "source": [
    "np.random.random((3,3))"
   ]
  },
  {
   "cell_type": "markdown",
   "id": "1c2591f2",
   "metadata": {},
   "source": [
    "Here, the two numbers in parentheses indicate the number of rows and columns in the matrix."
   ]
  },
  {
   "cell_type": "markdown",
   "id": "dd461d0c",
   "metadata": {},
   "source": [
    "To create an array with an number, use the following approach:"
   ]
  },
  {
   "cell_type": "code",
   "execution_count": 58,
   "id": "dcbeb2f6",
   "metadata": {},
   "outputs": [
    {
     "data": {
      "text/plain": [
       "array([[7, 7, 7],\n",
       "       [7, 7, 7],\n",
       "       [7, 7, 7]])"
      ]
     },
     "execution_count": 58,
     "metadata": {},
     "output_type": "execute_result"
    }
   ],
   "source": [
    "np.full((3,3),7) # where the last number is the fill-in value"
   ]
  },
  {
   "cell_type": "markdown",
   "id": "06118ae3",
   "metadata": {},
   "source": [
    "To create an array of evenly-spaced values, we use the following function:"
   ]
  },
  {
   "cell_type": "code",
   "execution_count": 59,
   "id": "87f4dda8",
   "metadata": {},
   "outputs": [
    {
     "data": {
      "text/plain": [
       "array([0.  , 0.25, 0.5 , 0.75, 1.  , 1.25, 1.5 , 1.75, 2.  ])"
      ]
     },
     "execution_count": 59,
     "metadata": {},
     "output_type": "execute_result"
    }
   ],
   "source": [
    "np.linspace(0, 2, 9) \n",
    "# where 0 and 2 indicate the start and endpoint values of the array (the range) and the final number 9 indicates the total number of values."
   ]
  },
  {
   "cell_type": "markdown",
   "id": "54f38226",
   "metadata": {},
   "source": [
    "## Visualisations in Python"
   ]
  },
  {
   "cell_type": "markdown",
   "id": "0370e125",
   "metadata": {},
   "source": [
    "There are two main data visualisation packages that can be used with Python. These are Matplotlib and Seaborn."
   ]
  },
  {
   "cell_type": "markdown",
   "id": "db6ccb7a",
   "metadata": {},
   "source": [
    "While the two are complementary, Seaborn specifically targets statistical data visualisation and extends Matplotlib by working with different parameters past the default Matplotlib parameters. Here we will focus on the use of Seaborn extending Matplotlib."
   ]
  },
  {
   "cell_type": "markdown",
   "id": "85bfdf18",
   "metadata": {},
   "source": [
    "### Matplotlib"
   ]
  },
  {
   "cell_type": "code",
   "execution_count": 60,
   "id": "3f72bb12",
   "metadata": {},
   "outputs": [],
   "source": [
    "import matplotlib.pyplot as plt"
   ]
  },
  {
   "cell_type": "markdown",
   "id": "00e5e4a6",
   "metadata": {},
   "source": [
    "### Seaborn"
   ]
  },
  {
   "cell_type": "code",
   "execution_count": 61,
   "id": "8062f010",
   "metadata": {},
   "outputs": [],
   "source": [
    "import seaborn as sns"
   ]
  },
  {
   "cell_type": "markdown",
   "id": "8b47df66",
   "metadata": {},
   "source": [
    "Now, let's load one of the built-in data sets in the Seaborn library."
   ]
  },
  {
   "cell_type": "code",
   "execution_count": 62,
   "id": "13a1bed6",
   "metadata": {},
   "outputs": [],
   "source": [
    "tips = pd.read_csv(\"https://raw.githubusercontent.com/mwaskom/seaborn-data/master/tips.csv\")"
   ]
  },
  {
   "cell_type": "code",
   "execution_count": 63,
   "id": "8a644575",
   "metadata": {},
   "outputs": [
    {
     "data": {
      "text/html": [
       "<div>\n",
       "<style scoped>\n",
       "    .dataframe tbody tr th:only-of-type {\n",
       "        vertical-align: middle;\n",
       "    }\n",
       "\n",
       "    .dataframe tbody tr th {\n",
       "        vertical-align: top;\n",
       "    }\n",
       "\n",
       "    .dataframe thead th {\n",
       "        text-align: right;\n",
       "    }\n",
       "</style>\n",
       "<table border=\"1\" class=\"dataframe\">\n",
       "  <thead>\n",
       "    <tr style=\"text-align: right;\">\n",
       "      <th></th>\n",
       "      <th>total_bill</th>\n",
       "      <th>tip</th>\n",
       "      <th>sex</th>\n",
       "      <th>smoker</th>\n",
       "      <th>day</th>\n",
       "      <th>time</th>\n",
       "      <th>size</th>\n",
       "    </tr>\n",
       "  </thead>\n",
       "  <tbody>\n",
       "    <tr>\n",
       "      <th>0</th>\n",
       "      <td>16.99</td>\n",
       "      <td>1.01</td>\n",
       "      <td>Female</td>\n",
       "      <td>No</td>\n",
       "      <td>Sun</td>\n",
       "      <td>Dinner</td>\n",
       "      <td>2</td>\n",
       "    </tr>\n",
       "    <tr>\n",
       "      <th>1</th>\n",
       "      <td>10.34</td>\n",
       "      <td>1.66</td>\n",
       "      <td>Male</td>\n",
       "      <td>No</td>\n",
       "      <td>Sun</td>\n",
       "      <td>Dinner</td>\n",
       "      <td>3</td>\n",
       "    </tr>\n",
       "    <tr>\n",
       "      <th>2</th>\n",
       "      <td>21.01</td>\n",
       "      <td>3.50</td>\n",
       "      <td>Male</td>\n",
       "      <td>No</td>\n",
       "      <td>Sun</td>\n",
       "      <td>Dinner</td>\n",
       "      <td>3</td>\n",
       "    </tr>\n",
       "    <tr>\n",
       "      <th>3</th>\n",
       "      <td>23.68</td>\n",
       "      <td>3.31</td>\n",
       "      <td>Male</td>\n",
       "      <td>No</td>\n",
       "      <td>Sun</td>\n",
       "      <td>Dinner</td>\n",
       "      <td>2</td>\n",
       "    </tr>\n",
       "    <tr>\n",
       "      <th>4</th>\n",
       "      <td>24.59</td>\n",
       "      <td>3.61</td>\n",
       "      <td>Female</td>\n",
       "      <td>No</td>\n",
       "      <td>Sun</td>\n",
       "      <td>Dinner</td>\n",
       "      <td>4</td>\n",
       "    </tr>\n",
       "    <tr>\n",
       "      <th>...</th>\n",
       "      <td>...</td>\n",
       "      <td>...</td>\n",
       "      <td>...</td>\n",
       "      <td>...</td>\n",
       "      <td>...</td>\n",
       "      <td>...</td>\n",
       "      <td>...</td>\n",
       "    </tr>\n",
       "    <tr>\n",
       "      <th>239</th>\n",
       "      <td>29.03</td>\n",
       "      <td>5.92</td>\n",
       "      <td>Male</td>\n",
       "      <td>No</td>\n",
       "      <td>Sat</td>\n",
       "      <td>Dinner</td>\n",
       "      <td>3</td>\n",
       "    </tr>\n",
       "    <tr>\n",
       "      <th>240</th>\n",
       "      <td>27.18</td>\n",
       "      <td>2.00</td>\n",
       "      <td>Female</td>\n",
       "      <td>Yes</td>\n",
       "      <td>Sat</td>\n",
       "      <td>Dinner</td>\n",
       "      <td>2</td>\n",
       "    </tr>\n",
       "    <tr>\n",
       "      <th>241</th>\n",
       "      <td>22.67</td>\n",
       "      <td>2.00</td>\n",
       "      <td>Male</td>\n",
       "      <td>Yes</td>\n",
       "      <td>Sat</td>\n",
       "      <td>Dinner</td>\n",
       "      <td>2</td>\n",
       "    </tr>\n",
       "    <tr>\n",
       "      <th>242</th>\n",
       "      <td>17.82</td>\n",
       "      <td>1.75</td>\n",
       "      <td>Male</td>\n",
       "      <td>No</td>\n",
       "      <td>Sat</td>\n",
       "      <td>Dinner</td>\n",
       "      <td>2</td>\n",
       "    </tr>\n",
       "    <tr>\n",
       "      <th>243</th>\n",
       "      <td>18.78</td>\n",
       "      <td>3.00</td>\n",
       "      <td>Female</td>\n",
       "      <td>No</td>\n",
       "      <td>Thur</td>\n",
       "      <td>Dinner</td>\n",
       "      <td>2</td>\n",
       "    </tr>\n",
       "  </tbody>\n",
       "</table>\n",
       "<p>244 rows × 7 columns</p>\n",
       "</div>"
      ],
      "text/plain": [
       "     total_bill   tip     sex smoker   day    time  size\n",
       "0         16.99  1.01  Female     No   Sun  Dinner     2\n",
       "1         10.34  1.66    Male     No   Sun  Dinner     3\n",
       "2         21.01  3.50    Male     No   Sun  Dinner     3\n",
       "3         23.68  3.31    Male     No   Sun  Dinner     2\n",
       "4         24.59  3.61  Female     No   Sun  Dinner     4\n",
       "..          ...   ...     ...    ...   ...     ...   ...\n",
       "239       29.03  5.92    Male     No   Sat  Dinner     3\n",
       "240       27.18  2.00  Female    Yes   Sat  Dinner     2\n",
       "241       22.67  2.00    Male    Yes   Sat  Dinner     2\n",
       "242       17.82  1.75    Male     No   Sat  Dinner     2\n",
       "243       18.78  3.00  Female     No  Thur  Dinner     2\n",
       "\n",
       "[244 rows x 7 columns]"
      ]
     },
     "execution_count": 63,
     "metadata": {},
     "output_type": "execute_result"
    }
   ],
   "source": [
    "tips"
   ]
  },
  {
   "cell_type": "markdown",
   "id": "aaee3656",
   "metadata": {},
   "source": [
    "Seaborn allows us to visualise data using different types of plots. Here, we will demonstrate the differences between  swarmplots, factor/barplots, violinplots, and boxplots. This can best be visualised by plotting multiple subplots in one plot using plt.subplots*. We use figsize to control the size of the overall plot."
   ]
  },
  {
   "cell_type": "code",
   "execution_count": 64,
   "id": "a2197f26",
   "metadata": {},
   "outputs": [
    {
     "name": "stderr",
     "output_type": "stream",
     "text": [
      "/Users/nanfletcher-lloyd/.local/lib/python3.8/site-packages/seaborn/categorical.py:1296: UserWarning: 7.9% of the points cannot be placed; you may want to decrease the size of the markers or use stripplot.\n",
      "  warnings.warn(msg, UserWarning)\n",
      "/Users/nanfletcher-lloyd/.local/lib/python3.8/site-packages/seaborn/categorical.py:1296: UserWarning: 13.8% of the points cannot be placed; you may want to decrease the size of the markers or use stripplot.\n",
      "  warnings.warn(msg, UserWarning)\n",
      "/Users/nanfletcher-lloyd/.local/lib/python3.8/site-packages/seaborn/categorical.py:1296: UserWarning: 11.3% of the points cannot be placed; you may want to decrease the size of the markers or use stripplot.\n",
      "  warnings.warn(msg, UserWarning)\n"
     ]
    },
    {
     "data": {
      "text/plain": [
       "<AxesSubplot:xlabel='day', ylabel='tip'>"
      ]
     },
     "execution_count": 64,
     "metadata": {},
     "output_type": "execute_result"
    },
    {
     "data": {
      "image/png": "[encoded data removed]",
      "text/plain": [
       "<Figure size 720x576 with 4 Axes>"
      ]
     },
     "metadata": {
      "needs_background": "light"
     },
     "output_type": "display_data"
    }
   ],
   "source": [
    "fig,axes = plt.subplots(nrows=2, ncols=2, figsize=(10,8))\n",
    "\n",
    "sns.swarmplot(x=\"day\", y=\"tip\", data=tips, ax=axes[0,0])\n",
    "sns.barplot(x=\"day\", y=\"tip\", data=tips, ax=axes[0,1])\n",
    "sns.violinplot(x=\"day\", y=\"tip\", data=tips, ax=axes[1,0])\n",
    "sns.boxplot(x=\"day\", y=\"tip\", data=tips, ax=axes[1,1])\n"
   ]
  },
  {
   "cell_type": "markdown",
   "id": "6a104a82",
   "metadata": {},
   "source": [
    "As can be seen in the plot above, each plot type provides a slightly different perspective.\n",
    "\n",
    "The first five plots (swarmplot, barplot, violinplot, and boxplot) are good for visualising the difference between two groups (i.e. where one variable is categorical). To differing degress, each of these plots show the distribution of values in each group (here, the distribution of tips over different days of the week).\n",
    "\n",
    "The swarmplot shows distribution of tip size across the differnt days.\n",
    "\n",
    "The barplot represents an estimate of central tendency (mean, median etc. - here it is median) by the height with some indication of uncertainty around that estimate by the errorbars.\n",
    "\n",
    "The violinplot shows distribution of tip size and give an estimate of kernel density ()\n",
    "\n",
    "The boxplot shows the distribution of the tip size, where all plot components correspond to an actual data point (minimum, lower quartile, median quartile, upper quartile, and maximum, as well as showing each individual outlier).\n"
   ]
  },
  {
   "cell_type": "markdown",
   "id": "3bc4d970",
   "metadata": {},
   "source": [
    "Another plot that is good for visualising data is the scatterplot. This plot allows you to visualise whether there is any relationship between two sets of continuous data (here, the relationship between the size of the tip and the total bill)."
   ]
  },
  {
   "cell_type": "code",
   "execution_count": 65,
   "id": "6ebaf52d",
   "metadata": {},
   "outputs": [
    {
     "data": {
      "text/plain": [
       "<AxesSubplot:xlabel='total_bill', ylabel='tip'>"
      ]
     },
     "execution_count": 65,
     "metadata": {},
     "output_type": "execute_result"
    },
    {
     "data": {
      "image/png": "[encoded data removed]",
      "text/plain": [
       "<Figure size 432x288 with 1 Axes>"
      ]
     },
     "metadata": {
      "needs_background": "light"
     },
     "output_type": "display_data"
    }
   ],
   "source": [
    "sns.scatterplot(y=\"tip\", x=\"total_bill\", data=tips)"
   ]
  },
  {
   "cell_type": "markdown",
   "id": "86b863f2",
   "metadata": {},
   "source": [
    "One of the major motivations for using Seaborn with Matplotlib is that it allows us more control over the paramaters of the plot, such as adding another variable, changing the color palette, setting the limits of the x and y axes, and providing labels and titles etc. Such changes can help us to make our plots more visually appealing and easier to explain."
   ]
  },
  {
   "cell_type": "markdown",
   "id": "990ce54d",
   "metadata": {},
   "source": [
    "Using the plot above, we will now add another categorical variable to this plot using the hue and style function to denote between the different groups."
   ]
  },
  {
   "cell_type": "code",
   "execution_count": 66,
   "id": "6ebaf52d",
   "metadata": {},
   "outputs": [
    {
     "data": {
      "text/plain": [
       "<AxesSubplot:xlabel='total_bill', ylabel='tip'>"
      ]
     },
     "execution_count": 66,
     "metadata": {},
     "output_type": "execute_result"
    },
    {
     "data": {
      "image/png": "[encoded data removed]",
      "text/plain": [
       "<Figure size 432x288 with 1 Axes>"
      ]
     },
     "metadata": {
      "needs_background": "light"
     },
     "output_type": "display_data"
    }
   ],
   "source": [
    "sns.scatterplot(y=\"tip\", x=\"total_bill\", data=tips, hue=\"day\", style=\"day\")"
   ]
  },
  {
   "cell_type": "markdown",
   "id": "990ce54d",
   "metadata": {},
   "source": [
    "We can also change the color palette using the palette function and the limits of the x and y axes using the plt.x/ylim function."
   ]
  },
  {
   "cell_type": "markdown",
   "id": "85459e2f",
   "metadata": {},
   "source": [
    "Here, we've chosen a color palette known as viridis. "
   ]
  },
  {
   "cell_type": "code",
   "execution_count": 67,
   "id": "6ebaf52d",
   "metadata": {},
   "outputs": [
    {
     "data": {
      "text/plain": [
       "(0.0, 12.0)"
      ]
     },
     "execution_count": 67,
     "metadata": {},
     "output_type": "execute_result"
    },
    {
     "data": {
      "image/png": "[encoded data removed]",
      "text/plain": [
       "<Figure size 432x288 with 1 Axes>"
      ]
     },
     "metadata": {
      "needs_background": "light"
     },
     "output_type": "display_data"
    }
   ],
   "source": [
    "sns.scatterplot(y=\"tip\", x=\"total_bill\", data=tips, hue=\"day\", style=\"day\", palette='viridis')\n",
    "plt.xlim(0, 60)\n",
    "plt.ylim(0, 12)"
   ]
  },
  {
   "cell_type": "markdown",
   "id": "2d4cae06",
   "metadata": {},
   "source": [
    "Learn more about choosing and creating color palettes in seaborn using the links below: \n",
    "\n",
    "https://seaborn.pydata.org/tutorial/color_palettes.html - how to choose/create a color palette\n",
    "https://www.dropbox.com/s/8autfrvx6dpll96/pal.pdf - in-built seaborn color palettes by name\n",
    "https://medium.com/swlh/how-to-create-a-seaborn-palette-that-highlights-maximum-value-f614aecd706b - matplotlib colors by name"
   ]
  },
  {
   "cell_type": "markdown",
   "id": "106fce98",
   "metadata": {},
   "source": [
    "Now create your own color palette!"
   ]
  },
  {
   "cell_type": "code",
   "execution_count": 68,
   "id": "43a0ee11",
   "metadata": {},
   "outputs": [
    {
     "data": {
      "text/plain": [
       "(0.0, 12.0)"
      ]
     },
     "execution_count": 68,
     "metadata": {},
     "output_type": "execute_result"
    },
    {
     "data": {
      "image/png": "[encoded data removed]",
      "text/plain": [
       "<Figure size 432x288 with 1 Axes>"
      ]
     },
     "metadata": {
      "needs_background": "light"
     },
     "output_type": "display_data"
    }
   ],
   "source": [
    "palette = ['#04134e', '#c418aa', '#ad1822', '#d67a24']\n",
    "\n",
    "sns.scatterplot(y=\"tip\", x=\"total_bill\", data=tips, hue=\"day\", style=\"day\", palette=palette)\n",
    "plt.xlim(0, 60)\n",
    "plt.ylim(0, 12)"
   ]
  },
  {
   "cell_type": "markdown",
   "id": "990ce54d",
   "metadata": {},
   "source": [
    "Finally, we can tidy the labels of the x and y axes and add a title. We can also edit the legend and move it outside of the plot."
   ]
  },
  {
   "cell_type": "code",
   "execution_count": 69,
   "id": "6ebaf52d",
   "metadata": {},
   "outputs": [
    {
     "data": {
      "text/plain": [
       "<matplotlib.legend.Legend at 0x7fa6c0251790>"
      ]
     },
     "execution_count": 69,
     "metadata": {},
     "output_type": "execute_result"
    },
    {
     "data": {
      "image/png": "[encoded data removed]",
      "text/plain": [
       "<Figure size 432x288 with 1 Axes>"
      ]
     },
     "metadata": {
      "needs_background": "light"
     },
     "output_type": "display_data"
    }
   ],
   "source": [
    "sns.scatterplot(y=\"tip\", x=\"total_bill\", data=tips, hue=\"day\", style=\"day\", palette='viridis')\n",
    "plt.xlim(0, 60)\n",
    "plt.ylim(0, 12)\n",
    "plt.xlabel('Total Tip, £')\n",
    "plt.ylabel('Total Bill, £')\n",
    "plt.title('Categorical Scatterplot of Tips')\n",
    "plt.legend(title='Day of Week', ncol=4, bbox_to_anchor=[0.89, -0.2])"
   ]
  },
  {
   "cell_type": "markdown",
   "id": "8577a1da",
   "metadata": {},
   "source": [
    "It might be helpful to play around with the legend coordinates so you can see how this works.\n",
    "\n",
    "Try answering the following:\n",
    "\n",
    "Which coordinate determines the x and y position of the legend, respectively?\n",
    "\n",
    "In which direction does a negative value move the x and y position of the legend, respectively?\n",
    "\n",
    "In which direction does a positive value move the x and y position of the legend, respectively?"
   ]
  },
  {
   "cell_type": "markdown",
   "id": "c20e19fb",
   "metadata": {},
   "source": [
    "The first coordinate denotes the x position of the legend and the second coordinate denotes the y position of the legend (x, y).\n",
    "\n",
    "A negative value moves the x position of the legend to the left and the y position of the legend downwards.\n",
    "\n",
    "A positive value moves the x position of the legend to the right and the y position of the legend upwards."
   ]
  }
 ],
 "metadata": {
  "kernelspec": {
   "display_name": "Python 3.8.8 ('base')",
   "language": "python",
   "name": "python3"
  },
  "language_info": {
   "codemirror_mode": {
    "name": "ipython",
    "version": 3
   },
   "file_extension": ".py",
   "mimetype": "text/x-python",
   "name": "python",
   "nbconvert_exporter": "python",
   "pygments_lexer": "ipython3",
   "version": "3.8.8"
  },
  "vscode": {
   "interpreter": {
    "hash": "730e964555fb2542a911b5002c3c4a5ea6b8ea7e74d00811d465953d33b870ef"
   }
  }
 },
 "nbformat": 4,
 "nbformat_minor": 5
}
