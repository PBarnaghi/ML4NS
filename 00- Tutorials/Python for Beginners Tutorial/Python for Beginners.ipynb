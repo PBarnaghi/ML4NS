{
 "cells": [
  {
   "cell_type": "markdown",
   "id": "a37eb6cb",
   "metadata": {},
   "source": [
    "## Machine Learning for Neuroscience, <br>Department of Brain Sciences, Faculty of Medicine, <br> Imperial College London\n",
    "### Contributors: Francesca Palermo, Nan Fletcher-Lloyd, Alex Capstick, Yu Chen\n",
    "**Winter 2022**"
   ]
  },
  {
   "cell_type": "markdown",
   "id": "9246f7fe",
   "metadata": {},
   "source": [
    "# Python for Beginners"
   ]
  },
  {
   "cell_type": "markdown",
   "id": "4b161ecd",
   "metadata": {},
   "source": [
    "This tutorial is adapted from the tutorials provided by DataCamp (https://www.datacamp.com) where further examples and practice questions can be found."
   ]
  },
  {
   "cell_type": "markdown",
   "id": "aecd203f",
   "metadata": {},
   "source": [
    "## Basic Python Syntax"
   ]
  },
  {
   "cell_type": "markdown",
   "id": "3630749f",
   "metadata": {},
   "source": [
    "### Print Statements"
   ]
  },
  {
   "cell_type": "code",
   "execution_count": null,
   "id": "9a29ec6b",
   "metadata": {},
   "outputs": [],
   "source": [
    "print(\"Hello, World!\")"
   ]
  },
  {
   "cell_type": "markdown",
   "id": "d21585f1",
   "metadata": {},
   "source": [
    "### Operators & Booleans"
   ]
  },
  {
   "cell_type": "markdown",
   "id": "f8229166",
   "metadata": {},
   "source": [
    "Operators allow simple outcomes to be obtained.\n",
    "+ The sum of values is found using +\n",
    "+ The difference between values is found using -\n",
    "+ The product of values is found using *\n",
    "+ The quotient of values is found using /"
   ]
  },
  {
   "cell_type": "code",
   "execution_count": null,
   "id": "28cc2b19",
   "metadata": {},
   "outputs": [],
   "source": [
    "5 + 5"
   ]
  },
  {
   "cell_type": "code",
   "execution_count": null,
   "id": "5e61f575",
   "metadata": {},
   "outputs": [],
   "source": [
    "10 - 5"
   ]
  },
  {
   "cell_type": "code",
   "execution_count": null,
   "id": "13aeabcb",
   "metadata": {},
   "outputs": [],
   "source": [
    "5 * 5"
   ]
  },
  {
   "cell_type": "code",
   "execution_count": null,
   "id": "fdf0527e",
   "metadata": {
    "scrolled": true
   },
   "outputs": [],
   "source": [
    "5 / 5"
   ]
  },
  {
   "cell_type": "markdown",
   "id": "b2023817",
   "metadata": {},
   "source": [
    "Booleans allow us to compare two values. \n",
    "+ less than is <\n",
    "+ greater than is >\n",
    "+ equal to or less than is <= \n",
    "+ equal to or greater than is >= "
   ]
  },
  {
   "cell_type": "code",
   "execution_count": null,
   "id": "9304d93a",
   "metadata": {},
   "outputs": [],
   "source": [
    "5 < 10"
   ]
  },
  {
   "cell_type": "code",
   "execution_count": null,
   "id": "2b2e1d30",
   "metadata": {},
   "outputs": [],
   "source": [
    "5 > 10"
   ]
  },
  {
   "cell_type": "code",
   "execution_count": null,
   "id": "e5b7bc15",
   "metadata": {},
   "outputs": [],
   "source": [
    "5 <= 10"
   ]
  },
  {
   "cell_type": "code",
   "execution_count": null,
   "id": "fc3bcb2a",
   "metadata": {},
   "outputs": [],
   "source": [
    "5 >= 10"
   ]
  },
  {
   "cell_type": "markdown",
   "id": "0a50b99b",
   "metadata": {},
   "source": [
    "### Creating and Assigning Variables"
   ]
  },
  {
   "cell_type": "markdown",
   "id": "8d45f2d7",
   "metadata": {},
   "source": [
    "A number can be assigned to a name (the variable) and the value returned by calling that same variable."
   ]
  },
  {
   "cell_type": "code",
   "execution_count": null,
   "id": "aa0221a5",
   "metadata": {},
   "outputs": [],
   "source": [
    "variable_1 = 5"
   ]
  },
  {
   "cell_type": "code",
   "execution_count": null,
   "id": "34bb5e57",
   "metadata": {},
   "outputs": [],
   "source": [
    "variable_1"
   ]
  },
  {
   "cell_type": "markdown",
   "id": "4366f64c",
   "metadata": {},
   "source": [
    "### Data Types"
   ]
  },
  {
   "cell_type": "markdown",
   "id": "cfd89a7e",
   "metadata": {},
   "source": [
    "Values in python can take several different forms. Some of the most common forms are listed.\n",
    "+ int represents integers\n",
    "+ float represents decimal numbers\n",
    "+ str or \"strings\" represents text."
   ]
  },
  {
   "cell_type": "markdown",
   "id": "fe104671",
   "metadata": {},
   "source": [
    "## Lists"
   ]
  },
  {
   "cell_type": "markdown",
   "id": "1d2ea703",
   "metadata": {},
   "source": [
    "Lists are a type of data structure in which values can be stored and accessed. An advantage of lists is that the data types do not need to be the same (see below, where we have an integer, float, and string, respectively). \n",
    "\n",
    "A list can be built by assigning a name to a set of values in square brackets (see below)."
   ]
  },
  {
   "cell_type": "code",
   "execution_count": null,
   "id": "d45b3c3b",
   "metadata": {},
   "outputs": [],
   "source": [
    "list = [5, 5.0,'five']"
   ]
  },
  {
   "cell_type": "markdown",
   "id": "7fedb57d",
   "metadata": {},
   "source": [
    "Each item within the list can be accessed by calling the name assigned to the list alongside the position of that item within the list in squared brackets. Note, the first value in a list is always given the positional value 0, the second the value 1, and so on, so that in a list of N data points, the final data point will have the positional value N-1."
   ]
  },
  {
   "cell_type": "code",
   "execution_count": null,
   "id": "0da4b6dc",
   "metadata": {},
   "outputs": [],
   "source": [
    "list[0]"
   ]
  },
  {
   "cell_type": "markdown",
   "id": "21e8e4e5",
   "metadata": {},
   "source": [
    "Lists can also be built inside of lists. \n",
    "\n",
    "In the example below, each value is separated into its own list by data type."
   ]
  },
  {
   "cell_type": "code",
   "execution_count": null,
   "id": "cb7cd923",
   "metadata": {},
   "outputs": [],
   "source": [
    "list = [[\"int\", 5], [\"float\", 5.5], [\"str\", 'five']]"
   ]
  },
  {
   "cell_type": "code",
   "execution_count": null,
   "id": "8c23de84",
   "metadata": {},
   "outputs": [],
   "source": [
    "list"
   ]
  },
  {
   "cell_type": "markdown",
   "id": "1416474b",
   "metadata": {},
   "source": [
    "\n",
    "Other types of data structures such as dataframes, series, and arrays will be discussed in further detail later in this tutorial."
   ]
  },
  {
   "cell_type": "markdown",
   "id": "d2c7fe35",
   "metadata": {},
   "source": [
    "## Functions"
   ]
  },
  {
   "cell_type": "markdown",
   "id": "b5e0405b",
   "metadata": {},
   "source": [
    "### Built-in Functions & Methods"
   ]
  },
  {
   "cell_type": "markdown",
   "metadata": {},
   "source": [
    "Python has several set functions and methods which can be called with regards to an object. Methods are all functions, acting on objects, but not all functions are methods, as these only need take objects as inputs. Below we explore an incomprehensive list of the functions and methods available using Python."
   ]
  },
  {
   "cell_type": "markdown",
   "metadata": {},
   "source": [
    "First, let's create a simple list of numerical values."
   ]
  },
  {
   "cell_type": "code",
   "execution_count": null,
   "metadata": {},
   "outputs": [],
   "source": [
    "heights = [160, 165, 185, 155, 175, 180]"
   ]
  },
  {
   "cell_type": "code",
   "execution_count": null,
   "metadata": {},
   "outputs": [],
   "source": [
    "heights"
   ]
  },
  {
   "cell_type": "markdown",
   "metadata": {},
   "source": [
    "Great! But these heights are out of order. To order these, we apply the sort () method. This will order values in ascending order. "
   ]
  },
  {
   "cell_type": "code",
   "execution_count": null,
   "metadata": {},
   "outputs": [],
   "source": [
    "heights.sort()"
   ]
  },
  {
   "cell_type": "code",
   "execution_count": null,
   "metadata": {},
   "outputs": [],
   "source": [
    "heights"
   ]
  },
  {
   "cell_type": "markdown",
   "metadata": {},
   "source": [
    "The sort () method is one way of trying to find the minimum and maximum values within a list. An alternative to this is to call the max () and min () functions."
   ]
  },
  {
   "cell_type": "code",
   "execution_count": null,
   "metadata": {},
   "outputs": [],
   "source": [
    "max(heights)"
   ]
  },
  {
   "cell_type": "code",
   "execution_count": null,
   "metadata": {},
   "outputs": [],
   "source": [
    "min(heights)"
   ]
  },
  {
   "cell_type": "markdown",
   "metadata": {},
   "source": [
    "Let's now create a second list of names that correspond to these heights."
   ]
  },
  {
   "cell_type": "code",
   "execution_count": null,
   "metadata": {},
   "outputs": [],
   "source": [
    "names = ['Charlie','Brooke','Taylor']"
   ]
  },
  {
   "cell_type": "code",
   "execution_count": null,
   "metadata": {},
   "outputs": [],
   "source": [
    "names"
   ]
  },
  {
   "cell_type": "markdown",
   "metadata": {},
   "source": [
    "We can check the length of this list to make sure it matches the previous list. We do this using the len () function."
   ]
  },
  {
   "cell_type": "code",
   "execution_count": null,
   "metadata": {},
   "outputs": [],
   "source": [
    "len(names)"
   ]
  },
  {
   "cell_type": "markdown",
   "metadata": {},
   "source": [
    "Oops! Looks like we're missing a few names. How do we add these on? There are two methods:\n",
    "* The append () method adds a single element.\n",
    "* The extend () method adds multiple elements."
   ]
  },
  {
   "cell_type": "code",
   "execution_count": null,
   "metadata": {},
   "outputs": [],
   "source": [
    "names.append('Morgan')"
   ]
  },
  {
   "cell_type": "code",
   "execution_count": null,
   "metadata": {},
   "outputs": [],
   "source": [
    "names"
   ]
  },
  {
   "cell_type": "code",
   "execution_count": null,
   "metadata": {},
   "outputs": [],
   "source": [
    "names.extend(['Riley','Jamie'])"
   ]
  },
  {
   "cell_type": "code",
   "execution_count": null,
   "metadata": {},
   "outputs": [],
   "source": [
    "names"
   ]
  },
  {
   "cell_type": "markdown",
   "metadata": {},
   "source": [
    "Perfect! Now, we can use the index () method to find out the names of the smallest and tallest people."
   ]
  },
  {
   "cell_type": "markdown",
   "metadata": {},
   "source": [
    "First, let's double check the type of each dataframe using the type () function."
   ]
  },
  {
   "cell_type": "code",
   "execution_count": null,
   "metadata": {},
   "outputs": [],
   "source": [
    "type(heights)\n",
    "type(names)"
   ]
  },
  {
   "cell_type": "markdown",
   "metadata": {},
   "source": [
    "Now, let's find the index number of the minimum and maximum heights."
   ]
  },
  {
   "cell_type": "code",
   "execution_count": null,
   "metadata": {},
   "outputs": [],
   "source": [
    "min_height = min(heights)\n",
    "max_height = max(heights)\n",
    "min_index = heights.index(min_height)\n",
    "max_index = heights.index(max_height)"
   ]
  },
  {
   "cell_type": "markdown",
   "metadata": {},
   "source": [
    "With the min and max hieght index positions, we can then discern the names of the smallest and tallest people in our group of six."
   ]
  },
  {
   "cell_type": "code",
   "execution_count": null,
   "metadata": {},
   "outputs": [],
   "source": [
    "smallest_name = names[min_index]\n",
    "tallest_name = names[max_index]"
   ]
  },
  {
   "cell_type": "code",
   "execution_count": null,
   "metadata": {},
   "outputs": [],
   "source": [
    "smallest_name"
   ]
  },
  {
   "cell_type": "code",
   "execution_count": null,
   "metadata": {},
   "outputs": [],
   "source": [
    "tallest_name"
   ]
  },
  {
   "cell_type": "markdown",
   "metadata": {},
   "source": [
    "It worked! Charlie has the smallest height and Jamie has the tallest."
   ]
  },
  {
   "cell_type": "markdown",
   "id": "62a060ed",
   "metadata": {},
   "source": [
    "### User-Defined Functions"
   ]
  },
  {
   "cell_type": "markdown",
   "metadata": {},
   "source": [
    "There are four main steps to defining your own function:\n",
    "1. Use keyword def and follow up with function name.\n",
    "2. Add parameters to function with parentheses, ending line with a colon.\n",
    "3. Add statements that function should execute.\n",
    "4. End function with return if function should output or without otherwise."
   ]
  },
  {
   "cell_type": "code",
   "execution_count": null,
   "metadata": {},
   "outputs": [],
   "source": [
    "def hello():\n",
    "    print(\"Hello World!\")\n",
    "    return"
   ]
  },
  {
   "cell_type": "markdown",
   "id": "1b1e4511",
   "metadata": {},
   "source": [
    "## Packages"
   ]
  },
  {
   "cell_type": "markdown",
   "id": "b63e3fc8",
   "metadata": {},
   "source": [
    "### Installing packages"
   ]
  },
  {
   "cell_type": "markdown",
   "id": "576fc90a",
   "metadata": {},
   "source": [
    "Packages are collections of modules which themselves are a collection of classes, functions, and variables etc.\n",
    "\n",
    "In Jupyter Notebook this will look as follows: \n",
    "\n",
    "!pip install --user package_name_here -U"
   ]
  },
  {
   "cell_type": "markdown",
   "id": "3b937adf",
   "metadata": {},
   "source": [
    "### Importing packages with an alias"
   ]
  },
  {
   "cell_type": "markdown",
   "id": "8c2c22c4",
   "metadata": {},
   "source": [
    "Before we can begin to use a package, we must import it into our environment, and we can do so in a way that assigns an alias to the package (usually a recognisable short-hand). \n",
    "\n",
    "For example: \n",
    "\n",
    "import package_name_here as alias"
   ]
  },
  {
   "cell_type": "markdown",
   "id": "f8a1caa6",
   "metadata": {},
   "source": [
    "## Pandas for Beginners"
   ]
  },
  {
   "cell_type": "markdown",
   "id": "3faa1db2",
   "metadata": {},
   "source": [
    "Pandas is a python library that allows easy handling of tabular data. \n",
    "\n",
    "Pandas can take data from a wide range of sources, including Excel and CSV files.\n",
    "\n",
    "Pandas allow data to be stored and accessed as series or dataframes. Series objects are like arrays and dataframes are built from a set of series objects."
   ]
  },
  {
   "cell_type": "markdown",
   "id": "c4c4f42d",
   "metadata": {},
   "source": [
    "First, we want to install pandas. Providing you're using Jupyter Notebook, pandas should already be installed; however, running the following code allows us to check: "
   ]
  },
  {
   "cell_type": "code",
   "execution_count": null,
   "id": "829dbb8c",
   "metadata": {},
   "outputs": [],
   "source": [
    "!pip install --user pandas -U"
   ]
  },
  {
   "cell_type": "markdown",
   "id": "56c69f76",
   "metadata": {},
   "source": [
    "Next, we want to import pandas with the alias pd."
   ]
  },
  {
   "cell_type": "code",
   "execution_count": null,
   "id": "cbb00b7c",
   "metadata": {},
   "outputs": [],
   "source": [
    "import pandas as pd"
   ]
  },
  {
   "cell_type": "markdown",
   "id": "c4757739",
   "metadata": {},
   "source": [
    "Now, let's look at importing a csv file. \n",
    "\n",
    "We do this with the read command and can do so using the path_to_file or from a URL.\n",
    "\n",
    "See below:"
   ]
  },
  {
   "cell_type": "code",
   "execution_count": null,
   "id": "621e2c14",
   "metadata": {},
   "outputs": [],
   "source": [
    "tips = pd.read_csv(\"https://raw.githubusercontent.com/mwaskom/seaborn-data/master/tips.csv\")\n",
    "print(tips)"
   ]
  },
  {
   "cell_type": "markdown",
   "id": "1f3527d4",
   "metadata": {},
   "source": [
    "In the above example, we assigned the name df to the csv file.\n",
    "\n",
    "To read the csv file using path_to_file, the same code is used, replacing the URL with either file.csv if the file is in your working directory (the relative path) or the absolute path."
   ]
  },
  {
   "cell_type": "markdown",
   "id": "50223692",
   "metadata": {},
   "source": [
    "Since there are many rows in the DataFrame, we see that most the data is truncated.\n",
    "\n",
    "To see the first or last few entries, we use the commands head or tail, respectively."
   ]
  },
  {
   "cell_type": "code",
   "execution_count": null,
   "id": "35104861",
   "metadata": {},
   "outputs": [],
   "source": [
    "tips.head()"
   ]
  },
  {
   "cell_type": "code",
   "execution_count": null,
   "id": "4007b0f7",
   "metadata": {},
   "outputs": [],
   "source": [
    "tips.tail()"
   ]
  },
  {
   "cell_type": "markdown",
   "id": "589e86e5",
   "metadata": {},
   "source": [
    "In the above examples, we only see the first and last five entries. \n",
    "\n",
    "The number of entries that can be seen using this method can be changed between the values of 1 and 60. For example:"
   ]
  },
  {
   "cell_type": "code",
   "execution_count": null,
   "id": "a50a6716",
   "metadata": {},
   "outputs": [],
   "source": [
    "tips.head(10)"
   ]
  },
  {
   "cell_type": "code",
   "execution_count": null,
   "id": "ab05b3fd",
   "metadata": {},
   "outputs": [],
   "source": [
    "tips.tail(10)"
   ]
  },
  {
   "cell_type": "markdown",
   "metadata": {},
   "source": [
    "You can change the shape of the dataframe by selecting for specific columns or rows."
   ]
  },
  {
   "cell_type": "code",
   "execution_count": null,
   "id": "981b8038",
   "metadata": {},
   "outputs": [],
   "source": [
    "tips_1 = tips[['tip','day']]\n",
    "print(tips_1)"
   ]
  },
  {
   "cell_type": "code",
   "execution_count": null,
   "id": "32fdcdec",
   "metadata": {},
   "outputs": [],
   "source": [
    "tips_1 = tips_1.iloc[0:50, :]\n",
    "print(tips_1)"
   ]
  },
  {
   "cell_type": "markdown",
   "metadata": {},
   "source": [
    "You can also rename columns to make them easier to remember and/or call."
   ]
  },
  {
   "cell_type": "code",
   "execution_count": null,
   "id": "8c726eb3",
   "metadata": {},
   "outputs": [],
   "source": [
    "tips_1.columns = ['Tips','Day of Week']\n",
    "print(tips_1)"
   ]
  },
  {
   "cell_type": "markdown",
   "metadata": {},
   "source": [
    "Pandas can be used to calculate descriptive statisitcs of a row, column, or group, such as in the examples below:"
   ]
  },
  {
   "cell_type": "code",
   "execution_count": null,
   "metadata": {},
   "outputs": [],
   "source": [
    "tips_mean = tips_1.mean(axis=0)\n",
    "tips_mean"
   ]
  },
  {
   "cell_type": "code",
   "execution_count": null,
   "metadata": {},
   "outputs": [],
   "source": [
    "tips_median = tips_1.median(axis=0)\n",
    "tips_median"
   ]
  },
  {
   "cell_type": "markdown",
   "metadata": {},
   "source": [
    "Note, to return the mean value across several columns, use axis=1."
   ]
  },
  {
   "cell_type": "markdown",
   "metadata": {},
   "source": [
    "But what if we wanted to find the mean tip for each day."
   ]
  },
  {
   "cell_type": "code",
   "execution_count": null,
   "metadata": {},
   "outputs": [],
   "source": [
    "tips_day_mean = tips_1.groupby(['Day of Week'])['Tips'].mean()\n",
    "tips_day_mean"
   ]
  },
  {
   "cell_type": "markdown",
   "metadata": {},
   "source": [
    "Pandas dataframes can be further modified by combining and filtering data."
   ]
  },
  {
   "cell_type": "markdown",
   "metadata": {},
   "source": [
    "Let's do this in two stages. First, say we want to find the sum of the total bill and tip for each customer. "
   ]
  },
  {
   "cell_type": "code",
   "execution_count": null,
   "metadata": {},
   "outputs": [],
   "source": [
    "tips #print unmodified df"
   ]
  },
  {
   "cell_type": "code",
   "execution_count": null,
   "metadata": {},
   "outputs": [],
   "source": [
    "tips['amount'] = tips['total_bill'] + tips['tip'] \n",
    "#creates new column 'amount' in df and enters the sum of total_bill and tip by row \n",
    "tips"
   ]
  },
  {
   "cell_type": "markdown",
   "metadata": {},
   "source": [
    "Now, let's say we only want these values for those customers who visited on a Saturday."
   ]
  },
  {
   "cell_type": "code",
   "execution_count": null,
   "metadata": {},
   "outputs": [],
   "source": [
    "tips_day = tips.set_index('day').loc['Sat'].reset_index()\n",
    "tips_day"
   ]
  },
  {
   "cell_type": "markdown",
   "metadata": {},
   "source": [
    "And what if we only want these values for those customers who had size 3, or 3 or more."
   ]
  },
  {
   "cell_type": "code",
   "execution_count": null,
   "metadata": {},
   "outputs": [],
   "source": [
    "tips_size1 = tips[tips['size'] == 3] # == means only\n",
    "tips_size2 = tips[tips['size'] >= 3] # > greater than, >= greater than or qual to, < smaller than, <= smaller than or equal to"
   ]
  },
  {
   "cell_type": "code",
   "execution_count": null,
   "metadata": {},
   "outputs": [],
   "source": [
    "tips_size1"
   ]
  },
  {
   "cell_type": "code",
   "execution_count": null,
   "metadata": {},
   "outputs": [],
   "source": [
    "tips_size2"
   ]
  },
  {
   "cell_type": "markdown",
   "metadata": {},
   "source": [
    "Another asset of pandas is that it can convert strings to datetime objects, using pd.to_datetime(df). From here on, datetime objects can be modified to display year, month, day etc. only. This is also a particularly useful function for dealing with transitions."
   ]
  },
  {
   "cell_type": "markdown",
   "id": "2769fd92",
   "metadata": {},
   "source": [
    "## NumPy for Beginners"
   ]
  },
  {
   "cell_type": "markdown",
   "id": "b4b3f4d7",
   "metadata": {},
   "source": [
    "NumPy stands for numeric or numerical python and is another Python library with the tools for solving mathematical models of problems on a computer.\n",
    "\n",
    "One of these tools is the NumPy array.\n",
    "\n",
    "A NumPy array is a data structure in which data can be stored and accessed as a multi-dimensional array object. \n",
    "\n",
    "Arrays have several advantages over Python lists, as they are a more compact data structure allowing for efficient computation of matrices and arrays."
   ]
  },
  {
   "cell_type": "markdown",
   "id": "00af71cb",
   "metadata": {},
   "source": [
    "At a structural level, an array is a combination of four pointers:\n",
    "+ data \n",
    "+ dtype \n",
    "+ shape\n",
    "+ strides"
   ]
  },
  {
   "cell_type": "code",
   "execution_count": null,
   "id": "341334b8",
   "metadata": {},
   "outputs": [],
   "source": [
    "import numpy as np"
   ]
  },
  {
   "cell_type": "markdown",
   "metadata": {},
   "source": [
    "We will now show you how to make arrays of zeros, ones, and using random values."
   ]
  },
  {
   "cell_type": "code",
   "execution_count": null,
   "metadata": {},
   "outputs": [],
   "source": [
    "np.zeros((3,3))"
   ]
  },
  {
   "cell_type": "code",
   "execution_count": null,
   "metadata": {},
   "outputs": [],
   "source": [
    "np.ones((3,3))"
   ]
  },
  {
   "cell_type": "code",
   "execution_count": null,
   "metadata": {},
   "outputs": [],
   "source": [
    "np.random.random((3,3))"
   ]
  },
  {
   "cell_type": "markdown",
   "metadata": {},
   "source": [
    "Here, the two numbers in parentheses indicate the number of rows and columns in the matrix."
   ]
  },
  {
   "cell_type": "markdown",
   "metadata": {},
   "source": [
    "To create an array with an number, use the following approach:"
   ]
  },
  {
   "cell_type": "code",
   "execution_count": null,
   "metadata": {},
   "outputs": [],
   "source": [
    "np.full((3,3),7) # where the last number is the fill-in value"
   ]
  },
  {
   "cell_type": "markdown",
   "metadata": {},
   "source": [
    "To create an array of evenly-spaced values, we use the following function:"
   ]
  },
  {
   "cell_type": "code",
   "execution_count": null,
   "metadata": {},
   "outputs": [],
   "source": [
    "np.linspace(0, 2, 9) \n",
    "# where 0 and 2 indicate the start and endpoint values of the array (the range) and the final number 9 indicates the total number of values."
   ]
  },
  {
   "cell_type": "markdown",
   "id": "54f38226",
   "metadata": {},
   "source": [
    "## Visualisations in Python"
   ]
  },
  {
   "cell_type": "markdown",
   "metadata": {},
   "source": [
    "There are two main data visualisation packages that can be used with Python. These are Matplotlib and Seaborn."
   ]
  },
  {
   "cell_type": "markdown",
   "metadata": {},
   "source": [
    "While the two are complementary, Seaborn specifically targets statistical data visualisation and extends Matplotlib by working with different parameters past the default Matplotlib parameters. Here we will focus on the use of Seaborn extending Matplotlib."
   ]
  },
  {
   "cell_type": "markdown",
   "id": "85bfdf18",
   "metadata": {},
   "source": [
    "### Matplotlib"
   ]
  },
  {
   "cell_type": "code",
   "execution_count": null,
   "metadata": {},
   "outputs": [],
   "source": [
    "import matplotlib.pyplot as plt"
   ]
  },
  {
   "cell_type": "markdown",
   "id": "00e5e4a6",
   "metadata": {},
   "source": [
    "### Seaborn"
   ]
  },
  {
   "cell_type": "code",
   "execution_count": null,
   "metadata": {},
   "outputs": [],
   "source": [
    "import seaborn as sns"
   ]
  },
  {
   "cell_type": "markdown",
   "metadata": {},
   "source": [
    "Now, let's load one of the built-in data sets in the Seaborn library."
   ]
  },
  {
   "cell_type": "code",
   "execution_count": null,
   "id": "13a1bed6",
   "metadata": {},
   "outputs": [],
   "source": [
    "tips = pd.read_csv(\"https://raw.githubusercontent.com/mwaskom/seaborn-data/master/tips.csv\")"
   ]
  },
  {
   "cell_type": "code",
   "execution_count": null,
   "metadata": {},
   "outputs": [],
   "source": [
    "tips"
   ]
  },
  {
   "cell_type": "markdown",
   "metadata": {},
   "source": [
    "Seaborn allows us to visualise data using different types of plots. Here, we will demonstrate the differences between  swarmplots, factor/barplots, violinplots, and boxplots. This can best be visualised by plotting multiple subplots in one plot using plt.subplots*. We use figsize to control the size of the overall plot."
   ]
  },
  {
   "cell_type": "code",
   "execution_count": null,
   "metadata": {},
   "outputs": [],
   "source": [
    "fig,axes = plt.subplots(nrows=2, ncols=2, figsize=(10,8))\n",
    "\n",
    "sns.swarmplot(x=\"day\", y=\"tip\", data=tips, ax=axes[0,0])\n",
    "sns.barplot(x=\"day\", y=\"tip\", data=tips, ax=axes[0,1])\n",
    "sns.violinplot(x=\"day\", y=\"tip\", data=tips, ax=axes[1,0])\n",
    "sns.boxplot(x=\"day\", y=\"tip\", data=tips, ax=axes[1,1])\n"
   ]
  },
  {
   "cell_type": "markdown",
   "id": "6a104a82",
   "metadata": {},
   "source": [
    "As can be seen in the plot above, each plot type provides a slightly different perspective.\n",
    "\n",
    "The first five plots (swarmplot, barplot, violinplot, and boxplot) are good for visualising the difference between two groups (i.e. where one variable is categorical). To differing degress, each of these plots show the distribution of values in each group (here, the distribution of tips over different days of the week).\n",
    "\n",
    "The swarmplot shows distribution of tip size across the differnt days.\n",
    "\n",
    "The barplot represents an estimate of central tendency (mean, median etc. - here it is median) by the height with some indication of uncertainty around that estimate by the errorbars.\n",
    "\n",
    "The violinplot shows distribution of tip size and give an estimate of kernel density ()\n",
    "\n",
    "The boxplot shows the distribution of the tip size, where all plot components correspond to an actual data point (minimum, lower quartile, median quartile, upper quartile, and maximum, as well as showing each individual outlier).\n"
   ]
  },
  {
   "cell_type": "markdown",
   "id": "3bc4d970",
   "metadata": {},
   "source": [
    "Another plot that is good for visualising data is the scatterplot. This plot allows you to visualise whether there is any relationship between two sets of continuous data (here, the relationship between the size of the tip and the total bill)."
   ]
  },
  {
   "cell_type": "code",
   "execution_count": null,
   "id": "6ebaf52d",
   "metadata": {},
   "outputs": [],
   "source": [
    "sns.scatterplot(y=\"tip\", x=\"total_bill\", data=tips)"
   ]
  },
  {
   "cell_type": "markdown",
   "id": "86b863f2",
   "metadata": {},
   "source": [
    "One of the major motivations for using Seaborn with Matplotlib is that it allows us more control over the paramaters of the plot, such as adding another variable, changing the color palette, setting the limits of the x and y axes, and providing labels and titles etc. Such changes can help us to make our plots more visually appealing and easier to explain."
   ]
  },
  {
   "cell_type": "markdown",
   "id": "990ce54d",
   "metadata": {},
   "source": [
    "Using the plot above, we will now add another categorical variable to this plot using the hue and style function to denote between the different groups."
   ]
  },
  {
   "cell_type": "code",
   "execution_count": null,
   "id": "6ebaf52d",
   "metadata": {},
   "outputs": [],
   "source": [
    "sns.scatterplot(y=\"tip\", x=\"total_bill\", data=tips, hue=\"day\", style=\"day\")"
   ]
  },
  {
   "cell_type": "markdown",
   "id": "990ce54d",
   "metadata": {},
   "source": [
    "We can also change the color palette using the palette function and the limits of the x and y axes using the plt.x/ylim function."
   ]
  },
  {
   "cell_type": "markdown",
   "id": "85459e2f",
   "metadata": {},
   "source": [
    "Here, we've chosen a color palette known as viridis. "
   ]
  },
  {
   "cell_type": "code",
   "execution_count": null,
   "id": "6ebaf52d",
   "metadata": {},
   "outputs": [],
   "source": [
    "sns.scatterplot(y=\"tip\", x=\"total_bill\", data=tips, hue=\"day\", style=\"day\", palette='viridis')\n",
    "plt.xlim(0, 60)\n",
    "plt.ylim(0, 12)"
   ]
  },
  {
   "cell_type": "markdown",
   "id": "2d4cae06",
   "metadata": {},
   "source": [
    "Learn more about choosing and creating color palettes in seaborn using the links below: \n",
    "\n",
    "https://seaborn.pydata.org/tutorial/color_palettes.html - how to choose/create a color palette\n",
    "https://www.dropbox.com/s/8autfrvx6dpll96/pal.pdf - in-built seaborn color palettes by name\n",
    "https://medium.com/swlh/how-to-create-a-seaborn-palette-that-highlights-maximum-value-f614aecd706b - matplotlib colors by name"
   ]
  },
  {
   "cell_type": "markdown",
   "id": "106fce98",
   "metadata": {},
   "source": [
    "Now create your own color palette!"
   ]
  },
  {
   "cell_type": "markdown",
   "id": "990ce54d",
   "metadata": {},
   "source": [
    "Finally, we can tidy the labels of the x and y axes and add a title. We can also edit the legend and move it outside of the plot."
   ]
  },
  {
   "cell_type": "code",
   "execution_count": null,
   "id": "6ebaf52d",
   "metadata": {},
   "outputs": [],
   "source": [
    "sns.scatterplot(y=\"tip\", x=\"total_bill\", data=tips, hue=\"day\", style=\"day\", palette='viridis')\n",
    "plt.xlim(0, 60)\n",
    "plt.ylim(0, 12)\n",
    "plt.xlabel('Total Tip, £')\n",
    "plt.ylabel('Total Bill, £')\n",
    "plt.title('Categorical Scatterplot of Tips')\n",
    "plt.legend(title='Day of Week', ncol=4, bbox_to_anchor=[0.89, -0.2])"
   ]
  },
  {
   "cell_type": "markdown",
   "id": "8577a1da",
   "metadata": {},
   "source": [
    "It might be helpful to play around with the legend coordinates so you can see how this works.\n",
    "\n",
    "Try answering the following:\n",
    "\n",
    "Which coordinate determines the x and y position of the legend, respectively?\n",
    "\n",
    "In which direction does a negative value move the x and y position of the legend, respectively?\n",
    "\n",
    "In which direction does a positive value move the x and y position of the legend, respectively?"
   ]
  }
 ],
 "metadata": {
  "kernelspec": {
   "display_name": "Python 3.8.8 ('base')",
   "language": "python",
   "name": "python3"
  },
  "language_info": {
   "codemirror_mode": {
    "name": "ipython",
    "version": 3
   },
   "file_extension": ".py",
   "mimetype": "text/x-python",
   "name": "python",
   "nbconvert_exporter": "python",
   "pygments_lexer": "ipython3",
   "version": "3.8.8"
  },
  "vscode": {
   "interpreter": {
    "hash": "730e964555fb2542a911b5002c3c4a5ea6b8ea7e74d00811d465953d33b870ef"
   }
  }
 },
 "nbformat": 4,
 "nbformat_minor": 5
}
