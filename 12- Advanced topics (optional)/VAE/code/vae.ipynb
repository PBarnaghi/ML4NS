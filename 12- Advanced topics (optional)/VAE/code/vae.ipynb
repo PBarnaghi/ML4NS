{
 "cells": [
  {
   "attachments": {},
   "cell_type": "markdown",
   "metadata": {},
   "source": [
    "Adapted from: https://github.com/Jackson-Kang/Pytorch-VAE-tutorial/blob/master/01_Variational_AutoEncoder.ipynb"
   ]
  },
  {
   "cell_type": "code",
   "execution_count": 71,
   "metadata": {},
   "outputs": [],
   "source": [
    "import torch\n",
    "import torch.nn as nn\n",
    "\n",
    "import numpy as np\n",
    "\n",
    "from tqdm import tqdm\n",
    "from torchvision.utils import save_image, make_grid"
   ]
  },
  {
   "cell_type": "code",
   "execution_count": 72,
   "metadata": {},
   "outputs": [],
   "source": [
    "# Model hyperparameters\n",
    "\n",
    "dataset_path = '~/datasets'\n",
    "\n",
    "cuda = True\n",
    "if torch.cuda.is_available():\n",
    "    DEVICE= \"cuda\" \n",
    "else:\n",
    "    DEVICE= \"cpu\"\n",
    "\n",
    "\n",
    "batch_size = 100\n",
    "\n",
    "x_dim  = 784\n",
    "hidden_dim = 400\n",
    "latent_dim = 200\n",
    "\n",
    "lr = 1e-3\n",
    "\n",
    "epochs = 30"
   ]
  },
  {
   "cell_type": "code",
   "execution_count": 73,
   "metadata": {},
   "outputs": [],
   "source": [
    "from torchvision.datasets import MNIST\n",
    "import torchvision.transforms as transforms\n",
    "from torch.utils.data import DataLoader\n",
    "\n",
    "\n",
    "mnist_transform = transforms.Compose([\n",
    "        transforms.ToTensor(),\n",
    "])\n",
    "\n",
    "kwargs = {'num_workers': 1, 'pin_memory': True} \n",
    "\n",
    "train_dataset = MNIST(dataset_path, transform=mnist_transform, train=True, download=True)\n",
    "test_dataset  = MNIST(dataset_path, transform=mnist_transform, train=False, download=True)\n",
    "\n",
    "train_loader = DataLoader(dataset=train_dataset, batch_size=batch_size, shuffle=True, **kwargs)\n",
    "test_loader  = DataLoader(dataset=test_dataset,  batch_size=batch_size, shuffle=False, **kwargs)"
   ]
  },
  {
   "cell_type": "code",
   "execution_count": 74,
   "metadata": {},
   "outputs": [],
   "source": [
    "class Encoder(nn.Module):\n",
    "    \n",
    "    def __init__(self, input_dim, hidden_dim, latent_dim):\n",
    "        super(Encoder, self).__init__()\n",
    "\n",
    "        self.FC_L1 = nn.Linear(input_dim, hidden_dim)\n",
    "        self.FC_L2 = nn.Linear(hidden_dim, hidden_dim)\n",
    "        self.FC_mean  = nn.Linear(hidden_dim, latent_dim)\n",
    "        self.FC_var   = nn.Linear (hidden_dim, latent_dim)\n",
    "        \n",
    "        self.LeakyReLU = nn.LeakyReLU(0.2)\n",
    "        \n",
    "        self.training = True\n",
    "        \n",
    "    def forward(self, x):\n",
    "        h_       = self.LeakyReLU(self.FC_L1(x))\n",
    "        h_       = self.LeakyReLU(self.FC_L2(h_))\n",
    "        mean     = self.FC_mean(h_)\n",
    "        log_var  = self.FC_var(h_)\n",
    "                                                 \n",
    "        return mean, log_var"
   ]
  },
  {
   "cell_type": "code",
   "execution_count": 75,
   "metadata": {},
   "outputs": [],
   "source": [
    "class Decoder(nn.Module):\n",
    "    def __init__(self, latent_dim, hidden_dim, output_dim):\n",
    "        super(Decoder, self).__init__()\n",
    "        self.FC_h1 = nn.Linear(latent_dim, hidden_dim)\n",
    "        self.FC_h2 = nn.Linear(hidden_dim, hidden_dim)\n",
    "        self.FC_output = nn.Linear(hidden_dim, output_dim)\n",
    "        \n",
    "        self.LeakyReLU = nn.LeakyReLU(0.2)\n",
    "        \n",
    "    def forward(self, x):\n",
    "        h     = self.LeakyReLU(self.FC_h1(x))\n",
    "        h     = self.LeakyReLU(self.FC_h2(h))\n",
    "        \n",
    "        x_hat = torch.sigmoid(self.FC_output(h))\n",
    "        return x_hat\n",
    "        "
   ]
  },
  {
   "cell_type": "code",
   "execution_count": 76,
   "metadata": {},
   "outputs": [],
   "source": [
    "class Model(nn.Module):\n",
    "    def __init__(self, Encoder, Decoder):\n",
    "        super(Model, self).__init__()\n",
    "        self.Encoder = Encoder\n",
    "        self.Decoder = Decoder\n",
    "        \n",
    "    def reparameterization(self, mean, var):\n",
    "        epsilon = torch.randn_like(var).to(DEVICE)      # sampling epsilon        \n",
    "        z = mean + var*epsilon                          # reparameterization trick\n",
    "        return z\n",
    "        \n",
    "                \n",
    "    def forward(self, x):\n",
    "        mean, log_var = self.Encoder(x)\n",
    "        z = self.reparameterization(mean, torch.exp(0.5 * log_var)) # takes exponential function (log var -> var)\n",
    "        x_hat = self.Decoder(z)\n",
    "        \n",
    "        return x_hat, mean, log_var"
   ]
  },
  {
   "cell_type": "code",
   "execution_count": 77,
   "metadata": {},
   "outputs": [],
   "source": [
    "encoder = Encoder(input_dim=x_dim, hidden_dim=hidden_dim, latent_dim=latent_dim)\n",
    "decoder = Decoder(latent_dim=latent_dim, hidden_dim = hidden_dim, output_dim = x_dim)\n",
    "\n",
    "model = Model(Encoder=encoder, Decoder=decoder).to(DEVICE)"
   ]
  },
  {
   "cell_type": "code",
   "execution_count": 78,
   "metadata": {},
   "outputs": [],
   "source": [
    "from torch.optim import Adam\n",
    "\n",
    "BCE_loss = nn.BCELoss() #the Binary Cross Entropy between the target and the input probabilities\n",
    "\n",
    "def loss_function(x, x_hat, mean, log_var):\n",
    "    reconstruction_loss = nn.functional.binary_cross_entropy(x_hat, x, reduction='sum')\n",
    "    KLD = - 0.5 * torch.sum(1+ log_var - mean.pow(2) - log_var.exp())\n",
    "\n",
    "    return reconstruction_loss + KLD\n",
    "\n",
    "\n",
    "optimizer = Adam(model.parameters(), lr=lr)"
   ]
  },
  {
   "cell_type": "code",
   "execution_count": 79,
   "metadata": {},
   "outputs": [
    {
     "name": "stdout",
     "output_type": "stream",
     "text": [
      "Training VAE...\n",
      "\tEpoch 1 complete! \tAverage Loss:  173.78094217902233\n",
      "\tEpoch 2 complete! \tAverage Loss:  128.34900460728818\n",
      "\tEpoch 3 complete! \tAverage Loss:  117.53541030297892\n",
      "\tEpoch 4 complete! \tAverage Loss:  113.38513693069177\n",
      "\tEpoch 5 complete! \tAverage Loss:  110.14743812930405\n",
      "\tEpoch 6 complete! \tAverage Loss:  108.29960833159433\n",
      "\tEpoch 7 complete! \tAverage Loss:  106.95295415862375\n",
      "\tEpoch 8 complete! \tAverage Loss:  105.98925810595784\n",
      "\tEpoch 9 complete! \tAverage Loss:  105.19710383190734\n",
      "\tEpoch 10 complete! \tAverage Loss:  104.57479912810413\n",
      "\tEpoch 11 complete! \tAverage Loss:  104.09212481414336\n",
      "\tEpoch 12 complete! \tAverage Loss:  103.69582861083576\n",
      "\tEpoch 13 complete! \tAverage Loss:  103.35352366248435\n",
      "\tEpoch 14 complete! \tAverage Loss:  102.98651556304779\n",
      "\tEpoch 15 complete! \tAverage Loss:  102.71266934148059\n",
      "\tEpoch 16 complete! \tAverage Loss:  102.42430217354445\n",
      "\tEpoch 17 complete! \tAverage Loss:  102.19759897681031\n",
      "\tEpoch 18 complete! \tAverage Loss:  101.95291426465985\n",
      "\tEpoch 19 complete! \tAverage Loss:  101.75361918301336\n",
      "\tEpoch 20 complete! \tAverage Loss:  101.52969664610288\n",
      "\tEpoch 21 complete! \tAverage Loss:  101.36405876656407\n",
      "\tEpoch 22 complete! \tAverage Loss:  101.23378578555405\n",
      "\tEpoch 23 complete! \tAverage Loss:  101.08701678904946\n",
      "\tEpoch 24 complete! \tAverage Loss:  100.94339608983722\n",
      "\tEpoch 25 complete! \tAverage Loss:  100.8375632401659\n",
      "\tEpoch 26 complete! \tAverage Loss:  100.69674750886895\n",
      "\tEpoch 27 complete! \tAverage Loss:  100.60304623917466\n",
      "\tEpoch 28 complete! \tAverage Loss:  100.47164450516486\n",
      "\tEpoch 29 complete! \tAverage Loss:  100.43248558795909\n",
      "\tEpoch 30 complete! \tAverage Loss:  100.30581455746557\n",
      "Training Completed.\n"
     ]
    }
   ],
   "source": [
    "print(\"Training VAE...\")\n",
    "model.train()\n",
    "\n",
    "for epoch in range(epochs):\n",
    "    overall_loss = 0\n",
    "    for batch_idx, (x, _) in enumerate(train_loader):\n",
    "        x = x.view(batch_size, x_dim)\n",
    "        x = x\n",
    "\n",
    "        optimizer.zero_grad()\n",
    "\n",
    "        x_hat, mean, z_var = model(x)\n",
    "        loss = loss_function(x, x_hat, mean, z_var)\n",
    "        \n",
    "        overall_loss += loss.item()\n",
    "        \n",
    "        loss.backward()\n",
    "        optimizer.step()\n",
    "        \n",
    "    print(\"\\tEpoch\", epoch + 1, \"complete!\", \"\\tAverage Loss: \", overall_loss / (batch_idx*batch_size))\n",
    "    \n",
    "print(\"Training Completed.\")"
   ]
  }
 ],
 "metadata": {
  "kernelspec": {
   "display_name": "Python 3",
   "language": "python",
   "name": "python3"
  },
  "language_info": {
   "codemirror_mode": {
    "name": "ipython",
    "version": 3
   },
   "file_extension": ".py",
   "mimetype": "text/x-python",
   "name": "python",
   "nbconvert_exporter": "python",
   "pygments_lexer": "ipython3",
   "version": "3.8.12"
  },
  "orig_nbformat": 4
 },
 "nbformat": 4,
 "nbformat_minor": 2
}
